{
  "cells": [
    {
      "cell_type": "markdown",
      "metadata": {
        "id": "view-in-github",
        "colab_type": "text"
      },
      "source": [
        "<a href=\"https://colab.research.google.com/github/veranoviani/-Case-Study---Customer-Segmentation/blob/main/Vera_Noviani_Case_Study_Customer_Segmentation.ipynb\" target=\"_parent\"><img src=\"https://colab.research.google.com/assets/colab-badge.svg\" alt=\"Open In Colab\"/></a>"
      ]
    },
    {
      "cell_type": "markdown",
      "metadata": {
        "id": "p5cIRV8rjOnz"
      },
      "source": [
        "# Install and Load Packages"
      ]
    },
    {
      "cell_type": "code",
      "execution_count": 1,
      "metadata": {
        "id": "hJbG6e0_UbcC"
      },
      "outputs": [],
      "source": [
        "#!pip install yellowbrick"
      ]
    },
    {
      "cell_type": "code",
      "execution_count": 2,
      "metadata": {
        "id": "hmUejRE2UpzR"
      },
      "outputs": [],
      "source": [
        "import numpy as np\n",
        "import pandas as pd\n",
        "import seaborn as sns\n",
        "import matplotlib.pyplot as plt\n",
        "\n",
        "from scipy.spatial import ConvexHull\n",
        "\n",
        "from datetime import datetime\n",
        "\n",
        "from sklearn.cluster import KMeans\n",
        "from sklearn.preprocessing import StandardScaler\n",
        "from sklearn.decomposition import PCA\n",
        "\n",
        "from yellowbrick.cluster import KElbowVisualizer\n",
        "from yellowbrick.cluster import SilhouetteVisualizer"
      ]
    },
    {
      "cell_type": "markdown",
      "metadata": {
        "id": "3KFlS4HhjX7l"
      },
      "source": [
        "# Install Data "
      ]
    },
    {
      "cell_type": "code",
      "execution_count": 3,
      "metadata": {
        "id": "xZxOCexeUvAO"
      },
      "outputs": [],
      "source": [
        "df = pd.read_csv(\"https://raw.githubusercontent.com/hadimaster65555/dataset_for_teaching/main/dataset/superstore_dataset/global_superstore.csv\")\n"
      ]
    },
    {
      "cell_type": "markdown",
      "metadata": {
        "id": "obhSO6PCjfEu"
      },
      "source": [
        "# No 1 \n"
      ]
    },
    {
      "cell_type": "markdown",
      "metadata": {
        "id": "zGU29FHhjxIP"
      },
      "source": [
        "  # a. Kategori barang seperti apa yang memiliki jumlah penjualan terbesar dan penyumbang profit terbesar? "
      ]
    },
    {
      "cell_type": "code",
      "execution_count": 4,
      "metadata": {
        "colab": {
          "base_uri": "https://localhost:8080/",
          "height": 904
        },
        "id": "EVgy0LswoGUO",
        "outputId": "d5ba4a13-caaf-4412-e398-1e698cb9d93c"
      },
      "outputs": [
        {
          "output_type": "execute_result",
          "data": {
            "text/plain": [
              "       row_id        order_id            order_date             ship_date  \\\n",
              "0       32298  CA-2012-124891  2012-07-31T00:00:00Z  2012-07-31T00:00:00Z   \n",
              "2       25330   IN-2013-71249  2013-10-17T00:00:00Z  2013-10-18T00:00:00Z   \n",
              "4       47221    SG-2013-4320  2013-11-05T00:00:00Z  2013-11-06T00:00:00Z   \n",
              "5       22732   IN-2013-42360  2013-06-28T00:00:00Z  2013-07-01T00:00:00Z   \n",
              "6       30570   IN-2011-81826  2011-11-07T00:00:00Z  2011-11-09T00:00:00Z   \n",
              "...       ...             ...                   ...                   ...   \n",
              "51284   24175   IN-2014-57662  2014-08-05T00:00:00Z  2014-08-10T00:00:00Z   \n",
              "51285   29002   IN-2014-62366  2014-06-19T00:00:00Z  2014-06-19T00:00:00Z   \n",
              "51287   40470  US-2013-155768  2013-12-02T00:00:00Z  2013-12-02T00:00:00Z   \n",
              "51288    9596  MX-2012-140767  2012-02-18T00:00:00Z  2012-02-22T00:00:00Z   \n",
              "51289    6147  MX-2012-134460  2012-05-22T00:00:00Z  2012-05-26T00:00:00Z   \n",
              "\n",
              "            ship_mode customer_id      customer_name      segment  \\\n",
              "0            Same Day    RH-19495        Rick Hansen     Consumer   \n",
              "2         First Class    CR-12730       Craig Reiter     Consumer   \n",
              "4            Same Day     RH-9495        Rick Hansen     Consumer   \n",
              "5        Second Class    JM-15655        Jim Mitchum    Corporate   \n",
              "6         First Class    TS-21340      Toby Swindell     Consumer   \n",
              "...               ...         ...                ...          ...   \n",
              "51284  Standard Class    DB-13270  Deborah Brumfield  Home Office   \n",
              "51285        Same Day    KE-16420    Katrina Edelman    Corporate   \n",
              "51287        Same Day    LB-16795     Laurel Beltran  Home Office   \n",
              "51288  Standard Class    RB-19795         Ross Baird  Home Office   \n",
              "51289    Second Class    MC-18100      Mick Crebagga     Consumer   \n",
              "\n",
              "                city            state  ...        product_id         category  \\\n",
              "0      New York City         New York  ...   TEC-AC-10003033       Technology   \n",
              "2           Brisbane       Queensland  ...   TEC-PH-10004664       Technology   \n",
              "4              Dakar            Dakar  ...  TEC-SHA-10000501       Technology   \n",
              "5             Sydney  New South Wales  ...   TEC-PH-10000030       Technology   \n",
              "6            Porirua       Wellington  ...   FUR-CH-10004050        Furniture   \n",
              "...              ...              ...  ...               ...              ...   \n",
              "51284     Townsville       Queensland  ...   OFF-BI-10002424  Office Supplies   \n",
              "51285           Kure        Hiroshima  ...   OFF-FA-10000746  Office Supplies   \n",
              "51287         Oxnard       California  ...   OFF-EN-10001219  Office Supplies   \n",
              "51288       Valinhos        São Paulo  ...   OFF-BI-10000806  Office Supplies   \n",
              "51289       Tipitapa          Managua  ...   OFF-PA-10004155  Office Supplies   \n",
              "\n",
              "      sub_category                                       product_name  \\\n",
              "0      Accessories  Plantronics CS510 - Over-the-Head monaural Wir...   \n",
              "2           Phones                  Nokia Smart Phone, with Caller ID   \n",
              "4          Copiers                     Sharp Wireless Fax, High-Speed   \n",
              "5           Phones                Samsung Smart Phone, with Caller ID   \n",
              "6           Chairs     Novimex Executive Leather Armchair, Adjustable   \n",
              "...            ...                                                ...   \n",
              "51284      Binders                              Avery Binder, Economy   \n",
              "51285    Fasteners                      Advantus Thumb Tacks, 12 Pack   \n",
              "51287    Envelopes       #10- 4 1/8\" x 9 1/2\" Security-Tint Envelopes   \n",
              "51288      Binders                            Acco Index Tab, Economy   \n",
              "51289        Paper            Eaton Computer Printout Paper, 8.5 x 11   \n",
              "\n",
              "          sales quantity discount    profit  shipping_cost  order_priority  \n",
              "0      2309.650        7      0.0  762.1845        933.570        Critical  \n",
              "2      5175.171        9      0.1  919.9710        915.490          Medium  \n",
              "4      2832.960        8      0.0  311.5200        903.040        Critical  \n",
              "5      2862.675        5      0.1  763.2750        897.350        Critical  \n",
              "6      1822.080        4      0.0  564.8400        894.770        Critical  \n",
              "...         ...      ...      ...       ...            ...             ...  \n",
              "51284    58.050        5      0.1   19.9500          0.010          Medium  \n",
              "51285    65.100        5      0.0    4.5000          0.010          Medium  \n",
              "51287    22.920        3      0.0   11.2308          0.010            High  \n",
              "51288    13.440        2      0.0    2.4000          0.003          Medium  \n",
              "51289    61.380        3      0.0    1.8000          0.002            High  \n",
              "\n",
              "[38078 rows x 24 columns]"
            ],
            "text/html": [
              "\n",
              "  <div id=\"df-9b509909-ab41-43a9-a1fd-8852d8e57575\">\n",
              "    <div class=\"colab-df-container\">\n",
              "      <div>\n",
              "<style scoped>\n",
              "    .dataframe tbody tr th:only-of-type {\n",
              "        vertical-align: middle;\n",
              "    }\n",
              "\n",
              "    .dataframe tbody tr th {\n",
              "        vertical-align: top;\n",
              "    }\n",
              "\n",
              "    .dataframe thead th {\n",
              "        text-align: right;\n",
              "    }\n",
              "</style>\n",
              "<table border=\"1\" class=\"dataframe\">\n",
              "  <thead>\n",
              "    <tr style=\"text-align: right;\">\n",
              "      <th></th>\n",
              "      <th>row_id</th>\n",
              "      <th>order_id</th>\n",
              "      <th>order_date</th>\n",
              "      <th>ship_date</th>\n",
              "      <th>ship_mode</th>\n",
              "      <th>customer_id</th>\n",
              "      <th>customer_name</th>\n",
              "      <th>segment</th>\n",
              "      <th>city</th>\n",
              "      <th>state</th>\n",
              "      <th>...</th>\n",
              "      <th>product_id</th>\n",
              "      <th>category</th>\n",
              "      <th>sub_category</th>\n",
              "      <th>product_name</th>\n",
              "      <th>sales</th>\n",
              "      <th>quantity</th>\n",
              "      <th>discount</th>\n",
              "      <th>profit</th>\n",
              "      <th>shipping_cost</th>\n",
              "      <th>order_priority</th>\n",
              "    </tr>\n",
              "  </thead>\n",
              "  <tbody>\n",
              "    <tr>\n",
              "      <th>0</th>\n",
              "      <td>32298</td>\n",
              "      <td>CA-2012-124891</td>\n",
              "      <td>2012-07-31T00:00:00Z</td>\n",
              "      <td>2012-07-31T00:00:00Z</td>\n",
              "      <td>Same Day</td>\n",
              "      <td>RH-19495</td>\n",
              "      <td>Rick Hansen</td>\n",
              "      <td>Consumer</td>\n",
              "      <td>New York City</td>\n",
              "      <td>New York</td>\n",
              "      <td>...</td>\n",
              "      <td>TEC-AC-10003033</td>\n",
              "      <td>Technology</td>\n",
              "      <td>Accessories</td>\n",
              "      <td>Plantronics CS510 - Over-the-Head monaural Wir...</td>\n",
              "      <td>2309.650</td>\n",
              "      <td>7</td>\n",
              "      <td>0.0</td>\n",
              "      <td>762.1845</td>\n",
              "      <td>933.570</td>\n",
              "      <td>Critical</td>\n",
              "    </tr>\n",
              "    <tr>\n",
              "      <th>2</th>\n",
              "      <td>25330</td>\n",
              "      <td>IN-2013-71249</td>\n",
              "      <td>2013-10-17T00:00:00Z</td>\n",
              "      <td>2013-10-18T00:00:00Z</td>\n",
              "      <td>First Class</td>\n",
              "      <td>CR-12730</td>\n",
              "      <td>Craig Reiter</td>\n",
              "      <td>Consumer</td>\n",
              "      <td>Brisbane</td>\n",
              "      <td>Queensland</td>\n",
              "      <td>...</td>\n",
              "      <td>TEC-PH-10004664</td>\n",
              "      <td>Technology</td>\n",
              "      <td>Phones</td>\n",
              "      <td>Nokia Smart Phone, with Caller ID</td>\n",
              "      <td>5175.171</td>\n",
              "      <td>9</td>\n",
              "      <td>0.1</td>\n",
              "      <td>919.9710</td>\n",
              "      <td>915.490</td>\n",
              "      <td>Medium</td>\n",
              "    </tr>\n",
              "    <tr>\n",
              "      <th>4</th>\n",
              "      <td>47221</td>\n",
              "      <td>SG-2013-4320</td>\n",
              "      <td>2013-11-05T00:00:00Z</td>\n",
              "      <td>2013-11-06T00:00:00Z</td>\n",
              "      <td>Same Day</td>\n",
              "      <td>RH-9495</td>\n",
              "      <td>Rick Hansen</td>\n",
              "      <td>Consumer</td>\n",
              "      <td>Dakar</td>\n",
              "      <td>Dakar</td>\n",
              "      <td>...</td>\n",
              "      <td>TEC-SHA-10000501</td>\n",
              "      <td>Technology</td>\n",
              "      <td>Copiers</td>\n",
              "      <td>Sharp Wireless Fax, High-Speed</td>\n",
              "      <td>2832.960</td>\n",
              "      <td>8</td>\n",
              "      <td>0.0</td>\n",
              "      <td>311.5200</td>\n",
              "      <td>903.040</td>\n",
              "      <td>Critical</td>\n",
              "    </tr>\n",
              "    <tr>\n",
              "      <th>5</th>\n",
              "      <td>22732</td>\n",
              "      <td>IN-2013-42360</td>\n",
              "      <td>2013-06-28T00:00:00Z</td>\n",
              "      <td>2013-07-01T00:00:00Z</td>\n",
              "      <td>Second Class</td>\n",
              "      <td>JM-15655</td>\n",
              "      <td>Jim Mitchum</td>\n",
              "      <td>Corporate</td>\n",
              "      <td>Sydney</td>\n",
              "      <td>New South Wales</td>\n",
              "      <td>...</td>\n",
              "      <td>TEC-PH-10000030</td>\n",
              "      <td>Technology</td>\n",
              "      <td>Phones</td>\n",
              "      <td>Samsung Smart Phone, with Caller ID</td>\n",
              "      <td>2862.675</td>\n",
              "      <td>5</td>\n",
              "      <td>0.1</td>\n",
              "      <td>763.2750</td>\n",
              "      <td>897.350</td>\n",
              "      <td>Critical</td>\n",
              "    </tr>\n",
              "    <tr>\n",
              "      <th>6</th>\n",
              "      <td>30570</td>\n",
              "      <td>IN-2011-81826</td>\n",
              "      <td>2011-11-07T00:00:00Z</td>\n",
              "      <td>2011-11-09T00:00:00Z</td>\n",
              "      <td>First Class</td>\n",
              "      <td>TS-21340</td>\n",
              "      <td>Toby Swindell</td>\n",
              "      <td>Consumer</td>\n",
              "      <td>Porirua</td>\n",
              "      <td>Wellington</td>\n",
              "      <td>...</td>\n",
              "      <td>FUR-CH-10004050</td>\n",
              "      <td>Furniture</td>\n",
              "      <td>Chairs</td>\n",
              "      <td>Novimex Executive Leather Armchair, Adjustable</td>\n",
              "      <td>1822.080</td>\n",
              "      <td>4</td>\n",
              "      <td>0.0</td>\n",
              "      <td>564.8400</td>\n",
              "      <td>894.770</td>\n",
              "      <td>Critical</td>\n",
              "    </tr>\n",
              "    <tr>\n",
              "      <th>...</th>\n",
              "      <td>...</td>\n",
              "      <td>...</td>\n",
              "      <td>...</td>\n",
              "      <td>...</td>\n",
              "      <td>...</td>\n",
              "      <td>...</td>\n",
              "      <td>...</td>\n",
              "      <td>...</td>\n",
              "      <td>...</td>\n",
              "      <td>...</td>\n",
              "      <td>...</td>\n",
              "      <td>...</td>\n",
              "      <td>...</td>\n",
              "      <td>...</td>\n",
              "      <td>...</td>\n",
              "      <td>...</td>\n",
              "      <td>...</td>\n",
              "      <td>...</td>\n",
              "      <td>...</td>\n",
              "      <td>...</td>\n",
              "      <td>...</td>\n",
              "    </tr>\n",
              "    <tr>\n",
              "      <th>51284</th>\n",
              "      <td>24175</td>\n",
              "      <td>IN-2014-57662</td>\n",
              "      <td>2014-08-05T00:00:00Z</td>\n",
              "      <td>2014-08-10T00:00:00Z</td>\n",
              "      <td>Standard Class</td>\n",
              "      <td>DB-13270</td>\n",
              "      <td>Deborah Brumfield</td>\n",
              "      <td>Home Office</td>\n",
              "      <td>Townsville</td>\n",
              "      <td>Queensland</td>\n",
              "      <td>...</td>\n",
              "      <td>OFF-BI-10002424</td>\n",
              "      <td>Office Supplies</td>\n",
              "      <td>Binders</td>\n",
              "      <td>Avery Binder, Economy</td>\n",
              "      <td>58.050</td>\n",
              "      <td>5</td>\n",
              "      <td>0.1</td>\n",
              "      <td>19.9500</td>\n",
              "      <td>0.010</td>\n",
              "      <td>Medium</td>\n",
              "    </tr>\n",
              "    <tr>\n",
              "      <th>51285</th>\n",
              "      <td>29002</td>\n",
              "      <td>IN-2014-62366</td>\n",
              "      <td>2014-06-19T00:00:00Z</td>\n",
              "      <td>2014-06-19T00:00:00Z</td>\n",
              "      <td>Same Day</td>\n",
              "      <td>KE-16420</td>\n",
              "      <td>Katrina Edelman</td>\n",
              "      <td>Corporate</td>\n",
              "      <td>Kure</td>\n",
              "      <td>Hiroshima</td>\n",
              "      <td>...</td>\n",
              "      <td>OFF-FA-10000746</td>\n",
              "      <td>Office Supplies</td>\n",
              "      <td>Fasteners</td>\n",
              "      <td>Advantus Thumb Tacks, 12 Pack</td>\n",
              "      <td>65.100</td>\n",
              "      <td>5</td>\n",
              "      <td>0.0</td>\n",
              "      <td>4.5000</td>\n",
              "      <td>0.010</td>\n",
              "      <td>Medium</td>\n",
              "    </tr>\n",
              "    <tr>\n",
              "      <th>51287</th>\n",
              "      <td>40470</td>\n",
              "      <td>US-2013-155768</td>\n",
              "      <td>2013-12-02T00:00:00Z</td>\n",
              "      <td>2013-12-02T00:00:00Z</td>\n",
              "      <td>Same Day</td>\n",
              "      <td>LB-16795</td>\n",
              "      <td>Laurel Beltran</td>\n",
              "      <td>Home Office</td>\n",
              "      <td>Oxnard</td>\n",
              "      <td>California</td>\n",
              "      <td>...</td>\n",
              "      <td>OFF-EN-10001219</td>\n",
              "      <td>Office Supplies</td>\n",
              "      <td>Envelopes</td>\n",
              "      <td>#10- 4 1/8\" x 9 1/2\" Security-Tint Envelopes</td>\n",
              "      <td>22.920</td>\n",
              "      <td>3</td>\n",
              "      <td>0.0</td>\n",
              "      <td>11.2308</td>\n",
              "      <td>0.010</td>\n",
              "      <td>High</td>\n",
              "    </tr>\n",
              "    <tr>\n",
              "      <th>51288</th>\n",
              "      <td>9596</td>\n",
              "      <td>MX-2012-140767</td>\n",
              "      <td>2012-02-18T00:00:00Z</td>\n",
              "      <td>2012-02-22T00:00:00Z</td>\n",
              "      <td>Standard Class</td>\n",
              "      <td>RB-19795</td>\n",
              "      <td>Ross Baird</td>\n",
              "      <td>Home Office</td>\n",
              "      <td>Valinhos</td>\n",
              "      <td>São Paulo</td>\n",
              "      <td>...</td>\n",
              "      <td>OFF-BI-10000806</td>\n",
              "      <td>Office Supplies</td>\n",
              "      <td>Binders</td>\n",
              "      <td>Acco Index Tab, Economy</td>\n",
              "      <td>13.440</td>\n",
              "      <td>2</td>\n",
              "      <td>0.0</td>\n",
              "      <td>2.4000</td>\n",
              "      <td>0.003</td>\n",
              "      <td>Medium</td>\n",
              "    </tr>\n",
              "    <tr>\n",
              "      <th>51289</th>\n",
              "      <td>6147</td>\n",
              "      <td>MX-2012-134460</td>\n",
              "      <td>2012-05-22T00:00:00Z</td>\n",
              "      <td>2012-05-26T00:00:00Z</td>\n",
              "      <td>Second Class</td>\n",
              "      <td>MC-18100</td>\n",
              "      <td>Mick Crebagga</td>\n",
              "      <td>Consumer</td>\n",
              "      <td>Tipitapa</td>\n",
              "      <td>Managua</td>\n",
              "      <td>...</td>\n",
              "      <td>OFF-PA-10004155</td>\n",
              "      <td>Office Supplies</td>\n",
              "      <td>Paper</td>\n",
              "      <td>Eaton Computer Printout Paper, 8.5 x 11</td>\n",
              "      <td>61.380</td>\n",
              "      <td>3</td>\n",
              "      <td>0.0</td>\n",
              "      <td>1.8000</td>\n",
              "      <td>0.002</td>\n",
              "      <td>High</td>\n",
              "    </tr>\n",
              "  </tbody>\n",
              "</table>\n",
              "<p>38078 rows × 24 columns</p>\n",
              "</div>\n",
              "      <button class=\"colab-df-convert\" onclick=\"convertToInteractive('df-9b509909-ab41-43a9-a1fd-8852d8e57575')\"\n",
              "              title=\"Convert this dataframe to an interactive table.\"\n",
              "              style=\"display:none;\">\n",
              "        \n",
              "  <svg xmlns=\"http://www.w3.org/2000/svg\" height=\"24px\"viewBox=\"0 0 24 24\"\n",
              "       width=\"24px\">\n",
              "    <path d=\"M0 0h24v24H0V0z\" fill=\"none\"/>\n",
              "    <path d=\"M18.56 5.44l.94 2.06.94-2.06 2.06-.94-2.06-.94-.94-2.06-.94 2.06-2.06.94zm-11 1L8.5 8.5l.94-2.06 2.06-.94-2.06-.94L8.5 2.5l-.94 2.06-2.06.94zm10 10l.94 2.06.94-2.06 2.06-.94-2.06-.94-.94-2.06-.94 2.06-2.06.94z\"/><path d=\"M17.41 7.96l-1.37-1.37c-.4-.4-.92-.59-1.43-.59-.52 0-1.04.2-1.43.59L10.3 9.45l-7.72 7.72c-.78.78-.78 2.05 0 2.83L4 21.41c.39.39.9.59 1.41.59.51 0 1.02-.2 1.41-.59l7.78-7.78 2.81-2.81c.8-.78.8-2.07 0-2.86zM5.41 20L4 18.59l7.72-7.72 1.47 1.35L5.41 20z\"/>\n",
              "  </svg>\n",
              "      </button>\n",
              "      \n",
              "  <style>\n",
              "    .colab-df-container {\n",
              "      display:flex;\n",
              "      flex-wrap:wrap;\n",
              "      gap: 12px;\n",
              "    }\n",
              "\n",
              "    .colab-df-convert {\n",
              "      background-color: #E8F0FE;\n",
              "      border: none;\n",
              "      border-radius: 50%;\n",
              "      cursor: pointer;\n",
              "      display: none;\n",
              "      fill: #1967D2;\n",
              "      height: 32px;\n",
              "      padding: 0 0 0 0;\n",
              "      width: 32px;\n",
              "    }\n",
              "\n",
              "    .colab-df-convert:hover {\n",
              "      background-color: #E2EBFA;\n",
              "      box-shadow: 0px 1px 2px rgba(60, 64, 67, 0.3), 0px 1px 3px 1px rgba(60, 64, 67, 0.15);\n",
              "      fill: #174EA6;\n",
              "    }\n",
              "\n",
              "    [theme=dark] .colab-df-convert {\n",
              "      background-color: #3B4455;\n",
              "      fill: #D2E3FC;\n",
              "    }\n",
              "\n",
              "    [theme=dark] .colab-df-convert:hover {\n",
              "      background-color: #434B5C;\n",
              "      box-shadow: 0px 1px 3px 1px rgba(0, 0, 0, 0.15);\n",
              "      filter: drop-shadow(0px 1px 2px rgba(0, 0, 0, 0.3));\n",
              "      fill: #FFFFFF;\n",
              "    }\n",
              "  </style>\n",
              "\n",
              "      <script>\n",
              "        const buttonEl =\n",
              "          document.querySelector('#df-9b509909-ab41-43a9-a1fd-8852d8e57575 button.colab-df-convert');\n",
              "        buttonEl.style.display =\n",
              "          google.colab.kernel.accessAllowed ? 'block' : 'none';\n",
              "\n",
              "        async function convertToInteractive(key) {\n",
              "          const element = document.querySelector('#df-9b509909-ab41-43a9-a1fd-8852d8e57575');\n",
              "          const dataTable =\n",
              "            await google.colab.kernel.invokeFunction('convertToInteractive',\n",
              "                                                     [key], {});\n",
              "          if (!dataTable) return;\n",
              "\n",
              "          const docLinkHtml = 'Like what you see? Visit the ' +\n",
              "            '<a target=\"_blank\" href=https://colab.research.google.com/notebooks/data_table.ipynb>data table notebook</a>'\n",
              "            + ' to learn more about interactive tables.';\n",
              "          element.innerHTML = '';\n",
              "          dataTable['output_type'] = 'display_data';\n",
              "          await google.colab.output.renderOutput(dataTable, element);\n",
              "          const docLink = document.createElement('div');\n",
              "          docLink.innerHTML = docLinkHtml;\n",
              "          element.appendChild(docLink);\n",
              "        }\n",
              "      </script>\n",
              "    </div>\n",
              "  </div>\n",
              "  "
            ]
          },
          "metadata": {},
          "execution_count": 4
        }
      ],
      "source": [
        "# cek data cleaning dari nilai profit\n",
        "df1 = df[df['profit']>0]\n",
        "df1"
      ]
    },
    {
      "cell_type": "code",
      "execution_count": 5,
      "metadata": {
        "colab": {
          "base_uri": "https://localhost:8080/"
        },
        "id": "cuBvEElydFZp",
        "outputId": "4142ef00-689c-47b1-f94d-2e201769d1a2"
      },
      "outputs": [
        {
          "output_type": "execute_result",
          "data": {
            "text/plain": [
              "category\n",
              "Furniture          655373.5635\n",
              "Office Supplies    782455.7519\n",
              "Technology         950274.1316\n",
              "Name: profit, dtype: float64"
            ]
          },
          "metadata": {},
          "execution_count": 5
        }
      ],
      "source": [
        "df1.groupby(\"category\")[\"profit\"].sum()\n"
      ]
    },
    {
      "cell_type": "code",
      "execution_count": 6,
      "metadata": {
        "colab": {
          "base_uri": "https://localhost:8080/",
          "height": 143
        },
        "id": "FaqvJp7-d6ht",
        "outputId": "9ff5d519-a300-4d7d-e3af-b0b8dd367803"
      },
      "outputs": [
        {
          "output_type": "execute_result",
          "data": {
            "text/plain": [
              "                       count     cumperc\n",
              "Technology       950274.1316   39.792000\n",
              "Office Supplies  782455.7519   72.556735\n",
              "Furniture        655373.5635  100.000000"
            ],
            "text/html": [
              "\n",
              "  <div id=\"df-47484dad-5f0d-4fdb-8c2f-8d152b1ffcd3\">\n",
              "    <div class=\"colab-df-container\">\n",
              "      <div>\n",
              "<style scoped>\n",
              "    .dataframe tbody tr th:only-of-type {\n",
              "        vertical-align: middle;\n",
              "    }\n",
              "\n",
              "    .dataframe tbody tr th {\n",
              "        vertical-align: top;\n",
              "    }\n",
              "\n",
              "    .dataframe thead th {\n",
              "        text-align: right;\n",
              "    }\n",
              "</style>\n",
              "<table border=\"1\" class=\"dataframe\">\n",
              "  <thead>\n",
              "    <tr style=\"text-align: right;\">\n",
              "      <th></th>\n",
              "      <th>count</th>\n",
              "      <th>cumperc</th>\n",
              "    </tr>\n",
              "  </thead>\n",
              "  <tbody>\n",
              "    <tr>\n",
              "      <th>Technology</th>\n",
              "      <td>950274.1316</td>\n",
              "      <td>39.792000</td>\n",
              "    </tr>\n",
              "    <tr>\n",
              "      <th>Office Supplies</th>\n",
              "      <td>782455.7519</td>\n",
              "      <td>72.556735</td>\n",
              "    </tr>\n",
              "    <tr>\n",
              "      <th>Furniture</th>\n",
              "      <td>655373.5635</td>\n",
              "      <td>100.000000</td>\n",
              "    </tr>\n",
              "  </tbody>\n",
              "</table>\n",
              "</div>\n",
              "      <button class=\"colab-df-convert\" onclick=\"convertToInteractive('df-47484dad-5f0d-4fdb-8c2f-8d152b1ffcd3')\"\n",
              "              title=\"Convert this dataframe to an interactive table.\"\n",
              "              style=\"display:none;\">\n",
              "        \n",
              "  <svg xmlns=\"http://www.w3.org/2000/svg\" height=\"24px\"viewBox=\"0 0 24 24\"\n",
              "       width=\"24px\">\n",
              "    <path d=\"M0 0h24v24H0V0z\" fill=\"none\"/>\n",
              "    <path d=\"M18.56 5.44l.94 2.06.94-2.06 2.06-.94-2.06-.94-.94-2.06-.94 2.06-2.06.94zm-11 1L8.5 8.5l.94-2.06 2.06-.94-2.06-.94L8.5 2.5l-.94 2.06-2.06.94zm10 10l.94 2.06.94-2.06 2.06-.94-2.06-.94-.94-2.06-.94 2.06-2.06.94z\"/><path d=\"M17.41 7.96l-1.37-1.37c-.4-.4-.92-.59-1.43-.59-.52 0-1.04.2-1.43.59L10.3 9.45l-7.72 7.72c-.78.78-.78 2.05 0 2.83L4 21.41c.39.39.9.59 1.41.59.51 0 1.02-.2 1.41-.59l7.78-7.78 2.81-2.81c.8-.78.8-2.07 0-2.86zM5.41 20L4 18.59l7.72-7.72 1.47 1.35L5.41 20z\"/>\n",
              "  </svg>\n",
              "      </button>\n",
              "      \n",
              "  <style>\n",
              "    .colab-df-container {\n",
              "      display:flex;\n",
              "      flex-wrap:wrap;\n",
              "      gap: 12px;\n",
              "    }\n",
              "\n",
              "    .colab-df-convert {\n",
              "      background-color: #E8F0FE;\n",
              "      border: none;\n",
              "      border-radius: 50%;\n",
              "      cursor: pointer;\n",
              "      display: none;\n",
              "      fill: #1967D2;\n",
              "      height: 32px;\n",
              "      padding: 0 0 0 0;\n",
              "      width: 32px;\n",
              "    }\n",
              "\n",
              "    .colab-df-convert:hover {\n",
              "      background-color: #E2EBFA;\n",
              "      box-shadow: 0px 1px 2px rgba(60, 64, 67, 0.3), 0px 1px 3px 1px rgba(60, 64, 67, 0.15);\n",
              "      fill: #174EA6;\n",
              "    }\n",
              "\n",
              "    [theme=dark] .colab-df-convert {\n",
              "      background-color: #3B4455;\n",
              "      fill: #D2E3FC;\n",
              "    }\n",
              "\n",
              "    [theme=dark] .colab-df-convert:hover {\n",
              "      background-color: #434B5C;\n",
              "      box-shadow: 0px 1px 3px 1px rgba(0, 0, 0, 0.15);\n",
              "      filter: drop-shadow(0px 1px 2px rgba(0, 0, 0, 0.3));\n",
              "      fill: #FFFFFF;\n",
              "    }\n",
              "  </style>\n",
              "\n",
              "      <script>\n",
              "        const buttonEl =\n",
              "          document.querySelector('#df-47484dad-5f0d-4fdb-8c2f-8d152b1ffcd3 button.colab-df-convert');\n",
              "        buttonEl.style.display =\n",
              "          google.colab.kernel.accessAllowed ? 'block' : 'none';\n",
              "\n",
              "        async function convertToInteractive(key) {\n",
              "          const element = document.querySelector('#df-47484dad-5f0d-4fdb-8c2f-8d152b1ffcd3');\n",
              "          const dataTable =\n",
              "            await google.colab.kernel.invokeFunction('convertToInteractive',\n",
              "                                                     [key], {});\n",
              "          if (!dataTable) return;\n",
              "\n",
              "          const docLinkHtml = 'Like what you see? Visit the ' +\n",
              "            '<a target=\"_blank\" href=https://colab.research.google.com/notebooks/data_table.ipynb>data table notebook</a>'\n",
              "            + ' to learn more about interactive tables.';\n",
              "          element.innerHTML = '';\n",
              "          dataTable['output_type'] = 'display_data';\n",
              "          await google.colab.output.renderOutput(dataTable, element);\n",
              "          const docLink = document.createElement('div');\n",
              "          docLink.innerHTML = docLinkHtml;\n",
              "          element.appendChild(docLink);\n",
              "        }\n",
              "      </script>\n",
              "    </div>\n",
              "  </div>\n",
              "  "
            ]
          },
          "metadata": {},
          "execution_count": 6
        }
      ],
      "source": [
        "#create DataFrame\n",
        "df2 = pd.DataFrame({'count': [655373.5635 ,  782455.7519\t,  950274.1316 ,   ]})\n",
        "df2.index = ['Furniture', 'Office Supplies', 'Technology']\n",
        "\n",
        "#sort DataFrame by count descending\n",
        "df2 = df2.sort_values(by='count', ascending=False)\n",
        "\n",
        "#add column to display cumulative percentage\n",
        "df2['cumperc'] = df2['count'].cumsum()/df2['count'].sum()*100\n",
        "\n",
        "#view DataFrame\n",
        "df2"
      ]
    },
    {
      "cell_type": "code",
      "execution_count": 7,
      "metadata": {
        "colab": {
          "base_uri": "https://localhost:8080/",
          "height": 347
        },
        "id": "MiC7KEhRdz-h",
        "outputId": "2380a87c-d915-4dad-ea15-e78c51cafe9b"
      },
      "outputs": [
        {
          "output_type": "display_data",
          "data": {
            "text/plain": [
              "<Figure size 576x396 with 2 Axes>"
            ],
            "image/png": "[encoded data removed]"
          },
          "metadata": {}
        }
      ],
      "source": [
        "import matplotlib.pyplot as plt\n",
        "from matplotlib.ticker import PercentFormatter\n",
        "\n",
        "#define aesthetics for plot\n",
        "color1 = 'steelblue'\n",
        "color2 = 'red'\n",
        "line_size = 4\n",
        "\n",
        "#create basic bar plot\n",
        "fig, ax = plt.subplots()\n",
        "ax.bar(df2.index, df2['count'], color=color1)\n",
        "\n",
        "#add cumulative percentage line to plot\n",
        "ax2 = ax.twinx()\n",
        "ax2.plot(df2.index, df2['cumperc'], color=color2, marker=\"D\", ms=line_size)\n",
        "ax2.yaxis.set_major_formatter(PercentFormatter())\n",
        "\n",
        "#specify axis colors\n",
        "ax.tick_params(axis='y', colors=color1)\n",
        "ax2.tick_params(axis='y', colors=color2)\n",
        "\n",
        "#display Pareto chart\n",
        "plt.show()"
      ]
    },
    {
      "cell_type": "markdown",
      "metadata": {
        "id": "Gxhb9k6KTnNC"
      },
      "source": [
        "Dari kategori barang di atas yang menyumbang profit terbesar adalah office supplies dan technology"
      ]
    },
    {
      "cell_type": "markdown",
      "metadata": {
        "id": "N1rEE5Urqn3g"
      },
      "source": [
        "   # b. Subkategori apa yang memiliki penjualan dan profit terbesar? "
      ]
    },
    {
      "cell_type": "code",
      "execution_count": 8,
      "metadata": {
        "colab": {
          "base_uri": "https://localhost:8080/"
        },
        "id": "xYD9rPBiqyhj",
        "outputId": "b585c9e5-fb1d-432b-e4d3-97d813138a25"
      },
      "outputs": [
        {
          "output_type": "execute_result",
          "data": {
            "text/plain": [
              "sub_category\n",
              "Accessories    169483.8044\n",
              "Appliances     205672.2798\n",
              "Art             79614.5386\n",
              "Binders        125333.9073\n",
              "Bookcases      263370.7168\n",
              "Chairs         236481.1644\n",
              "Copiers        330115.0480\n",
              "Envelopes       40464.6818\n",
              "Fasteners       17798.7240\n",
              "Furnishings     75481.9224\n",
              "Labels          18771.2821\n",
              "Machines       137540.6133\n",
              "Paper           69507.1764\n",
              "Phones         313134.6659\n",
              "Storage        184525.4678\n",
              "Supplies        40767.6941\n",
              "Tables          80039.7599\n",
              "Name: profit, dtype: float64"
            ]
          },
          "metadata": {},
          "execution_count": 8
        }
      ],
      "source": [
        "df1.groupby(\"sub_category\")[\"profit\"].sum()"
      ]
    },
    {
      "cell_type": "code",
      "execution_count": 9,
      "metadata": {
        "colab": {
          "base_uri": "https://localhost:8080/",
          "height": 582
        },
        "id": "X3ecik0-flGX",
        "outputId": "7b8e0ca5-83f9-4472-c7d0-2a792238efa9"
      },
      "outputs": [
        {
          "output_type": "execute_result",
          "data": {
            "text/plain": [
              "                    count     cumperc\n",
              "Copiers       330115.0480   13.823314\n",
              "Phones        313134.6659   26.935588\n",
              "Bookcases     263370.7168   37.964035\n",
              "Chairs        236481.1644   47.866502\n",
              "Appliances    205672.2798   56.478871\n",
              "Storage       184525.4678   64.205734\n",
              "Accessories   169483.8044   71.302738\n",
              "Machines      137540.6133   77.062146\n",
              "Binders       125333.9073   82.310407\n",
              "Tables         80039.7599   85.662011\n",
              "Art            79614.5386   88.995808\n",
              "Furnishings    75481.9224   92.156556\n",
              "Paper          69507.1764   95.067116\n",
              "Supplies       40767.6941   96.774232\n",
              "Envelopes      40464.6818   98.468659\n",
              "Labels         18771.2821   99.254692\n",
              "Fasteners      17798.7240  100.000000"
            ],
            "text/html": [
              "\n",
              "  <div id=\"df-72eb3941-7ee7-4b57-a3f9-01b9dce6e0e5\">\n",
              "    <div class=\"colab-df-container\">\n",
              "      <div>\n",
              "<style scoped>\n",
              "    .dataframe tbody tr th:only-of-type {\n",
              "        vertical-align: middle;\n",
              "    }\n",
              "\n",
              "    .dataframe tbody tr th {\n",
              "        vertical-align: top;\n",
              "    }\n",
              "\n",
              "    .dataframe thead th {\n",
              "        text-align: right;\n",
              "    }\n",
              "</style>\n",
              "<table border=\"1\" class=\"dataframe\">\n",
              "  <thead>\n",
              "    <tr style=\"text-align: right;\">\n",
              "      <th></th>\n",
              "      <th>count</th>\n",
              "      <th>cumperc</th>\n",
              "    </tr>\n",
              "  </thead>\n",
              "  <tbody>\n",
              "    <tr>\n",
              "      <th>Copiers</th>\n",
              "      <td>330115.0480</td>\n",
              "      <td>13.823314</td>\n",
              "    </tr>\n",
              "    <tr>\n",
              "      <th>Phones</th>\n",
              "      <td>313134.6659</td>\n",
              "      <td>26.935588</td>\n",
              "    </tr>\n",
              "    <tr>\n",
              "      <th>Bookcases</th>\n",
              "      <td>263370.7168</td>\n",
              "      <td>37.964035</td>\n",
              "    </tr>\n",
              "    <tr>\n",
              "      <th>Chairs</th>\n",
              "      <td>236481.1644</td>\n",
              "      <td>47.866502</td>\n",
              "    </tr>\n",
              "    <tr>\n",
              "      <th>Appliances</th>\n",
              "      <td>205672.2798</td>\n",
              "      <td>56.478871</td>\n",
              "    </tr>\n",
              "    <tr>\n",
              "      <th>Storage</th>\n",
              "      <td>184525.4678</td>\n",
              "      <td>64.205734</td>\n",
              "    </tr>\n",
              "    <tr>\n",
              "      <th>Accessories</th>\n",
              "      <td>169483.8044</td>\n",
              "      <td>71.302738</td>\n",
              "    </tr>\n",
              "    <tr>\n",
              "      <th>Machines</th>\n",
              "      <td>137540.6133</td>\n",
              "      <td>77.062146</td>\n",
              "    </tr>\n",
              "    <tr>\n",
              "      <th>Binders</th>\n",
              "      <td>125333.9073</td>\n",
              "      <td>82.310407</td>\n",
              "    </tr>\n",
              "    <tr>\n",
              "      <th>Tables</th>\n",
              "      <td>80039.7599</td>\n",
              "      <td>85.662011</td>\n",
              "    </tr>\n",
              "    <tr>\n",
              "      <th>Art</th>\n",
              "      <td>79614.5386</td>\n",
              "      <td>88.995808</td>\n",
              "    </tr>\n",
              "    <tr>\n",
              "      <th>Furnishings</th>\n",
              "      <td>75481.9224</td>\n",
              "      <td>92.156556</td>\n",
              "    </tr>\n",
              "    <tr>\n",
              "      <th>Paper</th>\n",
              "      <td>69507.1764</td>\n",
              "      <td>95.067116</td>\n",
              "    </tr>\n",
              "    <tr>\n",
              "      <th>Supplies</th>\n",
              "      <td>40767.6941</td>\n",
              "      <td>96.774232</td>\n",
              "    </tr>\n",
              "    <tr>\n",
              "      <th>Envelopes</th>\n",
              "      <td>40464.6818</td>\n",
              "      <td>98.468659</td>\n",
              "    </tr>\n",
              "    <tr>\n",
              "      <th>Labels</th>\n",
              "      <td>18771.2821</td>\n",
              "      <td>99.254692</td>\n",
              "    </tr>\n",
              "    <tr>\n",
              "      <th>Fasteners</th>\n",
              "      <td>17798.7240</td>\n",
              "      <td>100.000000</td>\n",
              "    </tr>\n",
              "  </tbody>\n",
              "</table>\n",
              "</div>\n",
              "      <button class=\"colab-df-convert\" onclick=\"convertToInteractive('df-72eb3941-7ee7-4b57-a3f9-01b9dce6e0e5')\"\n",
              "              title=\"Convert this dataframe to an interactive table.\"\n",
              "              style=\"display:none;\">\n",
              "        \n",
              "  <svg xmlns=\"http://www.w3.org/2000/svg\" height=\"24px\"viewBox=\"0 0 24 24\"\n",
              "       width=\"24px\">\n",
              "    <path d=\"M0 0h24v24H0V0z\" fill=\"none\"/>\n",
              "    <path d=\"M18.56 5.44l.94 2.06.94-2.06 2.06-.94-2.06-.94-.94-2.06-.94 2.06-2.06.94zm-11 1L8.5 8.5l.94-2.06 2.06-.94-2.06-.94L8.5 2.5l-.94 2.06-2.06.94zm10 10l.94 2.06.94-2.06 2.06-.94-2.06-.94-.94-2.06-.94 2.06-2.06.94z\"/><path d=\"M17.41 7.96l-1.37-1.37c-.4-.4-.92-.59-1.43-.59-.52 0-1.04.2-1.43.59L10.3 9.45l-7.72 7.72c-.78.78-.78 2.05 0 2.83L4 21.41c.39.39.9.59 1.41.59.51 0 1.02-.2 1.41-.59l7.78-7.78 2.81-2.81c.8-.78.8-2.07 0-2.86zM5.41 20L4 18.59l7.72-7.72 1.47 1.35L5.41 20z\"/>\n",
              "  </svg>\n",
              "      </button>\n",
              "      \n",
              "  <style>\n",
              "    .colab-df-container {\n",
              "      display:flex;\n",
              "      flex-wrap:wrap;\n",
              "      gap: 12px;\n",
              "    }\n",
              "\n",
              "    .colab-df-convert {\n",
              "      background-color: #E8F0FE;\n",
              "      border: none;\n",
              "      border-radius: 50%;\n",
              "      cursor: pointer;\n",
              "      display: none;\n",
              "      fill: #1967D2;\n",
              "      height: 32px;\n",
              "      padding: 0 0 0 0;\n",
              "      width: 32px;\n",
              "    }\n",
              "\n",
              "    .colab-df-convert:hover {\n",
              "      background-color: #E2EBFA;\n",
              "      box-shadow: 0px 1px 2px rgba(60, 64, 67, 0.3), 0px 1px 3px 1px rgba(60, 64, 67, 0.15);\n",
              "      fill: #174EA6;\n",
              "    }\n",
              "\n",
              "    [theme=dark] .colab-df-convert {\n",
              "      background-color: #3B4455;\n",
              "      fill: #D2E3FC;\n",
              "    }\n",
              "\n",
              "    [theme=dark] .colab-df-convert:hover {\n",
              "      background-color: #434B5C;\n",
              "      box-shadow: 0px 1px 3px 1px rgba(0, 0, 0, 0.15);\n",
              "      filter: drop-shadow(0px 1px 2px rgba(0, 0, 0, 0.3));\n",
              "      fill: #FFFFFF;\n",
              "    }\n",
              "  </style>\n",
              "\n",
              "      <script>\n",
              "        const buttonEl =\n",
              "          document.querySelector('#df-72eb3941-7ee7-4b57-a3f9-01b9dce6e0e5 button.colab-df-convert');\n",
              "        buttonEl.style.display =\n",
              "          google.colab.kernel.accessAllowed ? 'block' : 'none';\n",
              "\n",
              "        async function convertToInteractive(key) {\n",
              "          const element = document.querySelector('#df-72eb3941-7ee7-4b57-a3f9-01b9dce6e0e5');\n",
              "          const dataTable =\n",
              "            await google.colab.kernel.invokeFunction('convertToInteractive',\n",
              "                                                     [key], {});\n",
              "          if (!dataTable) return;\n",
              "\n",
              "          const docLinkHtml = 'Like what you see? Visit the ' +\n",
              "            '<a target=\"_blank\" href=https://colab.research.google.com/notebooks/data_table.ipynb>data table notebook</a>'\n",
              "            + ' to learn more about interactive tables.';\n",
              "          element.innerHTML = '';\n",
              "          dataTable['output_type'] = 'display_data';\n",
              "          await google.colab.output.renderOutput(dataTable, element);\n",
              "          const docLink = document.createElement('div');\n",
              "          docLink.innerHTML = docLinkHtml;\n",
              "          element.appendChild(docLink);\n",
              "        }\n",
              "      </script>\n",
              "    </div>\n",
              "  </div>\n",
              "  "
            ]
          },
          "metadata": {},
          "execution_count": 9
        }
      ],
      "source": [
        "#create DataFrame\n",
        "df4 = pd.DataFrame({'count': [ 169483.8044 ,205672.2798 , 79614.5386, 125333.9073 , 263370.7168 ,236481.1644 , 330115.0480 , 40464.6818 , 17798.7240 , 75481.9224,18771.2821,137540.6133 ,69507.1764 ,313134.6659 ,184525.4678 ,40767.6941,  80039.7599 ]})\n",
        "df4.index = ['Accessories', 'Appliances', 'Art' , 'Binders' , 'Bookcases' , 'Chairs ' , 'Copiers' , 'Envelopes' , 'Fasteners' , 'Furnishings ' , 'Labels' , 'Machines' , 'Paper ' , 'Phones' , 'Storage' , 'Supplies ' , 'Tables ']\n",
        "\n",
        "#sort DataFrame by count descending\n",
        "df4 = df4.sort_values(by='count', ascending=False)\n",
        "\n",
        "#add column to display cumulative percentage\n",
        "df4['cumperc'] = df4['count'].cumsum()/df4['count'].sum()*100\n",
        "\n",
        "#view DataFrame\n",
        "df4"
      ]
    },
    {
      "cell_type": "code",
      "execution_count": 10,
      "metadata": {
        "colab": {
          "base_uri": "https://localhost:8080/",
          "height": 448
        },
        "id": "lxo5_4ldhqjh",
        "outputId": "f63a469e-5c13-4223-cfb6-c13299c66d0f"
      },
      "outputs": [
        {
          "output_type": "display_data",
          "data": {
            "text/plain": [
              "<Figure size 1296x720 with 2 Axes>"
            ],
            "image/png": "[encoded data removed]"
          },
          "metadata": {}
        }
      ],
      "source": [
        "import matplotlib.pyplot as plt\n",
        "from matplotlib.ticker import PercentFormatter\n",
        "\n",
        "#define aesthetics for plot\n",
        "color1 = 'steelblue'\n",
        "color2 = 'red'\n",
        "line_size = 4\n",
        "\n",
        "#create basic bar plot\n",
        "fig, ax = plt.subplots(figsize=(18, 10))\n",
        "ax.bar(df4.index, df4['count'], color=color1)\n",
        "\n",
        "#add cumulative percentage line to plot\n",
        "ax2 = ax.twinx()\n",
        "ax2.plot(df4.index, df4['cumperc'], color=color2, marker=\"D\", ms=line_size)\n",
        "ax2.yaxis.set_major_formatter(PercentFormatter())\n",
        "\n",
        "#specify axis colors\n",
        "ax.tick_params(axis='y', colors=color1)\n",
        "ax2.tick_params(axis='y', colors=color2)\n",
        "\n",
        "#display Pareto chart\n",
        "plt.show()"
      ]
    },
    {
      "cell_type": "markdown",
      "metadata": {
        "id": "jU1t4gh1bhbh"
      },
      "source": [
        "Dari sub kategori barang di atas yang menyumbang profit terbesar adalah machines , accessories , storage, appliances , chairs, bookcases , phones, copiers"
      ]
    },
    {
      "cell_type": "markdown",
      "metadata": {
        "id": "HjV_VDSuq-iG"
      },
      "source": [
        "  # c. Dari region manakah penyumbang profit terbesar? "
      ]
    },
    {
      "cell_type": "code",
      "execution_count": 11,
      "metadata": {
        "colab": {
          "base_uri": "https://localhost:8080/"
        },
        "id": "74cqazs5rUln",
        "outputId": "bebfdab5-e2af-4fd1-f937-ff558d68dbaf"
      },
      "outputs": [
        {
          "output_type": "execute_result",
          "data": {
            "text/plain": [
              "region\n",
              "Africa            177746.66400\n",
              "Canada             17817.39000\n",
              "Caribbean          58831.24592\n",
              "Central           513600.34854\n",
              "Central Asia      162048.23800\n",
              "EMEA              166963.88400\n",
              "East              141113.38750\n",
              "North             246732.79248\n",
              "North Asia        191133.22200\n",
              "Oceania           176062.29600\n",
              "South             297590.51136\n",
              "Southeast Asia    107324.05740\n",
              "West              131139.40980\n",
              "Name: profit, dtype: float64"
            ]
          },
          "metadata": {},
          "execution_count": 11
        }
      ],
      "source": [
        "df1.groupby(\"region\")[\"profit\"].sum()"
      ]
    },
    {
      "cell_type": "code",
      "execution_count": 12,
      "metadata": {
        "colab": {
          "base_uri": "https://localhost:8080/",
          "height": 457
        },
        "id": "MkrJ1CrNktZk",
        "outputId": "07df600e-8fd3-442f-a95f-4d9638f78c5a"
      },
      "outputs": [
        {
          "output_type": "execute_result",
          "data": {
            "text/plain": [
              "                       count     cumperc\n",
              "Central         513600.34854   21.506621\n",
              "South           297590.51136   33.967995\n",
              "North           246732.79248   44.299741\n",
              "North Asia      191133.22200   52.303299\n",
              "Africa          177746.66400   59.746304\n",
              "Oceania         176062.29600   67.118777\n",
              "EMEA            166963.88400   74.110262\n",
              "Central Asia    162048.23800   80.895908\n",
              "East            141113.38750   86.804922\n",
              "West            131139.40980   92.296285\n",
              "Southeast Asia  107324.05740   96.790397\n",
              "Caribbean        58831.24592   99.253910\n",
              "Canada           17817.39000  100.000000"
            ],
            "text/html": [
              "\n",
              "  <div id=\"df-5adb35a6-1cbd-4cb9-a87d-e9b318ccfdc7\">\n",
              "    <div class=\"colab-df-container\">\n",
              "      <div>\n",
              "<style scoped>\n",
              "    .dataframe tbody tr th:only-of-type {\n",
              "        vertical-align: middle;\n",
              "    }\n",
              "\n",
              "    .dataframe tbody tr th {\n",
              "        vertical-align: top;\n",
              "    }\n",
              "\n",
              "    .dataframe thead th {\n",
              "        text-align: right;\n",
              "    }\n",
              "</style>\n",
              "<table border=\"1\" class=\"dataframe\">\n",
              "  <thead>\n",
              "    <tr style=\"text-align: right;\">\n",
              "      <th></th>\n",
              "      <th>count</th>\n",
              "      <th>cumperc</th>\n",
              "    </tr>\n",
              "  </thead>\n",
              "  <tbody>\n",
              "    <tr>\n",
              "      <th>Central</th>\n",
              "      <td>513600.34854</td>\n",
              "      <td>21.506621</td>\n",
              "    </tr>\n",
              "    <tr>\n",
              "      <th>South</th>\n",
              "      <td>297590.51136</td>\n",
              "      <td>33.967995</td>\n",
              "    </tr>\n",
              "    <tr>\n",
              "      <th>North</th>\n",
              "      <td>246732.79248</td>\n",
              "      <td>44.299741</td>\n",
              "    </tr>\n",
              "    <tr>\n",
              "      <th>North Asia</th>\n",
              "      <td>191133.22200</td>\n",
              "      <td>52.303299</td>\n",
              "    </tr>\n",
              "    <tr>\n",
              "      <th>Africa</th>\n",
              "      <td>177746.66400</td>\n",
              "      <td>59.746304</td>\n",
              "    </tr>\n",
              "    <tr>\n",
              "      <th>Oceania</th>\n",
              "      <td>176062.29600</td>\n",
              "      <td>67.118777</td>\n",
              "    </tr>\n",
              "    <tr>\n",
              "      <th>EMEA</th>\n",
              "      <td>166963.88400</td>\n",
              "      <td>74.110262</td>\n",
              "    </tr>\n",
              "    <tr>\n",
              "      <th>Central Asia</th>\n",
              "      <td>162048.23800</td>\n",
              "      <td>80.895908</td>\n",
              "    </tr>\n",
              "    <tr>\n",
              "      <th>East</th>\n",
              "      <td>141113.38750</td>\n",
              "      <td>86.804922</td>\n",
              "    </tr>\n",
              "    <tr>\n",
              "      <th>West</th>\n",
              "      <td>131139.40980</td>\n",
              "      <td>92.296285</td>\n",
              "    </tr>\n",
              "    <tr>\n",
              "      <th>Southeast Asia</th>\n",
              "      <td>107324.05740</td>\n",
              "      <td>96.790397</td>\n",
              "    </tr>\n",
              "    <tr>\n",
              "      <th>Caribbean</th>\n",
              "      <td>58831.24592</td>\n",
              "      <td>99.253910</td>\n",
              "    </tr>\n",
              "    <tr>\n",
              "      <th>Canada</th>\n",
              "      <td>17817.39000</td>\n",
              "      <td>100.000000</td>\n",
              "    </tr>\n",
              "  </tbody>\n",
              "</table>\n",
              "</div>\n",
              "      <button class=\"colab-df-convert\" onclick=\"convertToInteractive('df-5adb35a6-1cbd-4cb9-a87d-e9b318ccfdc7')\"\n",
              "              title=\"Convert this dataframe to an interactive table.\"\n",
              "              style=\"display:none;\">\n",
              "        \n",
              "  <svg xmlns=\"http://www.w3.org/2000/svg\" height=\"24px\"viewBox=\"0 0 24 24\"\n",
              "       width=\"24px\">\n",
              "    <path d=\"M0 0h24v24H0V0z\" fill=\"none\"/>\n",
              "    <path d=\"M18.56 5.44l.94 2.06.94-2.06 2.06-.94-2.06-.94-.94-2.06-.94 2.06-2.06.94zm-11 1L8.5 8.5l.94-2.06 2.06-.94-2.06-.94L8.5 2.5l-.94 2.06-2.06.94zm10 10l.94 2.06.94-2.06 2.06-.94-2.06-.94-.94-2.06-.94 2.06-2.06.94z\"/><path d=\"M17.41 7.96l-1.37-1.37c-.4-.4-.92-.59-1.43-.59-.52 0-1.04.2-1.43.59L10.3 9.45l-7.72 7.72c-.78.78-.78 2.05 0 2.83L4 21.41c.39.39.9.59 1.41.59.51 0 1.02-.2 1.41-.59l7.78-7.78 2.81-2.81c.8-.78.8-2.07 0-2.86zM5.41 20L4 18.59l7.72-7.72 1.47 1.35L5.41 20z\"/>\n",
              "  </svg>\n",
              "      </button>\n",
              "      \n",
              "  <style>\n",
              "    .colab-df-container {\n",
              "      display:flex;\n",
              "      flex-wrap:wrap;\n",
              "      gap: 12px;\n",
              "    }\n",
              "\n",
              "    .colab-df-convert {\n",
              "      background-color: #E8F0FE;\n",
              "      border: none;\n",
              "      border-radius: 50%;\n",
              "      cursor: pointer;\n",
              "      display: none;\n",
              "      fill: #1967D2;\n",
              "      height: 32px;\n",
              "      padding: 0 0 0 0;\n",
              "      width: 32px;\n",
              "    }\n",
              "\n",
              "    .colab-df-convert:hover {\n",
              "      background-color: #E2EBFA;\n",
              "      box-shadow: 0px 1px 2px rgba(60, 64, 67, 0.3), 0px 1px 3px 1px rgba(60, 64, 67, 0.15);\n",
              "      fill: #174EA6;\n",
              "    }\n",
              "\n",
              "    [theme=dark] .colab-df-convert {\n",
              "      background-color: #3B4455;\n",
              "      fill: #D2E3FC;\n",
              "    }\n",
              "\n",
              "    [theme=dark] .colab-df-convert:hover {\n",
              "      background-color: #434B5C;\n",
              "      box-shadow: 0px 1px 3px 1px rgba(0, 0, 0, 0.15);\n",
              "      filter: drop-shadow(0px 1px 2px rgba(0, 0, 0, 0.3));\n",
              "      fill: #FFFFFF;\n",
              "    }\n",
              "  </style>\n",
              "\n",
              "      <script>\n",
              "        const buttonEl =\n",
              "          document.querySelector('#df-5adb35a6-1cbd-4cb9-a87d-e9b318ccfdc7 button.colab-df-convert');\n",
              "        buttonEl.style.display =\n",
              "          google.colab.kernel.accessAllowed ? 'block' : 'none';\n",
              "\n",
              "        async function convertToInteractive(key) {\n",
              "          const element = document.querySelector('#df-5adb35a6-1cbd-4cb9-a87d-e9b318ccfdc7');\n",
              "          const dataTable =\n",
              "            await google.colab.kernel.invokeFunction('convertToInteractive',\n",
              "                                                     [key], {});\n",
              "          if (!dataTable) return;\n",
              "\n",
              "          const docLinkHtml = 'Like what you see? Visit the ' +\n",
              "            '<a target=\"_blank\" href=https://colab.research.google.com/notebooks/data_table.ipynb>data table notebook</a>'\n",
              "            + ' to learn more about interactive tables.';\n",
              "          element.innerHTML = '';\n",
              "          dataTable['output_type'] = 'display_data';\n",
              "          await google.colab.output.renderOutput(dataTable, element);\n",
              "          const docLink = document.createElement('div');\n",
              "          docLink.innerHTML = docLinkHtml;\n",
              "          element.appendChild(docLink);\n",
              "        }\n",
              "      </script>\n",
              "    </div>\n",
              "  </div>\n",
              "  "
            ]
          },
          "metadata": {},
          "execution_count": 12
        }
      ],
      "source": [
        "#create DataFrame\n",
        "df5 = pd.DataFrame({'count': [177746.66400 ,17817.39000, 58831.24592, 513600.34854, 162048.23800,  166963.88400 ,141113.38750 ,246732.79248 ,191133.22200 ,176062.29600 ,297590.51136 ,107324.05740,131139.40980]})\n",
        "df5.index = ['Africa', 'Canada', 'Caribbean' , 'Central' , 'Central Asia' , 'EMEA ' , 'East' , 'North' , 'North Asia' , 'Oceania ' , 'South' , 'Southeast Asia' , 'West']\n",
        "\n",
        "#sort DataFrame by count descending\n",
        "df5 = df5.sort_values(by='count', ascending=False)\n",
        " \n",
        "#add column to display cumulative percentage\n",
        "df5['cumperc'] = df5['count'].cumsum()/df5['count'].sum()*100\n",
        "\n",
        "#view DataFrame\n",
        "df5"
      ]
    },
    {
      "cell_type": "code",
      "execution_count": 13,
      "metadata": {
        "colab": {
          "base_uri": "https://localhost:8080/",
          "height": 448
        },
        "id": "AFSkWKQbmLbQ",
        "outputId": "c2c94c89-7593-4e13-e2ff-917fdef776c9"
      },
      "outputs": [
        {
          "output_type": "display_data",
          "data": {
            "text/plain": [
              "<Figure size 1296x720 with 2 Axes>"
            ],
            "image/png": "[encoded data removed]"
          },
          "metadata": {}
        }
      ],
      "source": [
        "import matplotlib.pyplot as plt\n",
        "from matplotlib.ticker import PercentFormatter\n",
        "\n",
        "#define aesthetics for plot\n",
        "color1 = 'steelblue'\n",
        "color2 = 'red'\n",
        "line_size = 4\n",
        "\n",
        "#create basic bar plot\n",
        "fig, ax = plt.subplots(figsize=(18, 10))\n",
        "ax.bar(df5.index, df5['count'], color=color1)\n",
        "\n",
        "#add cumulative percentage line to plot\n",
        "ax2 = ax.twinx()\n",
        "ax2.plot(df5.index, df5['cumperc'], color=color2, marker=\"D\", ms=line_size)\n",
        "ax2.yaxis.set_major_formatter(PercentFormatter())\n",
        "\n",
        "#specify axis colors\n",
        "ax.tick_params(axis='y', colors=color1)\n",
        "ax2.tick_params(axis='y', colors=color2)\n",
        "\n",
        "#display Pareto chart\n",
        "plt.show()"
      ]
    },
    {
      "cell_type": "markdown",
      "metadata": {
        "id": "14j-RP41cBgQ"
      },
      "source": [
        "Dari data region di atas yang menyumbang profit terbesar adalah region central asia , emea, ocenia. africa, north asia, north , south , central"
      ]
    },
    {
      "cell_type": "markdown",
      "metadata": {
        "id": "VELj-Qacrzcc"
      },
      "source": [
        "  # d. Kota mana saja penyumbang profit terbesar? "
      ]
    },
    {
      "cell_type": "code",
      "execution_count": 14,
      "metadata": {
        "colab": {
          "base_uri": "https://localhost:8080/"
        },
        "id": "bhufdG6MsAfl",
        "outputId": "33c99c79-b41f-45f1-bd97-7097b1272b73"
      },
      "outputs": [
        {
          "output_type": "execute_result",
          "data": {
            "text/plain": [
              "city\n",
              "Aachen                   1116.981\n",
              "Aalen                     283.005\n",
              "Aalst                     152.310\n",
              "Abadan                    233.820\n",
              "Abbeville                  19.710\n",
              "                           ...   \n",
              "Zurich                   3054.120\n",
              "Zwedru                     11.850\n",
              "Zwickau                    19.380\n",
              "eMbalenhle                 13.620\n",
              "Águas Lindas de Goiás      41.040\n",
              "Name: profit, Length: 3243, dtype: float64"
            ]
          },
          "metadata": {},
          "execution_count": 14
        }
      ],
      "source": [
        "df1.groupby(\"city\")[\"profit\"].sum()\n"
      ]
    },
    {
      "cell_type": "markdown",
      "metadata": {
        "id": "GGfHTAHqcYXx"
      },
      "source": [
        " # e.Kategori dan subkategori apa saja yang paling sering dibeli karena diskon? "
      ]
    },
    {
      "cell_type": "code",
      "execution_count": 15,
      "metadata": {
        "colab": {
          "base_uri": "https://localhost:8080/"
        },
        "id": "NZcMx1eBlzTA",
        "outputId": "c53e5385-7b8a-4e61-e92a-1271804a4f7d"
      },
      "outputs": [
        {
          "output_type": "execute_result",
          "data": {
            "text/plain": [
              "Index(['row_id', 'order_id', 'order_date', 'ship_date', 'ship_mode',\n",
              "       'customer_id', 'customer_name', 'segment', 'city', 'state', 'country',\n",
              "       'postal_code', 'market', 'region', 'product_id', 'category',\n",
              "       'sub_category', 'product_name', 'sales', 'quantity', 'discount',\n",
              "       'profit', 'shipping_cost', 'order_priority'],\n",
              "      dtype='object')"
            ]
          },
          "metadata": {},
          "execution_count": 15
        }
      ],
      "source": [
        "df.columns"
      ]
    },
    {
      "cell_type": "code",
      "execution_count": 16,
      "metadata": {
        "id": "LJi2sYLgcry6"
      },
      "outputs": [],
      "source": [
        "df6 = df[df[\"discount\"]>0]"
      ]
    },
    {
      "cell_type": "code",
      "execution_count": 17,
      "metadata": {
        "colab": {
          "base_uri": "https://localhost:8080/"
        },
        "id": "vLR3uwkwce0p",
        "outputId": "020e284f-fe29-4923-f8ae-33451e94e39f"
      },
      "outputs": [
        {
          "output_type": "execute_result",
          "data": {
            "text/plain": [
              "category\n",
              "Furniture          1660.030\n",
              "Office Supplies    4297.190\n",
              "Technology         1372.508\n",
              "Name: discount, dtype: float64"
            ]
          },
          "metadata": {},
          "execution_count": 17
        }
      ],
      "source": [
        "df6.groupby(\"category\")[\"discount\"].sum()"
      ]
    },
    {
      "cell_type": "code",
      "execution_count": 18,
      "metadata": {
        "colab": {
          "base_uri": "https://localhost:8080/",
          "height": 143
        },
        "id": "wM4StZutdAB_",
        "outputId": "cc1ef33a-b323-4ffb-da21-eed8dc3c3a5e"
      },
      "outputs": [
        {
          "output_type": "execute_result",
          "data": {
            "text/plain": [
              "                    count     cumperc\n",
              "Office Supplies  4297.190   58.626869\n",
              "Furniture        1660.030   81.274776\n",
              "Technology       1372.508  100.000000"
            ],
            "text/html": [
              "\n",
              "  <div id=\"df-100b8dc3-4f1a-4656-ad94-f406cc85fa78\">\n",
              "    <div class=\"colab-df-container\">\n",
              "      <div>\n",
              "<style scoped>\n",
              "    .dataframe tbody tr th:only-of-type {\n",
              "        vertical-align: middle;\n",
              "    }\n",
              "\n",
              "    .dataframe tbody tr th {\n",
              "        vertical-align: top;\n",
              "    }\n",
              "\n",
              "    .dataframe thead th {\n",
              "        text-align: right;\n",
              "    }\n",
              "</style>\n",
              "<table border=\"1\" class=\"dataframe\">\n",
              "  <thead>\n",
              "    <tr style=\"text-align: right;\">\n",
              "      <th></th>\n",
              "      <th>count</th>\n",
              "      <th>cumperc</th>\n",
              "    </tr>\n",
              "  </thead>\n",
              "  <tbody>\n",
              "    <tr>\n",
              "      <th>Office Supplies</th>\n",
              "      <td>4297.190</td>\n",
              "      <td>58.626869</td>\n",
              "    </tr>\n",
              "    <tr>\n",
              "      <th>Furniture</th>\n",
              "      <td>1660.030</td>\n",
              "      <td>81.274776</td>\n",
              "    </tr>\n",
              "    <tr>\n",
              "      <th>Technology</th>\n",
              "      <td>1372.508</td>\n",
              "      <td>100.000000</td>\n",
              "    </tr>\n",
              "  </tbody>\n",
              "</table>\n",
              "</div>\n",
              "      <button class=\"colab-df-convert\" onclick=\"convertToInteractive('df-100b8dc3-4f1a-4656-ad94-f406cc85fa78')\"\n",
              "              title=\"Convert this dataframe to an interactive table.\"\n",
              "              style=\"display:none;\">\n",
              "        \n",
              "  <svg xmlns=\"http://www.w3.org/2000/svg\" height=\"24px\"viewBox=\"0 0 24 24\"\n",
              "       width=\"24px\">\n",
              "    <path d=\"M0 0h24v24H0V0z\" fill=\"none\"/>\n",
              "    <path d=\"M18.56 5.44l.94 2.06.94-2.06 2.06-.94-2.06-.94-.94-2.06-.94 2.06-2.06.94zm-11 1L8.5 8.5l.94-2.06 2.06-.94-2.06-.94L8.5 2.5l-.94 2.06-2.06.94zm10 10l.94 2.06.94-2.06 2.06-.94-2.06-.94-.94-2.06-.94 2.06-2.06.94z\"/><path d=\"M17.41 7.96l-1.37-1.37c-.4-.4-.92-.59-1.43-.59-.52 0-1.04.2-1.43.59L10.3 9.45l-7.72 7.72c-.78.78-.78 2.05 0 2.83L4 21.41c.39.39.9.59 1.41.59.51 0 1.02-.2 1.41-.59l7.78-7.78 2.81-2.81c.8-.78.8-2.07 0-2.86zM5.41 20L4 18.59l7.72-7.72 1.47 1.35L5.41 20z\"/>\n",
              "  </svg>\n",
              "      </button>\n",
              "      \n",
              "  <style>\n",
              "    .colab-df-container {\n",
              "      display:flex;\n",
              "      flex-wrap:wrap;\n",
              "      gap: 12px;\n",
              "    }\n",
              "\n",
              "    .colab-df-convert {\n",
              "      background-color: #E8F0FE;\n",
              "      border: none;\n",
              "      border-radius: 50%;\n",
              "      cursor: pointer;\n",
              "      display: none;\n",
              "      fill: #1967D2;\n",
              "      height: 32px;\n",
              "      padding: 0 0 0 0;\n",
              "      width: 32px;\n",
              "    }\n",
              "\n",
              "    .colab-df-convert:hover {\n",
              "      background-color: #E2EBFA;\n",
              "      box-shadow: 0px 1px 2px rgba(60, 64, 67, 0.3), 0px 1px 3px 1px rgba(60, 64, 67, 0.15);\n",
              "      fill: #174EA6;\n",
              "    }\n",
              "\n",
              "    [theme=dark] .colab-df-convert {\n",
              "      background-color: #3B4455;\n",
              "      fill: #D2E3FC;\n",
              "    }\n",
              "\n",
              "    [theme=dark] .colab-df-convert:hover {\n",
              "      background-color: #434B5C;\n",
              "      box-shadow: 0px 1px 3px 1px rgba(0, 0, 0, 0.15);\n",
              "      filter: drop-shadow(0px 1px 2px rgba(0, 0, 0, 0.3));\n",
              "      fill: #FFFFFF;\n",
              "    }\n",
              "  </style>\n",
              "\n",
              "      <script>\n",
              "        const buttonEl =\n",
              "          document.querySelector('#df-100b8dc3-4f1a-4656-ad94-f406cc85fa78 button.colab-df-convert');\n",
              "        buttonEl.style.display =\n",
              "          google.colab.kernel.accessAllowed ? 'block' : 'none';\n",
              "\n",
              "        async function convertToInteractive(key) {\n",
              "          const element = document.querySelector('#df-100b8dc3-4f1a-4656-ad94-f406cc85fa78');\n",
              "          const dataTable =\n",
              "            await google.colab.kernel.invokeFunction('convertToInteractive',\n",
              "                                                     [key], {});\n",
              "          if (!dataTable) return;\n",
              "\n",
              "          const docLinkHtml = 'Like what you see? Visit the ' +\n",
              "            '<a target=\"_blank\" href=https://colab.research.google.com/notebooks/data_table.ipynb>data table notebook</a>'\n",
              "            + ' to learn more about interactive tables.';\n",
              "          element.innerHTML = '';\n",
              "          dataTable['output_type'] = 'display_data';\n",
              "          await google.colab.output.renderOutput(dataTable, element);\n",
              "          const docLink = document.createElement('div');\n",
              "          docLink.innerHTML = docLinkHtml;\n",
              "          element.appendChild(docLink);\n",
              "        }\n",
              "      </script>\n",
              "    </div>\n",
              "  </div>\n",
              "  "
            ]
          },
          "metadata": {},
          "execution_count": 18
        }
      ],
      "source": [
        "#create DataFrame\n",
        "df7 = pd.DataFrame({'count': [1660.030 , 4297.190 , 1372.508]}) \n",
        "df7.index = ['Furniture' , 'Office Supplies', 'Technology']\n",
        "\n",
        "#sort DataFrame by count descending\n",
        "df7 = df7.sort_values(by='count', ascending=False)\n",
        " \n",
        "#add column to display cumulative percentage\n",
        "df7['cumperc'] = df7['count'].cumsum()/df7['count'].sum()*100\n",
        "\n",
        "#view DataFrame\n",
        "df7"
      ]
    },
    {
      "cell_type": "code",
      "execution_count": 19,
      "metadata": {
        "colab": {
          "base_uri": "https://localhost:8080/",
          "height": 449
        },
        "id": "pGGT_jMrdVcX",
        "outputId": "692fb8d5-b1b6-4f89-be32-d150cafaac5a"
      },
      "outputs": [
        {
          "output_type": "display_data",
          "data": {
            "text/plain": [
              "<Figure size 1296x720 with 2 Axes>"
            ],
            "image/png": "[encoded data removed]"
          },
          "metadata": {}
        }
      ],
      "source": [
        "import matplotlib.pyplot as plt\n",
        "from matplotlib.ticker import PercentFormatter\n",
        "\n",
        "#define aesthetics for plot\n",
        "color1 = 'steelblue'\n",
        "color2 = 'red'\n",
        "line_size = 4\n",
        "\n",
        "#create basic bar plot\n",
        "fig, ax = plt.subplots(figsize=(18, 10))\n",
        "ax.bar(df7.index, df7['count'], color=color1)\n",
        "\n",
        "#add cumulative percentage line to plot\n",
        "ax2 = ax.twinx()\n",
        "ax2.plot(df7.index, df7['cumperc'], color=color2, marker=\"D\", ms=line_size)\n",
        "ax2.yaxis.set_major_formatter(PercentFormatter())\n",
        "\n",
        "#specify axis colors\n",
        "ax.tick_params(axis='y', colors=color1)\n",
        "ax2.tick_params(axis='y', colors=color2)\n",
        "\n",
        "#display Pareto chart\n",
        "plt.show()"
      ]
    },
    {
      "cell_type": "markdown",
      "metadata": {
        "id": "d8MGd1cuc6bx"
      },
      "source": [
        "Dari kategori barang di atas yang paling sering dibeli karena diskon ialah furniture dan office supplies"
      ]
    },
    {
      "cell_type": "code",
      "execution_count": 20,
      "metadata": {
        "colab": {
          "base_uri": "https://localhost:8080/"
        },
        "id": "bQfyy0VGdxkC",
        "outputId": "14c523df-da27-4be8-b231-aeffcf8da938"
      },
      "outputs": [
        {
          "output_type": "execute_result",
          "data": {
            "text/plain": [
              "sub_category\n",
              "Accessories     370.480\n",
              "Appliances      248.700\n",
              "Art             573.080\n",
              "Binders        1102.480\n",
              "Bookcases       370.710\n",
              "Chairs          560.120\n",
              "Copiers         260.418\n",
              "Envelopes       320.810\n",
              "Fasteners       340.240\n",
              "Furnishings     478.880\n",
              "Labels          313.890\n",
              "Machines        252.000\n",
              "Paper           387.300\n",
              "Phones          489.610\n",
              "Storage         700.490\n",
              "Supplies        310.200\n",
              "Tables          250.320\n",
              "Name: discount, dtype: float64"
            ]
          },
          "metadata": {},
          "execution_count": 20
        }
      ],
      "source": [
        "df.groupby(\"sub_category\")[\"discount\"].sum()"
      ]
    },
    {
      "cell_type": "code",
      "execution_count": 21,
      "metadata": {
        "colab": {
          "base_uri": "https://localhost:8080/",
          "height": 582
        },
        "id": "YWL1UCu2d7bJ",
        "outputId": "c66f3278-7948-4ab9-c537-bb21cddc1d50"
      },
      "outputs": [
        {
          "output_type": "execute_result",
          "data": {
            "text/plain": [
              "                count     cumperc\n",
              "Binders      1102.480   15.041213\n",
              "Storage       700.490   24.598048\n",
              "Art           573.080   32.416619\n",
              "Chairs        560.120   40.058376\n",
              "Phones        489.610   46.738160\n",
              "Furnishings   478.880   53.271554\n",
              "Paper         387.300   58.555515\n",
              "Bookcases     370.710   63.613138\n",
              "Accessories   370.480   68.667623\n",
              "Fasteners     340.240   73.309542\n",
              "Envelopes     320.810   77.686375\n",
              "Labels        313.890   81.968799\n",
              "Supplies      310.200   86.200879\n",
              "Copiers       260.418   89.753781\n",
              "Machines      252.000   93.191835\n",
              "Tables        250.320   96.606968\n",
              "Appliances    248.700  100.000000"
            ],
            "text/html": [
              "\n",
              "  <div id=\"df-681b61ee-a7de-496d-a1c2-a44cb3022456\">\n",
              "    <div class=\"colab-df-container\">\n",
              "      <div>\n",
              "<style scoped>\n",
              "    .dataframe tbody tr th:only-of-type {\n",
              "        vertical-align: middle;\n",
              "    }\n",
              "\n",
              "    .dataframe tbody tr th {\n",
              "        vertical-align: top;\n",
              "    }\n",
              "\n",
              "    .dataframe thead th {\n",
              "        text-align: right;\n",
              "    }\n",
              "</style>\n",
              "<table border=\"1\" class=\"dataframe\">\n",
              "  <thead>\n",
              "    <tr style=\"text-align: right;\">\n",
              "      <th></th>\n",
              "      <th>count</th>\n",
              "      <th>cumperc</th>\n",
              "    </tr>\n",
              "  </thead>\n",
              "  <tbody>\n",
              "    <tr>\n",
              "      <th>Binders</th>\n",
              "      <td>1102.480</td>\n",
              "      <td>15.041213</td>\n",
              "    </tr>\n",
              "    <tr>\n",
              "      <th>Storage</th>\n",
              "      <td>700.490</td>\n",
              "      <td>24.598048</td>\n",
              "    </tr>\n",
              "    <tr>\n",
              "      <th>Art</th>\n",
              "      <td>573.080</td>\n",
              "      <td>32.416619</td>\n",
              "    </tr>\n",
              "    <tr>\n",
              "      <th>Chairs</th>\n",
              "      <td>560.120</td>\n",
              "      <td>40.058376</td>\n",
              "    </tr>\n",
              "    <tr>\n",
              "      <th>Phones</th>\n",
              "      <td>489.610</td>\n",
              "      <td>46.738160</td>\n",
              "    </tr>\n",
              "    <tr>\n",
              "      <th>Furnishings</th>\n",
              "      <td>478.880</td>\n",
              "      <td>53.271554</td>\n",
              "    </tr>\n",
              "    <tr>\n",
              "      <th>Paper</th>\n",
              "      <td>387.300</td>\n",
              "      <td>58.555515</td>\n",
              "    </tr>\n",
              "    <tr>\n",
              "      <th>Bookcases</th>\n",
              "      <td>370.710</td>\n",
              "      <td>63.613138</td>\n",
              "    </tr>\n",
              "    <tr>\n",
              "      <th>Accessories</th>\n",
              "      <td>370.480</td>\n",
              "      <td>68.667623</td>\n",
              "    </tr>\n",
              "    <tr>\n",
              "      <th>Fasteners</th>\n",
              "      <td>340.240</td>\n",
              "      <td>73.309542</td>\n",
              "    </tr>\n",
              "    <tr>\n",
              "      <th>Envelopes</th>\n",
              "      <td>320.810</td>\n",
              "      <td>77.686375</td>\n",
              "    </tr>\n",
              "    <tr>\n",
              "      <th>Labels</th>\n",
              "      <td>313.890</td>\n",
              "      <td>81.968799</td>\n",
              "    </tr>\n",
              "    <tr>\n",
              "      <th>Supplies</th>\n",
              "      <td>310.200</td>\n",
              "      <td>86.200879</td>\n",
              "    </tr>\n",
              "    <tr>\n",
              "      <th>Copiers</th>\n",
              "      <td>260.418</td>\n",
              "      <td>89.753781</td>\n",
              "    </tr>\n",
              "    <tr>\n",
              "      <th>Machines</th>\n",
              "      <td>252.000</td>\n",
              "      <td>93.191835</td>\n",
              "    </tr>\n",
              "    <tr>\n",
              "      <th>Tables</th>\n",
              "      <td>250.320</td>\n",
              "      <td>96.606968</td>\n",
              "    </tr>\n",
              "    <tr>\n",
              "      <th>Appliances</th>\n",
              "      <td>248.700</td>\n",
              "      <td>100.000000</td>\n",
              "    </tr>\n",
              "  </tbody>\n",
              "</table>\n",
              "</div>\n",
              "      <button class=\"colab-df-convert\" onclick=\"convertToInteractive('df-681b61ee-a7de-496d-a1c2-a44cb3022456')\"\n",
              "              title=\"Convert this dataframe to an interactive table.\"\n",
              "              style=\"display:none;\">\n",
              "        \n",
              "  <svg xmlns=\"http://www.w3.org/2000/svg\" height=\"24px\"viewBox=\"0 0 24 24\"\n",
              "       width=\"24px\">\n",
              "    <path d=\"M0 0h24v24H0V0z\" fill=\"none\"/>\n",
              "    <path d=\"M18.56 5.44l.94 2.06.94-2.06 2.06-.94-2.06-.94-.94-2.06-.94 2.06-2.06.94zm-11 1L8.5 8.5l.94-2.06 2.06-.94-2.06-.94L8.5 2.5l-.94 2.06-2.06.94zm10 10l.94 2.06.94-2.06 2.06-.94-2.06-.94-.94-2.06-.94 2.06-2.06.94z\"/><path d=\"M17.41 7.96l-1.37-1.37c-.4-.4-.92-.59-1.43-.59-.52 0-1.04.2-1.43.59L10.3 9.45l-7.72 7.72c-.78.78-.78 2.05 0 2.83L4 21.41c.39.39.9.59 1.41.59.51 0 1.02-.2 1.41-.59l7.78-7.78 2.81-2.81c.8-.78.8-2.07 0-2.86zM5.41 20L4 18.59l7.72-7.72 1.47 1.35L5.41 20z\"/>\n",
              "  </svg>\n",
              "      </button>\n",
              "      \n",
              "  <style>\n",
              "    .colab-df-container {\n",
              "      display:flex;\n",
              "      flex-wrap:wrap;\n",
              "      gap: 12px;\n",
              "    }\n",
              "\n",
              "    .colab-df-convert {\n",
              "      background-color: #E8F0FE;\n",
              "      border: none;\n",
              "      border-radius: 50%;\n",
              "      cursor: pointer;\n",
              "      display: none;\n",
              "      fill: #1967D2;\n",
              "      height: 32px;\n",
              "      padding: 0 0 0 0;\n",
              "      width: 32px;\n",
              "    }\n",
              "\n",
              "    .colab-df-convert:hover {\n",
              "      background-color: #E2EBFA;\n",
              "      box-shadow: 0px 1px 2px rgba(60, 64, 67, 0.3), 0px 1px 3px 1px rgba(60, 64, 67, 0.15);\n",
              "      fill: #174EA6;\n",
              "    }\n",
              "\n",
              "    [theme=dark] .colab-df-convert {\n",
              "      background-color: #3B4455;\n",
              "      fill: #D2E3FC;\n",
              "    }\n",
              "\n",
              "    [theme=dark] .colab-df-convert:hover {\n",
              "      background-color: #434B5C;\n",
              "      box-shadow: 0px 1px 3px 1px rgba(0, 0, 0, 0.15);\n",
              "      filter: drop-shadow(0px 1px 2px rgba(0, 0, 0, 0.3));\n",
              "      fill: #FFFFFF;\n",
              "    }\n",
              "  </style>\n",
              "\n",
              "      <script>\n",
              "        const buttonEl =\n",
              "          document.querySelector('#df-681b61ee-a7de-496d-a1c2-a44cb3022456 button.colab-df-convert');\n",
              "        buttonEl.style.display =\n",
              "          google.colab.kernel.accessAllowed ? 'block' : 'none';\n",
              "\n",
              "        async function convertToInteractive(key) {\n",
              "          const element = document.querySelector('#df-681b61ee-a7de-496d-a1c2-a44cb3022456');\n",
              "          const dataTable =\n",
              "            await google.colab.kernel.invokeFunction('convertToInteractive',\n",
              "                                                     [key], {});\n",
              "          if (!dataTable) return;\n",
              "\n",
              "          const docLinkHtml = 'Like what you see? Visit the ' +\n",
              "            '<a target=\"_blank\" href=https://colab.research.google.com/notebooks/data_table.ipynb>data table notebook</a>'\n",
              "            + ' to learn more about interactive tables.';\n",
              "          element.innerHTML = '';\n",
              "          dataTable['output_type'] = 'display_data';\n",
              "          await google.colab.output.renderOutput(dataTable, element);\n",
              "          const docLink = document.createElement('div');\n",
              "          docLink.innerHTML = docLinkHtml;\n",
              "          element.appendChild(docLink);\n",
              "        }\n",
              "      </script>\n",
              "    </div>\n",
              "  </div>\n",
              "  "
            ]
          },
          "metadata": {},
          "execution_count": 21
        }
      ],
      "source": [
        "#create DataFrame\n",
        "df8 = pd.DataFrame({'count': [370.480, 248.700 ,573.080, 1102.480 , 370.710 ,\n",
        "                             560.120, 260.418, 320.810 , 340.240, 478.880, 313.890,\n",
        "                             252.000,  387.300, 489.610, 700.490, 310.200,  250.320]}) \n",
        "df8.index = ['Accessories' ,'Appliances' ,'Art ' , 'Binders  ', \n",
        "            'Bookcases', 'Chairs ', 'Copiers', 'Envelopes ' , 'Fasteners', 'Furnishings',\n",
        "            'Labels ' ,'Machines ' ,'Paper  ', 'Phones' , 'Storage' , 'Supplies' , 'Tables ']\n",
        "\n",
        "#sort DataFrame by count descending\n",
        "df8 = df8.sort_values(by='count', ascending=False)\n",
        " \n",
        "#add column to display cumulative percentage\n",
        "df8['cumperc'] = df8['count'].cumsum()/df8['count'].sum()*100\n",
        "\n",
        "#view DataFrame\n",
        "df8"
      ]
    },
    {
      "cell_type": "code",
      "execution_count": 22,
      "metadata": {
        "colab": {
          "base_uri": "https://localhost:8080/",
          "height": 452
        },
        "id": "_vEMso-6fQVZ",
        "outputId": "90a07ddf-23c3-44b7-ab5a-9db173fab652"
      },
      "outputs": [
        {
          "output_type": "display_data",
          "data": {
            "text/plain": [
              "<Figure size 1296x720 with 2 Axes>"
            ],
            "image/png": "[encoded data removed]"
          },
          "metadata": {}
        }
      ],
      "source": [
        "import matplotlib.pyplot as plt\n",
        "from matplotlib.ticker import PercentFormatter\n",
        "\n",
        "#define aesthetics for plot\n",
        "color1 = 'steelblue'\n",
        "color2 = 'red'\n",
        "line_size = 4\n",
        "\n",
        "#create basic bar plot\n",
        "fig, ax = plt.subplots(figsize=(18, 10))\n",
        "ax.bar(df8.index, df8['count'], color=color1)\n",
        "\n",
        "#add cumulative percentage line to plot\n",
        "ax2 = ax.twinx()\n",
        "ax2.plot(df8.index, df8['cumperc'], color=color2, marker=\"D\", ms=line_size)\n",
        "ax2.yaxis.set_major_formatter(PercentFormatter())\n",
        "\n",
        "#specify axis colors\n",
        "ax.tick_params(axis='y', colors=color1)\n",
        "ax2.tick_params(axis='y', colors=color2)\n",
        "\n",
        "#display Pareto chart\n",
        "plt.show()"
      ]
    },
    {
      "cell_type": "markdown",
      "metadata": {
        "id": "YsWKc_9TfZLr"
      },
      "source": [
        "Dari sub kategori barang di atas yang paling sering dibeli karena diskon adalah envelopes, fasteners, accessories, paper, furnishings, phones, chairs, art, storage, binders\n",
        "\n"
      ]
    },
    {
      "cell_type": "markdown",
      "metadata": {
        "id": "GpwYqQKUuNNd"
      },
      "source": [
        "# No 2 Buatlah segmentasi RFM dan analisis segmentasi yang terbentuk. "
      ]
    },
    {
      "cell_type": "code",
      "execution_count": 23,
      "metadata": {
        "colab": {
          "base_uri": "https://localhost:8080/"
        },
        "id": "AcUBm19OuQa1",
        "outputId": "a4d5b0b7-bddc-4a65-b1f5-af480ba410ed"
      },
      "outputs": [
        {
          "output_type": "stream",
          "name": "stdout",
          "text": [
            "<class 'pandas.core.frame.DataFrame'>\n",
            "RangeIndex: 51290 entries, 0 to 51289\n",
            "Data columns (total 24 columns):\n",
            " #   Column          Non-Null Count  Dtype  \n",
            "---  ------          --------------  -----  \n",
            " 0   row_id          51290 non-null  int64  \n",
            " 1   order_id        51290 non-null  object \n",
            " 2   order_date      51290 non-null  object \n",
            " 3   ship_date       51290 non-null  object \n",
            " 4   ship_mode       51290 non-null  object \n",
            " 5   customer_id     51290 non-null  object \n",
            " 6   customer_name   51290 non-null  object \n",
            " 7   segment         51290 non-null  object \n",
            " 8   city            51290 non-null  object \n",
            " 9   state           51290 non-null  object \n",
            " 10  country         51290 non-null  object \n",
            " 11  postal_code     9994 non-null   float64\n",
            " 12  market          51290 non-null  object \n",
            " 13  region          51290 non-null  object \n",
            " 14  product_id      51290 non-null  object \n",
            " 15  category        51290 non-null  object \n",
            " 16  sub_category    51290 non-null  object \n",
            " 17  product_name    51290 non-null  object \n",
            " 18  sales           51290 non-null  float64\n",
            " 19  quantity        51290 non-null  int64  \n",
            " 20  discount        51290 non-null  float64\n",
            " 21  profit          51290 non-null  float64\n",
            " 22  shipping_cost   51290 non-null  float64\n",
            " 23  order_priority  51290 non-null  object \n",
            "dtypes: float64(5), int64(2), object(17)\n",
            "memory usage: 9.4+ MB\n"
          ]
        }
      ],
      "source": [
        "df.info()"
      ]
    },
    {
      "cell_type": "code",
      "execution_count": 24,
      "metadata": {
        "colab": {
          "base_uri": "https://localhost:8080/",
          "height": 542
        },
        "id": "2ElSzzPICKzh",
        "outputId": "ba0a7100-3273-4fc3-c0a2-75278395bada"
      },
      "outputs": [
        {
          "output_type": "execute_result",
          "data": {
            "text/plain": [
              "   row_id         order_id            order_date             ship_date  \\\n",
              "0   32298   CA-2012-124891  2012-07-31T00:00:00Z  2012-07-31T00:00:00Z   \n",
              "1   26341    IN-2013-77878  2013-02-05T00:00:00Z  2013-02-07T00:00:00Z   \n",
              "2   25330    IN-2013-71249  2013-10-17T00:00:00Z  2013-10-18T00:00:00Z   \n",
              "3   13524  ES-2013-1579342  2013-01-28T00:00:00Z  2013-01-30T00:00:00Z   \n",
              "4   47221     SG-2013-4320  2013-11-05T00:00:00Z  2013-11-06T00:00:00Z   \n",
              "\n",
              "      ship_mode customer_id     customer_name      segment           city  \\\n",
              "0      Same Day    RH-19495       Rick Hansen     Consumer  New York City   \n",
              "1  Second Class    JR-16210     Justin Ritter    Corporate     Wollongong   \n",
              "2   First Class    CR-12730      Craig Reiter     Consumer       Brisbane   \n",
              "3   First Class    KM-16375  Katherine Murray  Home Office         Berlin   \n",
              "4      Same Day     RH-9495       Rick Hansen     Consumer          Dakar   \n",
              "\n",
              "             state  ...        product_id    category sub_category  \\\n",
              "0         New York  ...   TEC-AC-10003033  Technology  Accessories   \n",
              "1  New South Wales  ...   FUR-CH-10003950   Furniture       Chairs   \n",
              "2       Queensland  ...   TEC-PH-10004664  Technology       Phones   \n",
              "3           Berlin  ...   TEC-PH-10004583  Technology       Phones   \n",
              "4            Dakar  ...  TEC-SHA-10000501  Technology      Copiers   \n",
              "\n",
              "                                        product_name     sales quantity  \\\n",
              "0  Plantronics CS510 - Over-the-Head monaural Wir...  2309.650        7   \n",
              "1          Novimex Executive Leather Armchair, Black  3709.395        9   \n",
              "2                  Nokia Smart Phone, with Caller ID  5175.171        9   \n",
              "3                     Motorola Smart Phone, Cordless  2892.510        5   \n",
              "4                     Sharp Wireless Fax, High-Speed  2832.960        8   \n",
              "\n",
              "  discount    profit  shipping_cost  order_priority  \n",
              "0      0.0  762.1845         933.57        Critical  \n",
              "1      0.1 -288.7650         923.63        Critical  \n",
              "2      0.1  919.9710         915.49          Medium  \n",
              "3      0.1  -96.5400         910.16          Medium  \n",
              "4      0.0  311.5200         903.04        Critical  \n",
              "\n",
              "[5 rows x 24 columns]"
            ],
            "text/html": [
              "\n",
              "  <div id=\"df-24d03120-8498-45df-b43d-2295d09d9459\">\n",
              "    <div class=\"colab-df-container\">\n",
              "      <div>\n",
              "<style scoped>\n",
              "    .dataframe tbody tr th:only-of-type {\n",
              "        vertical-align: middle;\n",
              "    }\n",
              "\n",
              "    .dataframe tbody tr th {\n",
              "        vertical-align: top;\n",
              "    }\n",
              "\n",
              "    .dataframe thead th {\n",
              "        text-align: right;\n",
              "    }\n",
              "</style>\n",
              "<table border=\"1\" class=\"dataframe\">\n",
              "  <thead>\n",
              "    <tr style=\"text-align: right;\">\n",
              "      <th></th>\n",
              "      <th>row_id</th>\n",
              "      <th>order_id</th>\n",
              "      <th>order_date</th>\n",
              "      <th>ship_date</th>\n",
              "      <th>ship_mode</th>\n",
              "      <th>customer_id</th>\n",
              "      <th>customer_name</th>\n",
              "      <th>segment</th>\n",
              "      <th>city</th>\n",
              "      <th>state</th>\n",
              "      <th>...</th>\n",
              "      <th>product_id</th>\n",
              "      <th>category</th>\n",
              "      <th>sub_category</th>\n",
              "      <th>product_name</th>\n",
              "      <th>sales</th>\n",
              "      <th>quantity</th>\n",
              "      <th>discount</th>\n",
              "      <th>profit</th>\n",
              "      <th>shipping_cost</th>\n",
              "      <th>order_priority</th>\n",
              "    </tr>\n",
              "  </thead>\n",
              "  <tbody>\n",
              "    <tr>\n",
              "      <th>0</th>\n",
              "      <td>32298</td>\n",
              "      <td>CA-2012-124891</td>\n",
              "      <td>2012-07-31T00:00:00Z</td>\n",
              "      <td>2012-07-31T00:00:00Z</td>\n",
              "      <td>Same Day</td>\n",
              "      <td>RH-19495</td>\n",
              "      <td>Rick Hansen</td>\n",
              "      <td>Consumer</td>\n",
              "      <td>New York City</td>\n",
              "      <td>New York</td>\n",
              "      <td>...</td>\n",
              "      <td>TEC-AC-10003033</td>\n",
              "      <td>Technology</td>\n",
              "      <td>Accessories</td>\n",
              "      <td>Plantronics CS510 - Over-the-Head monaural Wir...</td>\n",
              "      <td>2309.650</td>\n",
              "      <td>7</td>\n",
              "      <td>0.0</td>\n",
              "      <td>762.1845</td>\n",
              "      <td>933.57</td>\n",
              "      <td>Critical</td>\n",
              "    </tr>\n",
              "    <tr>\n",
              "      <th>1</th>\n",
              "      <td>26341</td>\n",
              "      <td>IN-2013-77878</td>\n",
              "      <td>2013-02-05T00:00:00Z</td>\n",
              "      <td>2013-02-07T00:00:00Z</td>\n",
              "      <td>Second Class</td>\n",
              "      <td>JR-16210</td>\n",
              "      <td>Justin Ritter</td>\n",
              "      <td>Corporate</td>\n",
              "      <td>Wollongong</td>\n",
              "      <td>New South Wales</td>\n",
              "      <td>...</td>\n",
              "      <td>FUR-CH-10003950</td>\n",
              "      <td>Furniture</td>\n",
              "      <td>Chairs</td>\n",
              "      <td>Novimex Executive Leather Armchair, Black</td>\n",
              "      <td>3709.395</td>\n",
              "      <td>9</td>\n",
              "      <td>0.1</td>\n",
              "      <td>-288.7650</td>\n",
              "      <td>923.63</td>\n",
              "      <td>Critical</td>\n",
              "    </tr>\n",
              "    <tr>\n",
              "      <th>2</th>\n",
              "      <td>25330</td>\n",
              "      <td>IN-2013-71249</td>\n",
              "      <td>2013-10-17T00:00:00Z</td>\n",
              "      <td>2013-10-18T00:00:00Z</td>\n",
              "      <td>First Class</td>\n",
              "      <td>CR-12730</td>\n",
              "      <td>Craig Reiter</td>\n",
              "      <td>Consumer</td>\n",
              "      <td>Brisbane</td>\n",
              "      <td>Queensland</td>\n",
              "      <td>...</td>\n",
              "      <td>TEC-PH-10004664</td>\n",
              "      <td>Technology</td>\n",
              "      <td>Phones</td>\n",
              "      <td>Nokia Smart Phone, with Caller ID</td>\n",
              "      <td>5175.171</td>\n",
              "      <td>9</td>\n",
              "      <td>0.1</td>\n",
              "      <td>919.9710</td>\n",
              "      <td>915.49</td>\n",
              "      <td>Medium</td>\n",
              "    </tr>\n",
              "    <tr>\n",
              "      <th>3</th>\n",
              "      <td>13524</td>\n",
              "      <td>ES-2013-1579342</td>\n",
              "      <td>2013-01-28T00:00:00Z</td>\n",
              "      <td>2013-01-30T00:00:00Z</td>\n",
              "      <td>First Class</td>\n",
              "      <td>KM-16375</td>\n",
              "      <td>Katherine Murray</td>\n",
              "      <td>Home Office</td>\n",
              "      <td>Berlin</td>\n",
              "      <td>Berlin</td>\n",
              "      <td>...</td>\n",
              "      <td>TEC-PH-10004583</td>\n",
              "      <td>Technology</td>\n",
              "      <td>Phones</td>\n",
              "      <td>Motorola Smart Phone, Cordless</td>\n",
              "      <td>2892.510</td>\n",
              "      <td>5</td>\n",
              "      <td>0.1</td>\n",
              "      <td>-96.5400</td>\n",
              "      <td>910.16</td>\n",
              "      <td>Medium</td>\n",
              "    </tr>\n",
              "    <tr>\n",
              "      <th>4</th>\n",
              "      <td>47221</td>\n",
              "      <td>SG-2013-4320</td>\n",
              "      <td>2013-11-05T00:00:00Z</td>\n",
              "      <td>2013-11-06T00:00:00Z</td>\n",
              "      <td>Same Day</td>\n",
              "      <td>RH-9495</td>\n",
              "      <td>Rick Hansen</td>\n",
              "      <td>Consumer</td>\n",
              "      <td>Dakar</td>\n",
              "      <td>Dakar</td>\n",
              "      <td>...</td>\n",
              "      <td>TEC-SHA-10000501</td>\n",
              "      <td>Technology</td>\n",
              "      <td>Copiers</td>\n",
              "      <td>Sharp Wireless Fax, High-Speed</td>\n",
              "      <td>2832.960</td>\n",
              "      <td>8</td>\n",
              "      <td>0.0</td>\n",
              "      <td>311.5200</td>\n",
              "      <td>903.04</td>\n",
              "      <td>Critical</td>\n",
              "    </tr>\n",
              "  </tbody>\n",
              "</table>\n",
              "<p>5 rows × 24 columns</p>\n",
              "</div>\n",
              "      <button class=\"colab-df-convert\" onclick=\"convertToInteractive('df-24d03120-8498-45df-b43d-2295d09d9459')\"\n",
              "              title=\"Convert this dataframe to an interactive table.\"\n",
              "              style=\"display:none;\">\n",
              "        \n",
              "  <svg xmlns=\"http://www.w3.org/2000/svg\" height=\"24px\"viewBox=\"0 0 24 24\"\n",
              "       width=\"24px\">\n",
              "    <path d=\"M0 0h24v24H0V0z\" fill=\"none\"/>\n",
              "    <path d=\"M18.56 5.44l.94 2.06.94-2.06 2.06-.94-2.06-.94-.94-2.06-.94 2.06-2.06.94zm-11 1L8.5 8.5l.94-2.06 2.06-.94-2.06-.94L8.5 2.5l-.94 2.06-2.06.94zm10 10l.94 2.06.94-2.06 2.06-.94-2.06-.94-.94-2.06-.94 2.06-2.06.94z\"/><path d=\"M17.41 7.96l-1.37-1.37c-.4-.4-.92-.59-1.43-.59-.52 0-1.04.2-1.43.59L10.3 9.45l-7.72 7.72c-.78.78-.78 2.05 0 2.83L4 21.41c.39.39.9.59 1.41.59.51 0 1.02-.2 1.41-.59l7.78-7.78 2.81-2.81c.8-.78.8-2.07 0-2.86zM5.41 20L4 18.59l7.72-7.72 1.47 1.35L5.41 20z\"/>\n",
              "  </svg>\n",
              "      </button>\n",
              "      \n",
              "  <style>\n",
              "    .colab-df-container {\n",
              "      display:flex;\n",
              "      flex-wrap:wrap;\n",
              "      gap: 12px;\n",
              "    }\n",
              "\n",
              "    .colab-df-convert {\n",
              "      background-color: #E8F0FE;\n",
              "      border: none;\n",
              "      border-radius: 50%;\n",
              "      cursor: pointer;\n",
              "      display: none;\n",
              "      fill: #1967D2;\n",
              "      height: 32px;\n",
              "      padding: 0 0 0 0;\n",
              "      width: 32px;\n",
              "    }\n",
              "\n",
              "    .colab-df-convert:hover {\n",
              "      background-color: #E2EBFA;\n",
              "      box-shadow: 0px 1px 2px rgba(60, 64, 67, 0.3), 0px 1px 3px 1px rgba(60, 64, 67, 0.15);\n",
              "      fill: #174EA6;\n",
              "    }\n",
              "\n",
              "    [theme=dark] .colab-df-convert {\n",
              "      background-color: #3B4455;\n",
              "      fill: #D2E3FC;\n",
              "    }\n",
              "\n",
              "    [theme=dark] .colab-df-convert:hover {\n",
              "      background-color: #434B5C;\n",
              "      box-shadow: 0px 1px 3px 1px rgba(0, 0, 0, 0.15);\n",
              "      filter: drop-shadow(0px 1px 2px rgba(0, 0, 0, 0.3));\n",
              "      fill: #FFFFFF;\n",
              "    }\n",
              "  </style>\n",
              "\n",
              "      <script>\n",
              "        const buttonEl =\n",
              "          document.querySelector('#df-24d03120-8498-45df-b43d-2295d09d9459 button.colab-df-convert');\n",
              "        buttonEl.style.display =\n",
              "          google.colab.kernel.accessAllowed ? 'block' : 'none';\n",
              "\n",
              "        async function convertToInteractive(key) {\n",
              "          const element = document.querySelector('#df-24d03120-8498-45df-b43d-2295d09d9459');\n",
              "          const dataTable =\n",
              "            await google.colab.kernel.invokeFunction('convertToInteractive',\n",
              "                                                     [key], {});\n",
              "          if (!dataTable) return;\n",
              "\n",
              "          const docLinkHtml = 'Like what you see? Visit the ' +\n",
              "            '<a target=\"_blank\" href=https://colab.research.google.com/notebooks/data_table.ipynb>data table notebook</a>'\n",
              "            + ' to learn more about interactive tables.';\n",
              "          element.innerHTML = '';\n",
              "          dataTable['output_type'] = 'display_data';\n",
              "          await google.colab.output.renderOutput(dataTable, element);\n",
              "          const docLink = document.createElement('div');\n",
              "          docLink.innerHTML = docLinkHtml;\n",
              "          element.appendChild(docLink);\n",
              "        }\n",
              "      </script>\n",
              "    </div>\n",
              "  </div>\n",
              "  "
            ]
          },
          "metadata": {},
          "execution_count": 24
        }
      ],
      "source": [
        "df.head()"
      ]
    },
    {
      "cell_type": "code",
      "execution_count": 25,
      "metadata": {
        "colab": {
          "base_uri": "https://localhost:8080/",
          "height": 809
        },
        "id": "BrziqnyHo9Iw",
        "outputId": "03efc644-a595-4d7c-8fda-2bbf90b11d3c"
      },
      "outputs": [
        {
          "output_type": "display_data",
          "data": {
            "text/plain": [
              "<Figure size 720x1008 with 1 Axes>"
            ],
            "image/png": "[encoded data removed]"
          },
          "metadata": {}
        }
      ],
      "source": [
        "# create top country \n",
        "plt.figure(figsize=(10,14))\n",
        "df['country'].value_counts()[:10].plot(kind='barh');"
      ]
    },
    {
      "cell_type": "markdown",
      "metadata": {
        "id": "iqMrRNCRqceV"
      },
      "source": [
        "Dipilih country yang paling tinggi melakukan transaksi yaitu United States"
      ]
    },
    {
      "cell_type": "code",
      "execution_count": 26,
      "metadata": {
        "id": "GYPSvD28LY4M"
      },
      "outputs": [],
      "source": [
        "raw_data = df.query('country == \"United States\"')"
      ]
    },
    {
      "cell_type": "code",
      "execution_count": 27,
      "metadata": {
        "colab": {
          "base_uri": "https://localhost:8080/"
        },
        "id": "_dIHQC-0Lcqk",
        "outputId": "d5ed0afc-ac13-476e-f00a-c8ebfb75d335"
      },
      "outputs": [
        {
          "output_type": "execute_result",
          "data": {
            "text/plain": [
              "row_id            0\n",
              "order_id          0\n",
              "order_date        0\n",
              "ship_date         0\n",
              "ship_mode         0\n",
              "customer_id       0\n",
              "customer_name     0\n",
              "segment           0\n",
              "city              0\n",
              "state             0\n",
              "country           0\n",
              "postal_code       0\n",
              "market            0\n",
              "region            0\n",
              "product_id        0\n",
              "category          0\n",
              "sub_category      0\n",
              "product_name      0\n",
              "sales             0\n",
              "quantity          0\n",
              "discount          0\n",
              "profit            0\n",
              "shipping_cost     0\n",
              "order_priority    0\n",
              "dtype: int64"
            ]
          },
          "metadata": {},
          "execution_count": 27
        }
      ],
      "source": [
        "# cek data United States\n",
        "raw_data.isna().sum()"
      ]
    },
    {
      "cell_type": "code",
      "execution_count": 28,
      "metadata": {
        "colab": {
          "base_uri": "https://localhost:8080/"
        },
        "id": "nOMo-OSVLig3",
        "outputId": "547fab6b-18c7-4f65-b026-18534fef01b6"
      },
      "outputs": [
        {
          "output_type": "stream",
          "name": "stdout",
          "text": [
            "<class 'pandas.core.frame.DataFrame'>\n",
            "Int64Index: 9994 entries, 0 to 51287\n",
            "Data columns (total 24 columns):\n",
            " #   Column          Non-Null Count  Dtype  \n",
            "---  ------          --------------  -----  \n",
            " 0   row_id          9994 non-null   int64  \n",
            " 1   order_id        9994 non-null   object \n",
            " 2   order_date      9994 non-null   object \n",
            " 3   ship_date       9994 non-null   object \n",
            " 4   ship_mode       9994 non-null   object \n",
            " 5   customer_id     9994 non-null   object \n",
            " 6   customer_name   9994 non-null   object \n",
            " 7   segment         9994 non-null   object \n",
            " 8   city            9994 non-null   object \n",
            " 9   state           9994 non-null   object \n",
            " 10  country         9994 non-null   object \n",
            " 11  postal_code     9994 non-null   float64\n",
            " 12  market          9994 non-null   object \n",
            " 13  region          9994 non-null   object \n",
            " 14  product_id      9994 non-null   object \n",
            " 15  category        9994 non-null   object \n",
            " 16  sub_category    9994 non-null   object \n",
            " 17  product_name    9994 non-null   object \n",
            " 18  sales           9994 non-null   float64\n",
            " 19  quantity        9994 non-null   int64  \n",
            " 20  discount        9994 non-null   float64\n",
            " 21  profit          9994 non-null   float64\n",
            " 22  shipping_cost   9994 non-null   float64\n",
            " 23  order_priority  9994 non-null   object \n",
            "dtypes: float64(5), int64(2), object(17)\n",
            "memory usage: 1.9+ MB\n"
          ]
        }
      ],
      "source": [
        "raw_data.info()"
      ]
    },
    {
      "cell_type": "markdown",
      "source": [
        "Create Order Date dan GMV.\n",
        "\n",
        "GMV di ambil melalui quantity * (sales - (sales * discount)) + shopping cost"
      ],
      "metadata": {
        "id": "2wvHCp4h96Ys"
      }
    },
    {
      "cell_type": "code",
      "execution_count": 29,
      "metadata": {
        "colab": {
          "base_uri": "https://localhost:8080/"
        },
        "id": "iX3-eeNvtF1O",
        "outputId": "da53f6b8-163d-413b-d2d4-5e611995b7c9"
      },
      "outputs": [
        {
          "output_type": "stream",
          "name": "stderr",
          "text": [
            "/usr/local/lib/python3.7/dist-packages/ipykernel_launcher.py:1: SettingWithCopyWarning: \n",
            "A value is trying to be set on a copy of a slice from a DataFrame.\n",
            "Try using .loc[row_indexer,col_indexer] = value instead\n",
            "\n",
            "See the caveats in the documentation: https://pandas.pydata.org/pandas-docs/stable/user_guide/indexing.html#returning-a-view-versus-a-copy\n",
            "  \"\"\"Entry point for launching an IPython kernel.\n"
          ]
        }
      ],
      "source": [
        "raw_data[\"order_date\"] = pd.to_datetime(raw_data['order_date'])"
      ]
    },
    {
      "cell_type": "code",
      "execution_count": 30,
      "metadata": {
        "colab": {
          "base_uri": "https://localhost:8080/"
        },
        "id": "CivZv2fAnKk-",
        "outputId": "c4ad9b88-b1c5-4f23-95d0-bbce7b8d3b7b"
      },
      "outputs": [
        {
          "output_type": "execute_result",
          "data": {
            "text/plain": [
              "Index(['row_id', 'order_id', 'order_date', 'ship_date', 'ship_mode',\n",
              "       'customer_id', 'customer_name', 'segment', 'city', 'state', 'country',\n",
              "       'postal_code', 'market', 'region', 'product_id', 'category',\n",
              "       'sub_category', 'product_name', 'sales', 'quantity', 'discount',\n",
              "       'profit', 'shipping_cost', 'order_priority'],\n",
              "      dtype='object')"
            ]
          },
          "metadata": {},
          "execution_count": 30
        }
      ],
      "source": [
        "raw_data.columns"
      ]
    },
    {
      "cell_type": "code",
      "execution_count": 31,
      "metadata": {
        "id": "LQfpsgO-wLHd",
        "colab": {
          "base_uri": "https://localhost:8080/"
        },
        "outputId": "029dd24d-0b07-4f4a-8df3-388c63241c09"
      },
      "outputs": [
        {
          "output_type": "stream",
          "name": "stderr",
          "text": [
            "/usr/local/lib/python3.7/dist-packages/ipykernel_launcher.py:1: SettingWithCopyWarning: \n",
            "A value is trying to be set on a copy of a slice from a DataFrame.\n",
            "Try using .loc[row_indexer,col_indexer] = value instead\n",
            "\n",
            "See the caveats in the documentation: https://pandas.pydata.org/pandas-docs/stable/user_guide/indexing.html#returning-a-view-versus-a-copy\n",
            "  \"\"\"Entry point for launching an IPython kernel.\n"
          ]
        }
      ],
      "source": [
        "raw_data['GMV_1'] = raw_data[\"quantity\"]*(raw_data[\"sales\"] - raw_data[\"discount\"]*raw_data['sales'] +raw_data['shipping_cost'])\n"
      ]
    },
    {
      "cell_type": "markdown",
      "metadata": {
        "id": "s_7AOSqfw0-J"
      },
      "source": [
        "Check Time Range"
      ]
    },
    {
      "cell_type": "code",
      "execution_count": 32,
      "metadata": {
        "colab": {
          "base_uri": "https://localhost:8080/"
        },
        "id": "So8q_6Vvwq5P",
        "outputId": "3b443cd9-c22e-4029-bd6f-4b1214b3f479"
      },
      "outputs": [
        {
          "output_type": "execute_result",
          "data": {
            "text/plain": [
              "Timestamp('2014-12-31 00:00:00+0000', tz='UTC')"
            ]
          },
          "metadata": {},
          "execution_count": 32
        }
      ],
      "source": [
        "raw_data['order_date'].max()"
      ]
    },
    {
      "cell_type": "markdown",
      "metadata": {
        "id": "sZBSJK7txknU"
      },
      "source": [
        "Put maximum date as time for analysis"
      ]
    },
    {
      "cell_type": "code",
      "execution_count": 33,
      "metadata": {
        "id": "4eeaxjSfwyn5"
      },
      "outputs": [],
      "source": [
        "analysis_date = raw_data['order_date'].max()"
      ]
    },
    {
      "cell_type": "markdown",
      "metadata": {
        "id": "WhqAWbvRxuzT"
      },
      "source": [
        "Create data object for rfm modeling"
      ]
    },
    {
      "cell_type": "code",
      "execution_count": 82,
      "metadata": {
        "id": "GEmytkzUxEjn"
      },
      "outputs": [],
      "source": [
        "data_for_model = raw_data.groupby(['customer_id'], as_index=False).agg({\n",
        "        'order_date': lambda x: (analysis_date - x.max()).days,\n",
        "        'order_id': 'count',\n",
        "        'GMV_1': 'sum'})"
      ]
    },
    {
      "cell_type": "code",
      "execution_count": 83,
      "metadata": {
        "id": "94rLYjkSxZpP"
      },
      "outputs": [],
      "source": [
        "data_for_model.rename(columns={'order_date': 'Recency',\n",
        "                         'order_id': 'Frequency',\n",
        "                         'TotalSum': 'MonetaryValue'}, inplace=True)"
      ]
    },
    {
      "cell_type": "code",
      "execution_count": 84,
      "metadata": {
        "id": "GzcmAbnVxwC9"
      },
      "outputs": [],
      "source": [
        "data_for_model = data_for_model[data_for_model['GMV_1'] > 0]"
      ]
    },
    {
      "cell_type": "markdown",
      "metadata": {
        "id": "QFZkltVfyWgR"
      },
      "source": [
        "Check final data for customer segmentation"
      ]
    },
    {
      "cell_type": "code",
      "execution_count": 93,
      "metadata": {
        "colab": {
          "base_uri": "https://localhost:8080/",
          "height": 206
        },
        "id": "LmT_4smYxz_3",
        "outputId": "8741306e-a376-4679-b01b-f6e3e9293a17"
      },
      "outputs": [
        {
          "output_type": "execute_result",
          "data": {
            "text/plain": [
              "  customer_id  Recency  Frequency        GMV_1\n",
              "0    AA-10315      184         11  14224.26920\n",
              "1    AA-10375       19         15   3156.99800\n",
              "2    AA-10480      259         12   5902.09480\n",
              "3    AA-10645       55         18  22695.82565\n",
              "4    AB-10015      415          6   2131.54800"
            ],
            "text/html": [
              "\n",
              "  <div id=\"df-0f856635-6604-4bae-9113-1f5d28e1b9a1\">\n",
              "    <div class=\"colab-df-container\">\n",
              "      <div>\n",
              "<style scoped>\n",
              "    .dataframe tbody tr th:only-of-type {\n",
              "        vertical-align: middle;\n",
              "    }\n",
              "\n",
              "    .dataframe tbody tr th {\n",
              "        vertical-align: top;\n",
              "    }\n",
              "\n",
              "    .dataframe thead th {\n",
              "        text-align: right;\n",
              "    }\n",
              "</style>\n",
              "<table border=\"1\" class=\"dataframe\">\n",
              "  <thead>\n",
              "    <tr style=\"text-align: right;\">\n",
              "      <th></th>\n",
              "      <th>customer_id</th>\n",
              "      <th>Recency</th>\n",
              "      <th>Frequency</th>\n",
              "      <th>GMV_1</th>\n",
              "    </tr>\n",
              "  </thead>\n",
              "  <tbody>\n",
              "    <tr>\n",
              "      <th>0</th>\n",
              "      <td>AA-10315</td>\n",
              "      <td>184</td>\n",
              "      <td>11</td>\n",
              "      <td>14224.26920</td>\n",
              "    </tr>\n",
              "    <tr>\n",
              "      <th>1</th>\n",
              "      <td>AA-10375</td>\n",
              "      <td>19</td>\n",
              "      <td>15</td>\n",
              "      <td>3156.99800</td>\n",
              "    </tr>\n",
              "    <tr>\n",
              "      <th>2</th>\n",
              "      <td>AA-10480</td>\n",
              "      <td>259</td>\n",
              "      <td>12</td>\n",
              "      <td>5902.09480</td>\n",
              "    </tr>\n",
              "    <tr>\n",
              "      <th>3</th>\n",
              "      <td>AA-10645</td>\n",
              "      <td>55</td>\n",
              "      <td>18</td>\n",
              "      <td>22695.82565</td>\n",
              "    </tr>\n",
              "    <tr>\n",
              "      <th>4</th>\n",
              "      <td>AB-10015</td>\n",
              "      <td>415</td>\n",
              "      <td>6</td>\n",
              "      <td>2131.54800</td>\n",
              "    </tr>\n",
              "  </tbody>\n",
              "</table>\n",
              "</div>\n",
              "      <button class=\"colab-df-convert\" onclick=\"convertToInteractive('df-0f856635-6604-4bae-9113-1f5d28e1b9a1')\"\n",
              "              title=\"Convert this dataframe to an interactive table.\"\n",
              "              style=\"display:none;\">\n",
              "        \n",
              "  <svg xmlns=\"http://www.w3.org/2000/svg\" height=\"24px\"viewBox=\"0 0 24 24\"\n",
              "       width=\"24px\">\n",
              "    <path d=\"M0 0h24v24H0V0z\" fill=\"none\"/>\n",
              "    <path d=\"M18.56 5.44l.94 2.06.94-2.06 2.06-.94-2.06-.94-.94-2.06-.94 2.06-2.06.94zm-11 1L8.5 8.5l.94-2.06 2.06-.94-2.06-.94L8.5 2.5l-.94 2.06-2.06.94zm10 10l.94 2.06.94-2.06 2.06-.94-2.06-.94-.94-2.06-.94 2.06-2.06.94z\"/><path d=\"M17.41 7.96l-1.37-1.37c-.4-.4-.92-.59-1.43-.59-.52 0-1.04.2-1.43.59L10.3 9.45l-7.72 7.72c-.78.78-.78 2.05 0 2.83L4 21.41c.39.39.9.59 1.41.59.51 0 1.02-.2 1.41-.59l7.78-7.78 2.81-2.81c.8-.78.8-2.07 0-2.86zM5.41 20L4 18.59l7.72-7.72 1.47 1.35L5.41 20z\"/>\n",
              "  </svg>\n",
              "      </button>\n",
              "      \n",
              "  <style>\n",
              "    .colab-df-container {\n",
              "      display:flex;\n",
              "      flex-wrap:wrap;\n",
              "      gap: 12px;\n",
              "    }\n",
              "\n",
              "    .colab-df-convert {\n",
              "      background-color: #E8F0FE;\n",
              "      border: none;\n",
              "      border-radius: 50%;\n",
              "      cursor: pointer;\n",
              "      display: none;\n",
              "      fill: #1967D2;\n",
              "      height: 32px;\n",
              "      padding: 0 0 0 0;\n",
              "      width: 32px;\n",
              "    }\n",
              "\n",
              "    .colab-df-convert:hover {\n",
              "      background-color: #E2EBFA;\n",
              "      box-shadow: 0px 1px 2px rgba(60, 64, 67, 0.3), 0px 1px 3px 1px rgba(60, 64, 67, 0.15);\n",
              "      fill: #174EA6;\n",
              "    }\n",
              "\n",
              "    [theme=dark] .colab-df-convert {\n",
              "      background-color: #3B4455;\n",
              "      fill: #D2E3FC;\n",
              "    }\n",
              "\n",
              "    [theme=dark] .colab-df-convert:hover {\n",
              "      background-color: #434B5C;\n",
              "      box-shadow: 0px 1px 3px 1px rgba(0, 0, 0, 0.15);\n",
              "      filter: drop-shadow(0px 1px 2px rgba(0, 0, 0, 0.3));\n",
              "      fill: #FFFFFF;\n",
              "    }\n",
              "  </style>\n",
              "\n",
              "      <script>\n",
              "        const buttonEl =\n",
              "          document.querySelector('#df-0f856635-6604-4bae-9113-1f5d28e1b9a1 button.colab-df-convert');\n",
              "        buttonEl.style.display =\n",
              "          google.colab.kernel.accessAllowed ? 'block' : 'none';\n",
              "\n",
              "        async function convertToInteractive(key) {\n",
              "          const element = document.querySelector('#df-0f856635-6604-4bae-9113-1f5d28e1b9a1');\n",
              "          const dataTable =\n",
              "            await google.colab.kernel.invokeFunction('convertToInteractive',\n",
              "                                                     [key], {});\n",
              "          if (!dataTable) return;\n",
              "\n",
              "          const docLinkHtml = 'Like what you see? Visit the ' +\n",
              "            '<a target=\"_blank\" href=https://colab.research.google.com/notebooks/data_table.ipynb>data table notebook</a>'\n",
              "            + ' to learn more about interactive tables.';\n",
              "          element.innerHTML = '';\n",
              "          dataTable['output_type'] = 'display_data';\n",
              "          await google.colab.output.renderOutput(dataTable, element);\n",
              "          const docLink = document.createElement('div');\n",
              "          docLink.innerHTML = docLinkHtml;\n",
              "          element.appendChild(docLink);\n",
              "        }\n",
              "      </script>\n",
              "    </div>\n",
              "  </div>\n",
              "  "
            ]
          },
          "metadata": {},
          "execution_count": 93
        }
      ],
      "source": [
        "data_for_model.head()"
      ]
    },
    {
      "cell_type": "markdown",
      "source": [
        "Dilihat berdasarkan data tersebut ada customer yang terakhir berkunjung 19 hari , 55 hari bahkan sampai ada yang 415 hari. Dengan berbeda-beda berapa kali mereka membeli product dan mengeluarkan biaya untuk belanja. "
      ],
      "metadata": {
        "id": "oaAhlZk7-vJC"
      }
    },
    {
      "cell_type": "markdown",
      "metadata": {
        "id": "dp1Cx8kSyhcp"
      },
      "source": [
        "Create RFM segmentation by using rfm_table_order function"
      ]
    },
    {
      "cell_type": "code",
      "execution_count": 38,
      "metadata": {
        "id": "RP1ufeS_yYwh"
      },
      "outputs": [],
      "source": [
        "r_labels = range(4, 0, -1)\n",
        "f_labels = range(1, 5)\n",
        "m_labels = range(1, 5)\n",
        "\n",
        "r_groups = pd.qcut(data_for_model['Recency'], q=4, labels = r_labels)\n",
        "f_groups = pd.qcut(data_for_model['Frequency'], q=4, labels = f_labels)\n",
        "m_groups = pd.qcut(data_for_model['GMV_1'], q=4, labels = m_labels)"
      ]
    },
    {
      "cell_type": "code",
      "execution_count": 39,
      "metadata": {
        "id": "ptt4Hj11yn-E"
      },
      "outputs": [],
      "source": [
        "data_for_model = data_for_model.assign(R = r_groups.values, F = f_groups.values, M = m_groups.values)"
      ]
    },
    {
      "cell_type": "code",
      "execution_count": 40,
      "metadata": {
        "id": "kCCztKoFysh2"
      },
      "outputs": [],
      "source": [
        "data_for_model['rfm_score'] = data_for_model[['R','F','M']].apply(\n",
        "    lambda x: ''.join(x.astype(str)),\n",
        "    axis=1\n",
        ")"
      ]
    },
    {
      "cell_type": "code",
      "execution_count": 41,
      "metadata": {
        "id": "r_7R2cyWyvf5"
      },
      "outputs": [],
      "source": [
        "data_for_model['rfm_score'] = data_for_model['rfm_score'].astype('int')"
      ]
    },
    {
      "cell_type": "markdown",
      "metadata": {
        "id": "6bIRZ8juy48r"
      },
      "source": [
        "Check final result"
      ]
    },
    {
      "cell_type": "code",
      "execution_count": 42,
      "metadata": {
        "colab": {
          "base_uri": "https://localhost:8080/",
          "height": 206
        },
        "id": "nrnXUOWvyz9x",
        "outputId": "2c5c7279-9178-44ff-f83e-9ee463b0370b"
      },
      "outputs": [
        {
          "output_type": "execute_result",
          "data": {
            "text/plain": [
              "  customer_id  Recency  Frequency        GMV_1  R  F  M  rfm_score\n",
              "0    AA-10315      184         11  14224.26920  1  2  3        123\n",
              "1    AA-10375       19         15   3156.99800  4  3  1        431\n",
              "2    AA-10480      259         12   5902.09480  1  2  2        122\n",
              "3    AA-10645       55         18  22695.82565  3  4  4        344\n",
              "4    AB-10015      415          6   2131.54800  1  1  1        111"
            ],
            "text/html": [
              "\n",
              "  <div id=\"df-35bd5351-5937-4ca0-8af1-4cdf1e70c68d\">\n",
              "    <div class=\"colab-df-container\">\n",
              "      <div>\n",
              "<style scoped>\n",
              "    .dataframe tbody tr th:only-of-type {\n",
              "        vertical-align: middle;\n",
              "    }\n",
              "\n",
              "    .dataframe tbody tr th {\n",
              "        vertical-align: top;\n",
              "    }\n",
              "\n",
              "    .dataframe thead th {\n",
              "        text-align: right;\n",
              "    }\n",
              "</style>\n",
              "<table border=\"1\" class=\"dataframe\">\n",
              "  <thead>\n",
              "    <tr style=\"text-align: right;\">\n",
              "      <th></th>\n",
              "      <th>customer_id</th>\n",
              "      <th>Recency</th>\n",
              "      <th>Frequency</th>\n",
              "      <th>GMV_1</th>\n",
              "      <th>R</th>\n",
              "      <th>F</th>\n",
              "      <th>M</th>\n",
              "      <th>rfm_score</th>\n",
              "    </tr>\n",
              "  </thead>\n",
              "  <tbody>\n",
              "    <tr>\n",
              "      <th>0</th>\n",
              "      <td>AA-10315</td>\n",
              "      <td>184</td>\n",
              "      <td>11</td>\n",
              "      <td>14224.26920</td>\n",
              "      <td>1</td>\n",
              "      <td>2</td>\n",
              "      <td>3</td>\n",
              "      <td>123</td>\n",
              "    </tr>\n",
              "    <tr>\n",
              "      <th>1</th>\n",
              "      <td>AA-10375</td>\n",
              "      <td>19</td>\n",
              "      <td>15</td>\n",
              "      <td>3156.99800</td>\n",
              "      <td>4</td>\n",
              "      <td>3</td>\n",
              "      <td>1</td>\n",
              "      <td>431</td>\n",
              "    </tr>\n",
              "    <tr>\n",
              "      <th>2</th>\n",
              "      <td>AA-10480</td>\n",
              "      <td>259</td>\n",
              "      <td>12</td>\n",
              "      <td>5902.09480</td>\n",
              "      <td>1</td>\n",
              "      <td>2</td>\n",
              "      <td>2</td>\n",
              "      <td>122</td>\n",
              "    </tr>\n",
              "    <tr>\n",
              "      <th>3</th>\n",
              "      <td>AA-10645</td>\n",
              "      <td>55</td>\n",
              "      <td>18</td>\n",
              "      <td>22695.82565</td>\n",
              "      <td>3</td>\n",
              "      <td>4</td>\n",
              "      <td>4</td>\n",
              "      <td>344</td>\n",
              "    </tr>\n",
              "    <tr>\n",
              "      <th>4</th>\n",
              "      <td>AB-10015</td>\n",
              "      <td>415</td>\n",
              "      <td>6</td>\n",
              "      <td>2131.54800</td>\n",
              "      <td>1</td>\n",
              "      <td>1</td>\n",
              "      <td>1</td>\n",
              "      <td>111</td>\n",
              "    </tr>\n",
              "  </tbody>\n",
              "</table>\n",
              "</div>\n",
              "      <button class=\"colab-df-convert\" onclick=\"convertToInteractive('df-35bd5351-5937-4ca0-8af1-4cdf1e70c68d')\"\n",
              "              title=\"Convert this dataframe to an interactive table.\"\n",
              "              style=\"display:none;\">\n",
              "        \n",
              "  <svg xmlns=\"http://www.w3.org/2000/svg\" height=\"24px\"viewBox=\"0 0 24 24\"\n",
              "       width=\"24px\">\n",
              "    <path d=\"M0 0h24v24H0V0z\" fill=\"none\"/>\n",
              "    <path d=\"M18.56 5.44l.94 2.06.94-2.06 2.06-.94-2.06-.94-.94-2.06-.94 2.06-2.06.94zm-11 1L8.5 8.5l.94-2.06 2.06-.94-2.06-.94L8.5 2.5l-.94 2.06-2.06.94zm10 10l.94 2.06.94-2.06 2.06-.94-2.06-.94-.94-2.06-.94 2.06-2.06.94z\"/><path d=\"M17.41 7.96l-1.37-1.37c-.4-.4-.92-.59-1.43-.59-.52 0-1.04.2-1.43.59L10.3 9.45l-7.72 7.72c-.78.78-.78 2.05 0 2.83L4 21.41c.39.39.9.59 1.41.59.51 0 1.02-.2 1.41-.59l7.78-7.78 2.81-2.81c.8-.78.8-2.07 0-2.86zM5.41 20L4 18.59l7.72-7.72 1.47 1.35L5.41 20z\"/>\n",
              "  </svg>\n",
              "      </button>\n",
              "      \n",
              "  <style>\n",
              "    .colab-df-container {\n",
              "      display:flex;\n",
              "      flex-wrap:wrap;\n",
              "      gap: 12px;\n",
              "    }\n",
              "\n",
              "    .colab-df-convert {\n",
              "      background-color: #E8F0FE;\n",
              "      border: none;\n",
              "      border-radius: 50%;\n",
              "      cursor: pointer;\n",
              "      display: none;\n",
              "      fill: #1967D2;\n",
              "      height: 32px;\n",
              "      padding: 0 0 0 0;\n",
              "      width: 32px;\n",
              "    }\n",
              "\n",
              "    .colab-df-convert:hover {\n",
              "      background-color: #E2EBFA;\n",
              "      box-shadow: 0px 1px 2px rgba(60, 64, 67, 0.3), 0px 1px 3px 1px rgba(60, 64, 67, 0.15);\n",
              "      fill: #174EA6;\n",
              "    }\n",
              "\n",
              "    [theme=dark] .colab-df-convert {\n",
              "      background-color: #3B4455;\n",
              "      fill: #D2E3FC;\n",
              "    }\n",
              "\n",
              "    [theme=dark] .colab-df-convert:hover {\n",
              "      background-color: #434B5C;\n",
              "      box-shadow: 0px 1px 3px 1px rgba(0, 0, 0, 0.15);\n",
              "      filter: drop-shadow(0px 1px 2px rgba(0, 0, 0, 0.3));\n",
              "      fill: #FFFFFF;\n",
              "    }\n",
              "  </style>\n",
              "\n",
              "      <script>\n",
              "        const buttonEl =\n",
              "          document.querySelector('#df-35bd5351-5937-4ca0-8af1-4cdf1e70c68d button.colab-df-convert');\n",
              "        buttonEl.style.display =\n",
              "          google.colab.kernel.accessAllowed ? 'block' : 'none';\n",
              "\n",
              "        async function convertToInteractive(key) {\n",
              "          const element = document.querySelector('#df-35bd5351-5937-4ca0-8af1-4cdf1e70c68d');\n",
              "          const dataTable =\n",
              "            await google.colab.kernel.invokeFunction('convertToInteractive',\n",
              "                                                     [key], {});\n",
              "          if (!dataTable) return;\n",
              "\n",
              "          const docLinkHtml = 'Like what you see? Visit the ' +\n",
              "            '<a target=\"_blank\" href=https://colab.research.google.com/notebooks/data_table.ipynb>data table notebook</a>'\n",
              "            + ' to learn more about interactive tables.';\n",
              "          element.innerHTML = '';\n",
              "          dataTable['output_type'] = 'display_data';\n",
              "          await google.colab.output.renderOutput(dataTable, element);\n",
              "          const docLink = document.createElement('div');\n",
              "          docLink.innerHTML = docLinkHtml;\n",
              "          element.appendChild(docLink);\n",
              "        }\n",
              "      </script>\n",
              "    </div>\n",
              "  </div>\n",
              "  "
            ]
          },
          "metadata": {},
          "execution_count": 42
        }
      ],
      "source": [
        "data_for_model.head()"
      ]
    },
    {
      "cell_type": "markdown",
      "source": [
        "Dilihat dari RFM score beberapa customer ada yang memiliki nilai kecil dalam jumlah berkunjung. rat-rata dalam melakukan pembelian barang kembali dan kecil dalam melakukan spend money."
      ],
      "metadata": {
        "id": "iLmAWUuKA-RA"
      }
    },
    {
      "cell_type": "markdown",
      "metadata": {
        "id": "0EpyABx-zCB5"
      },
      "source": [
        "Heatmap Visualization"
      ]
    },
    {
      "cell_type": "code",
      "execution_count": 43,
      "metadata": {
        "colab": {
          "base_uri": "https://localhost:8080/",
          "height": 379
        },
        "id": "SBd7FpYxy7wf",
        "outputId": "5944af9c-8228-41d0-e182-2ce1906563c4"
      },
      "outputs": [
        {
          "output_type": "execute_result",
          "data": {
            "text/plain": [
              "<matplotlib.axes._subplots.AxesSubplot at 0x7f10d62d9610>"
            ]
          },
          "metadata": {},
          "execution_count": 43
        },
        {
          "output_type": "display_data",
          "data": {
            "text/plain": [
              "<Figure size 576x396 with 2 Axes>"
            ],
            "image/png": "[encoded data removed]"
          },
          "metadata": {}
        }
      ],
      "source": [
        "sns.heatmap(\n",
        "    pd.pivot_table(data_for_model[[\"R\", \"F\",\"GMV_1\"]], values = \"GMV_1\", index = [\"R\"], columns = [\"F\"])\n",
        ")"
      ]
    },
    {
      "cell_type": "code",
      "execution_count": 44,
      "metadata": {
        "id": "DFjwnunazGC-"
      },
      "outputs": [],
      "source": [
        "rfm_bar_data = data_for_model[[\"R\", \"F\", \"M\"]].groupby([\"R\",\"F\",\"M\"], as_index = False).size()"
      ]
    },
    {
      "cell_type": "code",
      "execution_count": 45,
      "metadata": {
        "colab": {
          "base_uri": "https://localhost:8080/",
          "height": 892
        },
        "id": "Jre3Jt9TzKss",
        "outputId": "20d3c6c6-ab62-486b-e658-cefcdc7f6bc2"
      },
      "outputs": [
        {
          "output_type": "stream",
          "name": "stderr",
          "text": [
            "/usr/local/lib/python3.7/dist-packages/seaborn/axisgrid.py:670: UserWarning: Using the barplot function without specifying `order` is likely to produce an incorrect plot.\n",
            "  warnings.warn(warning)\n"
          ]
        },
        {
          "output_type": "display_data",
          "data": {
            "text/plain": [
              "<Figure size 864x864 with 16 Axes>"
            ],
            "image/png": "[encoded data removed]"
          },
          "metadata": {}
        }
      ],
      "source": [
        "g = sns.FacetGrid(\n",
        "    data = rfm_bar_data,\n",
        "    col = \"F\",\n",
        "    row = \"R\"\n",
        ")\n",
        "g.map(sns.barplot, \"M\", \"size\");"
      ]
    },
    {
      "cell_type": "markdown",
      "metadata": {
        "id": "6zltYgWizbDW"
      },
      "source": [
        "Recency, Frequency, and GMV Distribution"
      ]
    },
    {
      "cell_type": "code",
      "execution_count": 46,
      "metadata": {
        "colab": {
          "base_uri": "https://localhost:8080/",
          "height": 221
        },
        "id": "_Tiia1tUza0N",
        "outputId": "b7278201-fc06-43f9-9310-53beded0ce9e"
      },
      "outputs": [
        {
          "output_type": "display_data",
          "data": {
            "text/plain": [
              "<Figure size 648x216 with 3 Axes>"
            ],
            "image/png": "[encoded data removed]"
          },
          "metadata": {}
        }
      ],
      "source": [
        "g = sns.FacetGrid(\n",
        "    data = pd.melt(\n",
        "     data_for_model[[\"Recency\", \"Frequency\",\"GMV_1\"]],\n",
        "     value_vars=[\"Recency\",\"Frequency\", \"GMV_1\"]\n",
        "    ),\n",
        "    col = \"variable\",\n",
        "    sharex = False,\n",
        "    sharey = False\n",
        ")\n",
        "g.map(sns.histplot, \"value\");"
      ]
    },
    {
      "cell_type": "markdown",
      "source": [
        "Dimana di lihat dari grafik tersebut recency cenderung naik di awal-awal dan menurun di akhir.\n",
        "\n",
        "dan frequency bergerak naik dan menurun tapi tetap ada pergerakan setiap kalinya\n",
        "\n",
        "serta GMV naik ketika value pembelanjaan di bawah 50000 ketika melewati nilai value tersebut cenderung turun."
      ],
      "metadata": {
        "id": "fZ72W8KjB90G"
      }
    },
    {
      "cell_type": "markdown",
      "metadata": {
        "id": "OTNlRC4VzlaF"
      },
      "source": [
        "RFM Score to RFM Segment"
      ]
    },
    {
      "cell_type": "code",
      "execution_count": 47,
      "metadata": {
        "colab": {
          "base_uri": "https://localhost:8080/",
          "height": 743
        },
        "id": "8nij0AitzhwE",
        "outputId": "0a99f265-9b36-40f6-fe2b-9cc5f119448a"
      },
      "outputs": [
        {
          "output_type": "execute_result",
          "data": {
            "text/plain": [
              "<seaborn.axisgrid.FacetGrid at 0x7f10ef5effd0>"
            ]
          },
          "metadata": {},
          "execution_count": 47
        },
        {
          "output_type": "display_data",
          "data": {
            "text/plain": [
              "<Figure size 720x720 with 1 Axes>"
            ],
            "image/png": "[encoded data removed]"
          },
          "metadata": {}
        }
      ],
      "source": [
        "sns.catplot(\n",
        "    y = \"rfm_score\", \n",
        "    data = data_for_model.sort_values(by = [\"rfm_score\"], axis = 0), \n",
        "    kind = \"count\", \n",
        "    height = 10\n",
        ")"
      ]
    },
    {
      "cell_type": "code",
      "execution_count": 48,
      "metadata": {
        "id": "InQsJf7Szt31"
      },
      "outputs": [],
      "source": [
        "data_for_model['rfm_segment'] = np.select(\n",
        "    [\n",
        "     data_for_model['rfm_score'].isin([444]),\n",
        "     data_for_model['rfm_score'].isin([333, 334, 343, 344, 433, 434, 443]),\n",
        "     data_for_model['rfm_score'].isin([321, 322, 323, 324, 331, 332, 341, 342, 412, 413, 414, 421, 422, 423, 424, 431, 432, 441, 442]),\n",
        "     data_for_model['rfm_score'].isin([411]),\n",
        "     data_for_model['rfm_score'].isin([221, 222, 223, 224, 231, 232, 241, 242, 311, 312, 313, 314]),\n",
        "     data_for_model['rfm_score'].isin([133, 134, 143, 144, 233, 234, 243, 244]),\n",
        "     data_for_model['rfm_score'].isin([112, 113, 114, 121, 122, 123, 124, 131, 132, 141, 142, 211, 212, 213, 214]),\n",
        "     data_for_model['rfm_score'].isin([111])\n",
        "    ],\n",
        "    [\n",
        "     'Champion',\n",
        "     'Loyal Customer',\n",
        "     'Promising',\n",
        "     'Recent Customers',\n",
        "     'Customer Needing Attention',\n",
        "     \"Can't Lose Them\",\n",
        "     \"At Risk\",\n",
        "     \"Lost\"\n",
        "    ]\n",
        ")"
      ]
    },
    {
      "cell_type": "code",
      "execution_count": 49,
      "metadata": {
        "colab": {
          "base_uri": "https://localhost:8080/",
          "height": 423
        },
        "id": "k6Mc4ELCz2UI",
        "outputId": "28195fd1-0ec8-42a3-ff4c-d64738796f46"
      },
      "outputs": [
        {
          "output_type": "execute_result",
          "data": {
            "text/plain": [
              "    customer_id  Recency  Frequency        GMV_1  R  F  M  rfm_score  \\\n",
              "0      AA-10315      184         11  14224.26920  1  2  3        123   \n",
              "1      AA-10375       19         15   3156.99800  4  3  1        431   \n",
              "2      AA-10480      259         12   5902.09480  1  2  2        122   \n",
              "3      AA-10645       55         18  22695.82565  3  4  4        344   \n",
              "4      AB-10015      415          6   2131.54800  1  1  1        111   \n",
              "..          ...      ...        ...          ... .. .. ..        ...   \n",
              "788    XP-21865       43         28   8653.23160  3  4  2        342   \n",
              "789    YC-21895        4          8  30875.45080  4  1  4        414   \n",
              "790    YS-21880        9         12  45073.79560  4  2  4        424   \n",
              "791    ZC-21910       54         31  37115.35990  3  4  4        344   \n",
              "792    ZD-21925      202          9   6021.30040  1  2  2        122   \n",
              "\n",
              "        rfm_segment  \n",
              "0           At Risk  \n",
              "1         Promising  \n",
              "2           At Risk  \n",
              "3    Loyal Customer  \n",
              "4              Lost  \n",
              "..              ...  \n",
              "788       Promising  \n",
              "789       Promising  \n",
              "790       Promising  \n",
              "791  Loyal Customer  \n",
              "792         At Risk  \n",
              "\n",
              "[793 rows x 9 columns]"
            ],
            "text/html": [
              "\n",
              "  <div id=\"df-d322a40f-1c10-40c2-808a-6b15b4180f9e\">\n",
              "    <div class=\"colab-df-container\">\n",
              "      <div>\n",
              "<style scoped>\n",
              "    .dataframe tbody tr th:only-of-type {\n",
              "        vertical-align: middle;\n",
              "    }\n",
              "\n",
              "    .dataframe tbody tr th {\n",
              "        vertical-align: top;\n",
              "    }\n",
              "\n",
              "    .dataframe thead th {\n",
              "        text-align: right;\n",
              "    }\n",
              "</style>\n",
              "<table border=\"1\" class=\"dataframe\">\n",
              "  <thead>\n",
              "    <tr style=\"text-align: right;\">\n",
              "      <th></th>\n",
              "      <th>customer_id</th>\n",
              "      <th>Recency</th>\n",
              "      <th>Frequency</th>\n",
              "      <th>GMV_1</th>\n",
              "      <th>R</th>\n",
              "      <th>F</th>\n",
              "      <th>M</th>\n",
              "      <th>rfm_score</th>\n",
              "      <th>rfm_segment</th>\n",
              "    </tr>\n",
              "  </thead>\n",
              "  <tbody>\n",
              "    <tr>\n",
              "      <th>0</th>\n",
              "      <td>AA-10315</td>\n",
              "      <td>184</td>\n",
              "      <td>11</td>\n",
              "      <td>14224.26920</td>\n",
              "      <td>1</td>\n",
              "      <td>2</td>\n",
              "      <td>3</td>\n",
              "      <td>123</td>\n",
              "      <td>At Risk</td>\n",
              "    </tr>\n",
              "    <tr>\n",
              "      <th>1</th>\n",
              "      <td>AA-10375</td>\n",
              "      <td>19</td>\n",
              "      <td>15</td>\n",
              "      <td>3156.99800</td>\n",
              "      <td>4</td>\n",
              "      <td>3</td>\n",
              "      <td>1</td>\n",
              "      <td>431</td>\n",
              "      <td>Promising</td>\n",
              "    </tr>\n",
              "    <tr>\n",
              "      <th>2</th>\n",
              "      <td>AA-10480</td>\n",
              "      <td>259</td>\n",
              "      <td>12</td>\n",
              "      <td>5902.09480</td>\n",
              "      <td>1</td>\n",
              "      <td>2</td>\n",
              "      <td>2</td>\n",
              "      <td>122</td>\n",
              "      <td>At Risk</td>\n",
              "    </tr>\n",
              "    <tr>\n",
              "      <th>3</th>\n",
              "      <td>AA-10645</td>\n",
              "      <td>55</td>\n",
              "      <td>18</td>\n",
              "      <td>22695.82565</td>\n",
              "      <td>3</td>\n",
              "      <td>4</td>\n",
              "      <td>4</td>\n",
              "      <td>344</td>\n",
              "      <td>Loyal Customer</td>\n",
              "    </tr>\n",
              "    <tr>\n",
              "      <th>4</th>\n",
              "      <td>AB-10015</td>\n",
              "      <td>415</td>\n",
              "      <td>6</td>\n",
              "      <td>2131.54800</td>\n",
              "      <td>1</td>\n",
              "      <td>1</td>\n",
              "      <td>1</td>\n",
              "      <td>111</td>\n",
              "      <td>Lost</td>\n",
              "    </tr>\n",
              "    <tr>\n",
              "      <th>...</th>\n",
              "      <td>...</td>\n",
              "      <td>...</td>\n",
              "      <td>...</td>\n",
              "      <td>...</td>\n",
              "      <td>...</td>\n",
              "      <td>...</td>\n",
              "      <td>...</td>\n",
              "      <td>...</td>\n",
              "      <td>...</td>\n",
              "    </tr>\n",
              "    <tr>\n",
              "      <th>788</th>\n",
              "      <td>XP-21865</td>\n",
              "      <td>43</td>\n",
              "      <td>28</td>\n",
              "      <td>8653.23160</td>\n",
              "      <td>3</td>\n",
              "      <td>4</td>\n",
              "      <td>2</td>\n",
              "      <td>342</td>\n",
              "      <td>Promising</td>\n",
              "    </tr>\n",
              "    <tr>\n",
              "      <th>789</th>\n",
              "      <td>YC-21895</td>\n",
              "      <td>4</td>\n",
              "      <td>8</td>\n",
              "      <td>30875.45080</td>\n",
              "      <td>4</td>\n",
              "      <td>1</td>\n",
              "      <td>4</td>\n",
              "      <td>414</td>\n",
              "      <td>Promising</td>\n",
              "    </tr>\n",
              "    <tr>\n",
              "      <th>790</th>\n",
              "      <td>YS-21880</td>\n",
              "      <td>9</td>\n",
              "      <td>12</td>\n",
              "      <td>45073.79560</td>\n",
              "      <td>4</td>\n",
              "      <td>2</td>\n",
              "      <td>4</td>\n",
              "      <td>424</td>\n",
              "      <td>Promising</td>\n",
              "    </tr>\n",
              "    <tr>\n",
              "      <th>791</th>\n",
              "      <td>ZC-21910</td>\n",
              "      <td>54</td>\n",
              "      <td>31</td>\n",
              "      <td>37115.35990</td>\n",
              "      <td>3</td>\n",
              "      <td>4</td>\n",
              "      <td>4</td>\n",
              "      <td>344</td>\n",
              "      <td>Loyal Customer</td>\n",
              "    </tr>\n",
              "    <tr>\n",
              "      <th>792</th>\n",
              "      <td>ZD-21925</td>\n",
              "      <td>202</td>\n",
              "      <td>9</td>\n",
              "      <td>6021.30040</td>\n",
              "      <td>1</td>\n",
              "      <td>2</td>\n",
              "      <td>2</td>\n",
              "      <td>122</td>\n",
              "      <td>At Risk</td>\n",
              "    </tr>\n",
              "  </tbody>\n",
              "</table>\n",
              "<p>793 rows × 9 columns</p>\n",
              "</div>\n",
              "      <button class=\"colab-df-convert\" onclick=\"convertToInteractive('df-d322a40f-1c10-40c2-808a-6b15b4180f9e')\"\n",
              "              title=\"Convert this dataframe to an interactive table.\"\n",
              "              style=\"display:none;\">\n",
              "        \n",
              "  <svg xmlns=\"http://www.w3.org/2000/svg\" height=\"24px\"viewBox=\"0 0 24 24\"\n",
              "       width=\"24px\">\n",
              "    <path d=\"M0 0h24v24H0V0z\" fill=\"none\"/>\n",
              "    <path d=\"M18.56 5.44l.94 2.06.94-2.06 2.06-.94-2.06-.94-.94-2.06-.94 2.06-2.06.94zm-11 1L8.5 8.5l.94-2.06 2.06-.94-2.06-.94L8.5 2.5l-.94 2.06-2.06.94zm10 10l.94 2.06.94-2.06 2.06-.94-2.06-.94-.94-2.06-.94 2.06-2.06.94z\"/><path d=\"M17.41 7.96l-1.37-1.37c-.4-.4-.92-.59-1.43-.59-.52 0-1.04.2-1.43.59L10.3 9.45l-7.72 7.72c-.78.78-.78 2.05 0 2.83L4 21.41c.39.39.9.59 1.41.59.51 0 1.02-.2 1.41-.59l7.78-7.78 2.81-2.81c.8-.78.8-2.07 0-2.86zM5.41 20L4 18.59l7.72-7.72 1.47 1.35L5.41 20z\"/>\n",
              "  </svg>\n",
              "      </button>\n",
              "      \n",
              "  <style>\n",
              "    .colab-df-container {\n",
              "      display:flex;\n",
              "      flex-wrap:wrap;\n",
              "      gap: 12px;\n",
              "    }\n",
              "\n",
              "    .colab-df-convert {\n",
              "      background-color: #E8F0FE;\n",
              "      border: none;\n",
              "      border-radius: 50%;\n",
              "      cursor: pointer;\n",
              "      display: none;\n",
              "      fill: #1967D2;\n",
              "      height: 32px;\n",
              "      padding: 0 0 0 0;\n",
              "      width: 32px;\n",
              "    }\n",
              "\n",
              "    .colab-df-convert:hover {\n",
              "      background-color: #E2EBFA;\n",
              "      box-shadow: 0px 1px 2px rgba(60, 64, 67, 0.3), 0px 1px 3px 1px rgba(60, 64, 67, 0.15);\n",
              "      fill: #174EA6;\n",
              "    }\n",
              "\n",
              "    [theme=dark] .colab-df-convert {\n",
              "      background-color: #3B4455;\n",
              "      fill: #D2E3FC;\n",
              "    }\n",
              "\n",
              "    [theme=dark] .colab-df-convert:hover {\n",
              "      background-color: #434B5C;\n",
              "      box-shadow: 0px 1px 3px 1px rgba(0, 0, 0, 0.15);\n",
              "      filter: drop-shadow(0px 1px 2px rgba(0, 0, 0, 0.3));\n",
              "      fill: #FFFFFF;\n",
              "    }\n",
              "  </style>\n",
              "\n",
              "      <script>\n",
              "        const buttonEl =\n",
              "          document.querySelector('#df-d322a40f-1c10-40c2-808a-6b15b4180f9e button.colab-df-convert');\n",
              "        buttonEl.style.display =\n",
              "          google.colab.kernel.accessAllowed ? 'block' : 'none';\n",
              "\n",
              "        async function convertToInteractive(key) {\n",
              "          const element = document.querySelector('#df-d322a40f-1c10-40c2-808a-6b15b4180f9e');\n",
              "          const dataTable =\n",
              "            await google.colab.kernel.invokeFunction('convertToInteractive',\n",
              "                                                     [key], {});\n",
              "          if (!dataTable) return;\n",
              "\n",
              "          const docLinkHtml = 'Like what you see? Visit the ' +\n",
              "            '<a target=\"_blank\" href=https://colab.research.google.com/notebooks/data_table.ipynb>data table notebook</a>'\n",
              "            + ' to learn more about interactive tables.';\n",
              "          element.innerHTML = '';\n",
              "          dataTable['output_type'] = 'display_data';\n",
              "          await google.colab.output.renderOutput(dataTable, element);\n",
              "          const docLink = document.createElement('div');\n",
              "          docLink.innerHTML = docLinkHtml;\n",
              "          element.appendChild(docLink);\n",
              "        }\n",
              "      </script>\n",
              "    </div>\n",
              "  </div>\n",
              "  "
            ]
          },
          "metadata": {},
          "execution_count": 49
        }
      ],
      "source": [
        "data_for_model"
      ]
    },
    {
      "cell_type": "code",
      "execution_count": 50,
      "metadata": {
        "colab": {
          "base_uri": "https://localhost:8080/",
          "height": 725
        },
        "id": "7AaJ9Gxyz9tN",
        "outputId": "85d1999d-b448-4216-f99c-91ebd1f92a8f"
      },
      "outputs": [
        {
          "output_type": "display_data",
          "data": {
            "text/plain": [
              "<Figure size 720x720 with 1 Axes>"
            ],
            "image/png": "[encoded data removed]"
          },
          "metadata": {}
        }
      ],
      "source": [
        "sns.catplot(\n",
        "    y = \"rfm_segment\", \n",
        "    data = data_for_model.sort_values(by = [\"rfm_score\"], axis = 0), \n",
        "    kind = \"count\", \n",
        "    height = 10\n",
        ");"
      ]
    },
    {
      "cell_type": "markdown",
      "source": [
        "Dilihat dari hasil data tersebut menggunakan metode RFM Segmentation.\n",
        "\n",
        "Bahwa negara United Stated cenderung pola customer yang berbelanja berkategori promosing. Dimana di lihat dari kecendrungan balik yang sangat lama dan pembelanjaan ulang yang cukup sedikit di tambah jumlah biaya di keluarkan juga cukup sedikit.\n",
        "\n",
        "Yang berarti mereka lebih mencari barang-barang yang murah , dan mungkin melihat barang yang memiliki discount baru akan di beli dan mereka kembali berbelanja."
      ],
      "metadata": {
        "id": "fPjQQGe-C2-D"
      }
    },
    {
      "cell_type": "markdown",
      "metadata": {
        "id": "W2knWkVK0zS7"
      },
      "source": [
        "# No 3 Buatlah segmentasi menggunakan beberapa data yang ada lalu jelaskan mengapa anda menyarankan segmentasi tersebut dan apa aksi yang bisa kita lakukan terhadap segmentasi yang sudah dibuat!\n"
      ]
    },
    {
      "cell_type": "code",
      "execution_count": 51,
      "metadata": {
        "colab": {
          "base_uri": "https://localhost:8080/"
        },
        "id": "BsLHZ2jR08K-",
        "outputId": "d84df291-0c92-4718-8975-9f3c80f0e7df"
      },
      "outputs": [
        {
          "output_type": "stream",
          "name": "stdout",
          "text": [
            "<class 'pandas.core.frame.DataFrame'>\n",
            "RangeIndex: 51290 entries, 0 to 51289\n",
            "Data columns (total 24 columns):\n",
            " #   Column          Non-Null Count  Dtype  \n",
            "---  ------          --------------  -----  \n",
            " 0   row_id          51290 non-null  int64  \n",
            " 1   order_id        51290 non-null  object \n",
            " 2   order_date      51290 non-null  object \n",
            " 3   ship_date       51290 non-null  object \n",
            " 4   ship_mode       51290 non-null  object \n",
            " 5   customer_id     51290 non-null  object \n",
            " 6   customer_name   51290 non-null  object \n",
            " 7   segment         51290 non-null  object \n",
            " 8   city            51290 non-null  object \n",
            " 9   state           51290 non-null  object \n",
            " 10  country         51290 non-null  object \n",
            " 11  postal_code     9994 non-null   float64\n",
            " 12  market          51290 non-null  object \n",
            " 13  region          51290 non-null  object \n",
            " 14  product_id      51290 non-null  object \n",
            " 15  category        51290 non-null  object \n",
            " 16  sub_category    51290 non-null  object \n",
            " 17  product_name    51290 non-null  object \n",
            " 18  sales           51290 non-null  float64\n",
            " 19  quantity        51290 non-null  int64  \n",
            " 20  discount        51290 non-null  float64\n",
            " 21  profit          51290 non-null  float64\n",
            " 22  shipping_cost   51290 non-null  float64\n",
            " 23  order_priority  51290 non-null  object \n",
            "dtypes: float64(5), int64(2), object(17)\n",
            "memory usage: 9.4+ MB\n"
          ]
        }
      ],
      "source": [
        "df.info()\n"
      ]
    },
    {
      "cell_type": "code",
      "execution_count": 52,
      "metadata": {
        "colab": {
          "base_uri": "https://localhost:8080/",
          "height": 809
        },
        "id": "t4RfnTkwUdsJ",
        "outputId": "0b9c9e1e-bb55-4983-b8ac-3e49d62844b5"
      },
      "outputs": [
        {
          "output_type": "display_data",
          "data": {
            "text/plain": [
              "<Figure size 720x1008 with 1 Axes>"
            ],
            "image/png": "[encoded data removed]"
          },
          "metadata": {}
        }
      ],
      "source": [
        "plt.figure(figsize=(10,14))\n",
        "df['market'].value_counts()[:10].plot(kind='barh');"
      ]
    },
    {
      "cell_type": "markdown",
      "source": [
        "Di lihat dari segmentasi market bahwa market tertinggi terdapat di APAC. maka dari itu kita akan melihat bagaimana nilai RFM tersebut dari product yang mereka beli dan setiap mereka berbelanja."
      ],
      "metadata": {
        "id": "DNbsKl2VDpBd"
      }
    },
    {
      "cell_type": "code",
      "execution_count": 53,
      "metadata": {
        "id": "otmRZV0ZU6T3"
      },
      "outputs": [],
      "source": [
        "raw_data2 = df.query('market == \"APAC\"')"
      ]
    },
    {
      "cell_type": "code",
      "execution_count": 54,
      "metadata": {
        "colab": {
          "base_uri": "https://localhost:8080/"
        },
        "id": "xDrnoW9VVHbO",
        "outputId": "93f70fb5-0da8-4122-8c7c-db272a246994"
      },
      "outputs": [
        {
          "output_type": "execute_result",
          "data": {
            "text/plain": [
              "row_id                0\n",
              "order_id              0\n",
              "order_date            0\n",
              "ship_date             0\n",
              "ship_mode             0\n",
              "customer_id           0\n",
              "customer_name         0\n",
              "segment               0\n",
              "city                  0\n",
              "state                 0\n",
              "country               0\n",
              "postal_code       11002\n",
              "market                0\n",
              "region                0\n",
              "product_id            0\n",
              "category              0\n",
              "sub_category          0\n",
              "product_name          0\n",
              "sales                 0\n",
              "quantity              0\n",
              "discount              0\n",
              "profit                0\n",
              "shipping_cost         0\n",
              "order_priority        0\n",
              "dtype: int64"
            ]
          },
          "metadata": {},
          "execution_count": 54
        }
      ],
      "source": [
        "raw_data2.isna().sum()"
      ]
    },
    {
      "cell_type": "code",
      "execution_count": 55,
      "metadata": {
        "id": "ZILkGMA9XF4Z",
        "colab": {
          "base_uri": "https://localhost:8080/"
        },
        "outputId": "de73e1a3-b012-4265-ca6c-f7ba3dd2e140"
      },
      "outputs": [
        {
          "output_type": "stream",
          "name": "stderr",
          "text": [
            "/usr/local/lib/python3.7/dist-packages/ipykernel_launcher.py:1: SettingWithCopyWarning: \n",
            "A value is trying to be set on a copy of a slice from a DataFrame.\n",
            "Try using .loc[row_indexer,col_indexer] = value instead\n",
            "\n",
            "See the caveats in the documentation: https://pandas.pydata.org/pandas-docs/stable/user_guide/indexing.html#returning-a-view-versus-a-copy\n",
            "  \"\"\"Entry point for launching an IPython kernel.\n"
          ]
        }
      ],
      "source": [
        "raw_data2[\"order_date\"] = pd.to_datetime(raw_data2['order_date'])"
      ]
    },
    {
      "cell_type": "code",
      "execution_count": 56,
      "metadata": {
        "colab": {
          "base_uri": "https://localhost:8080/"
        },
        "id": "qCMepaYBXlRp",
        "outputId": "5d770820-9aec-4ec8-e074-1164735ebead"
      },
      "outputs": [
        {
          "output_type": "stream",
          "name": "stderr",
          "text": [
            "/usr/local/lib/python3.7/dist-packages/ipykernel_launcher.py:1: SettingWithCopyWarning: \n",
            "A value is trying to be set on a copy of a slice from a DataFrame.\n",
            "Try using .loc[row_indexer,col_indexer] = value instead\n",
            "\n",
            "See the caveats in the documentation: https://pandas.pydata.org/pandas-docs/stable/user_guide/indexing.html#returning-a-view-versus-a-copy\n",
            "  \"\"\"Entry point for launching an IPython kernel.\n"
          ]
        }
      ],
      "source": [
        "raw_data2['GMV'] = raw_data2[\"quantity\"]*(raw_data2[\"sales\"] - raw_data2[\"discount\"]*raw_data2['sales'] +raw_data2['shipping_cost'])"
      ]
    },
    {
      "cell_type": "code",
      "execution_count": 57,
      "metadata": {
        "id": "SrMeq4J8X3PK"
      },
      "outputs": [],
      "source": [
        "#raw_data2['order_date'].max()"
      ]
    },
    {
      "cell_type": "code",
      "execution_count": 58,
      "metadata": {
        "id": "syM-lGEnX_4b",
        "colab": {
          "base_uri": "https://localhost:8080/"
        },
        "outputId": "58c0abac-636d-4e8d-974f-7cb74384c87c"
      },
      "outputs": [
        {
          "output_type": "execute_result",
          "data": {
            "text/plain": [
              "Timestamp('2014-12-31 00:00:00+0000', tz='UTC')"
            ]
          },
          "metadata": {},
          "execution_count": 58
        }
      ],
      "source": [
        "analysis_date = raw_data2['order_date'].max()\n",
        "analysis_date"
      ]
    },
    {
      "cell_type": "markdown",
      "metadata": {
        "id": "s1Wx3xzoYJcP"
      },
      "source": [
        "Create data rfm modelling"
      ]
    },
    {
      "cell_type": "code",
      "execution_count": 116,
      "metadata": {
        "id": "gP-JW4AuYGd8",
        "colab": {
          "base_uri": "https://localhost:8080/",
          "height": 423
        },
        "outputId": "ac34cd78-d7b4-4646-f0b2-776a13b37731"
      },
      "outputs": [
        {
          "output_type": "execute_result",
          "data": {
            "text/plain": [
              "           product_id  order_date  order_id           GMV\n",
              "0     FUR-BO-10000008         156         1    651.447200\n",
              "1     FUR-BO-10000021         884         1    552.300000\n",
              "2     FUR-BO-10000035         273         5  42265.141656\n",
              "3     FUR-BO-10000071         221         8   8834.432500\n",
              "4     FUR-BO-10000087          35         3  13202.110832\n",
              "...               ...         ...       ...           ...\n",
              "2718  TEC-PH-10004760          70         4   1897.416780\n",
              "2719  TEC-PH-10004800         424         2   3051.992000\n",
              "2720  TEC-PH-10004933         496         3   2172.993700\n",
              "2721  TEC-PH-10004940         568         1   2523.200000\n",
              "2722  TEC-PH-10004959         144         5   7537.602500\n",
              "\n",
              "[2723 rows x 4 columns]"
            ],
            "text/html": [
              "\n",
              "  <div id=\"df-090a86ba-7db0-4d0f-a39b-dbb26090713b\">\n",
              "    <div class=\"colab-df-container\">\n",
              "      <div>\n",
              "<style scoped>\n",
              "    .dataframe tbody tr th:only-of-type {\n",
              "        vertical-align: middle;\n",
              "    }\n",
              "\n",
              "    .dataframe tbody tr th {\n",
              "        vertical-align: top;\n",
              "    }\n",
              "\n",
              "    .dataframe thead th {\n",
              "        text-align: right;\n",
              "    }\n",
              "</style>\n",
              "<table border=\"1\" class=\"dataframe\">\n",
              "  <thead>\n",
              "    <tr style=\"text-align: right;\">\n",
              "      <th></th>\n",
              "      <th>product_id</th>\n",
              "      <th>order_date</th>\n",
              "      <th>order_id</th>\n",
              "      <th>GMV</th>\n",
              "    </tr>\n",
              "  </thead>\n",
              "  <tbody>\n",
              "    <tr>\n",
              "      <th>0</th>\n",
              "      <td>FUR-BO-10000008</td>\n",
              "      <td>156</td>\n",
              "      <td>1</td>\n",
              "      <td>651.447200</td>\n",
              "    </tr>\n",
              "    <tr>\n",
              "      <th>1</th>\n",
              "      <td>FUR-BO-10000021</td>\n",
              "      <td>884</td>\n",
              "      <td>1</td>\n",
              "      <td>552.300000</td>\n",
              "    </tr>\n",
              "    <tr>\n",
              "      <th>2</th>\n",
              "      <td>FUR-BO-10000035</td>\n",
              "      <td>273</td>\n",
              "      <td>5</td>\n",
              "      <td>42265.141656</td>\n",
              "    </tr>\n",
              "    <tr>\n",
              "      <th>3</th>\n",
              "      <td>FUR-BO-10000071</td>\n",
              "      <td>221</td>\n",
              "      <td>8</td>\n",
              "      <td>8834.432500</td>\n",
              "    </tr>\n",
              "    <tr>\n",
              "      <th>4</th>\n",
              "      <td>FUR-BO-10000087</td>\n",
              "      <td>35</td>\n",
              "      <td>3</td>\n",
              "      <td>13202.110832</td>\n",
              "    </tr>\n",
              "    <tr>\n",
              "      <th>...</th>\n",
              "      <td>...</td>\n",
              "      <td>...</td>\n",
              "      <td>...</td>\n",
              "      <td>...</td>\n",
              "    </tr>\n",
              "    <tr>\n",
              "      <th>2718</th>\n",
              "      <td>TEC-PH-10004760</td>\n",
              "      <td>70</td>\n",
              "      <td>4</td>\n",
              "      <td>1897.416780</td>\n",
              "    </tr>\n",
              "    <tr>\n",
              "      <th>2719</th>\n",
              "      <td>TEC-PH-10004800</td>\n",
              "      <td>424</td>\n",
              "      <td>2</td>\n",
              "      <td>3051.992000</td>\n",
              "    </tr>\n",
              "    <tr>\n",
              "      <th>2720</th>\n",
              "      <td>TEC-PH-10004933</td>\n",
              "      <td>496</td>\n",
              "      <td>3</td>\n",
              "      <td>2172.993700</td>\n",
              "    </tr>\n",
              "    <tr>\n",
              "      <th>2721</th>\n",
              "      <td>TEC-PH-10004940</td>\n",
              "      <td>568</td>\n",
              "      <td>1</td>\n",
              "      <td>2523.200000</td>\n",
              "    </tr>\n",
              "    <tr>\n",
              "      <th>2722</th>\n",
              "      <td>TEC-PH-10004959</td>\n",
              "      <td>144</td>\n",
              "      <td>5</td>\n",
              "      <td>7537.602500</td>\n",
              "    </tr>\n",
              "  </tbody>\n",
              "</table>\n",
              "<p>2723 rows × 4 columns</p>\n",
              "</div>\n",
              "      <button class=\"colab-df-convert\" onclick=\"convertToInteractive('df-090a86ba-7db0-4d0f-a39b-dbb26090713b')\"\n",
              "              title=\"Convert this dataframe to an interactive table.\"\n",
              "              style=\"display:none;\">\n",
              "        \n",
              "  <svg xmlns=\"http://www.w3.org/2000/svg\" height=\"24px\"viewBox=\"0 0 24 24\"\n",
              "       width=\"24px\">\n",
              "    <path d=\"M0 0h24v24H0V0z\" fill=\"none\"/>\n",
              "    <path d=\"M18.56 5.44l.94 2.06.94-2.06 2.06-.94-2.06-.94-.94-2.06-.94 2.06-2.06.94zm-11 1L8.5 8.5l.94-2.06 2.06-.94-2.06-.94L8.5 2.5l-.94 2.06-2.06.94zm10 10l.94 2.06.94-2.06 2.06-.94-2.06-.94-.94-2.06-.94 2.06-2.06.94z\"/><path d=\"M17.41 7.96l-1.37-1.37c-.4-.4-.92-.59-1.43-.59-.52 0-1.04.2-1.43.59L10.3 9.45l-7.72 7.72c-.78.78-.78 2.05 0 2.83L4 21.41c.39.39.9.59 1.41.59.51 0 1.02-.2 1.41-.59l7.78-7.78 2.81-2.81c.8-.78.8-2.07 0-2.86zM5.41 20L4 18.59l7.72-7.72 1.47 1.35L5.41 20z\"/>\n",
              "  </svg>\n",
              "      </button>\n",
              "      \n",
              "  <style>\n",
              "    .colab-df-container {\n",
              "      display:flex;\n",
              "      flex-wrap:wrap;\n",
              "      gap: 12px;\n",
              "    }\n",
              "\n",
              "    .colab-df-convert {\n",
              "      background-color: #E8F0FE;\n",
              "      border: none;\n",
              "      border-radius: 50%;\n",
              "      cursor: pointer;\n",
              "      display: none;\n",
              "      fill: #1967D2;\n",
              "      height: 32px;\n",
              "      padding: 0 0 0 0;\n",
              "      width: 32px;\n",
              "    }\n",
              "\n",
              "    .colab-df-convert:hover {\n",
              "      background-color: #E2EBFA;\n",
              "      box-shadow: 0px 1px 2px rgba(60, 64, 67, 0.3), 0px 1px 3px 1px rgba(60, 64, 67, 0.15);\n",
              "      fill: #174EA6;\n",
              "    }\n",
              "\n",
              "    [theme=dark] .colab-df-convert {\n",
              "      background-color: #3B4455;\n",
              "      fill: #D2E3FC;\n",
              "    }\n",
              "\n",
              "    [theme=dark] .colab-df-convert:hover {\n",
              "      background-color: #434B5C;\n",
              "      box-shadow: 0px 1px 3px 1px rgba(0, 0, 0, 0.15);\n",
              "      filter: drop-shadow(0px 1px 2px rgba(0, 0, 0, 0.3));\n",
              "      fill: #FFFFFF;\n",
              "    }\n",
              "  </style>\n",
              "\n",
              "      <script>\n",
              "        const buttonEl =\n",
              "          document.querySelector('#df-090a86ba-7db0-4d0f-a39b-dbb26090713b button.colab-df-convert');\n",
              "        buttonEl.style.display =\n",
              "          google.colab.kernel.accessAllowed ? 'block' : 'none';\n",
              "\n",
              "        async function convertToInteractive(key) {\n",
              "          const element = document.querySelector('#df-090a86ba-7db0-4d0f-a39b-dbb26090713b');\n",
              "          const dataTable =\n",
              "            await google.colab.kernel.invokeFunction('convertToInteractive',\n",
              "                                                     [key], {});\n",
              "          if (!dataTable) return;\n",
              "\n",
              "          const docLinkHtml = 'Like what you see? Visit the ' +\n",
              "            '<a target=\"_blank\" href=https://colab.research.google.com/notebooks/data_table.ipynb>data table notebook</a>'\n",
              "            + ' to learn more about interactive tables.';\n",
              "          element.innerHTML = '';\n",
              "          dataTable['output_type'] = 'display_data';\n",
              "          await google.colab.output.renderOutput(dataTable, element);\n",
              "          const docLink = document.createElement('div');\n",
              "          docLink.innerHTML = docLinkHtml;\n",
              "          element.appendChild(docLink);\n",
              "        }\n",
              "      </script>\n",
              "    </div>\n",
              "  </div>\n",
              "  "
            ]
          },
          "metadata": {},
          "execution_count": 116
        }
      ],
      "source": [
        "data_for_model = raw_data2.groupby(['product_id'], as_index=False).agg({\n",
        "        'order_date': lambda x: (analysis_date - x.max()).days,\n",
        "        'order_id': 'count',\n",
        "      'GMV': 'sum'})\n",
        "data_for_model"
      ]
    },
    {
      "cell_type": "code",
      "execution_count": 117,
      "metadata": {
        "id": "r57Et2K8Y1z0"
      },
      "outputs": [],
      "source": [
        "data_for_model.rename(columns={'order_date': 'Recency',\n",
        "                         'order_id': 'Frequency',\n",
        "                         'TotalSum': 'MonetaryValue'}, inplace=True)"
      ]
    },
    {
      "cell_type": "code",
      "source": [
        "data_for_model"
      ],
      "metadata": {
        "colab": {
          "base_uri": "https://localhost:8080/",
          "height": 423
        },
        "id": "O-O5WpkFaBLx",
        "outputId": "63104a43-e306-4452-a34b-085e274cbbd9"
      },
      "execution_count": 119,
      "outputs": [
        {
          "output_type": "execute_result",
          "data": {
            "text/plain": [
              "           product_id  Recency  Frequency           GMV\n",
              "0     FUR-BO-10000008      156          1    651.447200\n",
              "1     FUR-BO-10000021      884          1    552.300000\n",
              "2     FUR-BO-10000035      273          5  42265.141656\n",
              "3     FUR-BO-10000071      221          8   8834.432500\n",
              "4     FUR-BO-10000087       35          3  13202.110832\n",
              "...               ...      ...        ...           ...\n",
              "2718  TEC-PH-10004760       70          4   1897.416780\n",
              "2719  TEC-PH-10004800      424          2   3051.992000\n",
              "2720  TEC-PH-10004933      496          3   2172.993700\n",
              "2721  TEC-PH-10004940      568          1   2523.200000\n",
              "2722  TEC-PH-10004959      144          5   7537.602500\n",
              "\n",
              "[2723 rows x 4 columns]"
            ],
            "text/html": [
              "\n",
              "  <div id=\"df-20a70892-1a2b-4499-b768-bdf6ae0dd5b5\">\n",
              "    <div class=\"colab-df-container\">\n",
              "      <div>\n",
              "<style scoped>\n",
              "    .dataframe tbody tr th:only-of-type {\n",
              "        vertical-align: middle;\n",
              "    }\n",
              "\n",
              "    .dataframe tbody tr th {\n",
              "        vertical-align: top;\n",
              "    }\n",
              "\n",
              "    .dataframe thead th {\n",
              "        text-align: right;\n",
              "    }\n",
              "</style>\n",
              "<table border=\"1\" class=\"dataframe\">\n",
              "  <thead>\n",
              "    <tr style=\"text-align: right;\">\n",
              "      <th></th>\n",
              "      <th>product_id</th>\n",
              "      <th>Recency</th>\n",
              "      <th>Frequency</th>\n",
              "      <th>GMV</th>\n",
              "    </tr>\n",
              "  </thead>\n",
              "  <tbody>\n",
              "    <tr>\n",
              "      <th>0</th>\n",
              "      <td>FUR-BO-10000008</td>\n",
              "      <td>156</td>\n",
              "      <td>1</td>\n",
              "      <td>651.447200</td>\n",
              "    </tr>\n",
              "    <tr>\n",
              "      <th>1</th>\n",
              "      <td>FUR-BO-10000021</td>\n",
              "      <td>884</td>\n",
              "      <td>1</td>\n",
              "      <td>552.300000</td>\n",
              "    </tr>\n",
              "    <tr>\n",
              "      <th>2</th>\n",
              "      <td>FUR-BO-10000035</td>\n",
              "      <td>273</td>\n",
              "      <td>5</td>\n",
              "      <td>42265.141656</td>\n",
              "    </tr>\n",
              "    <tr>\n",
              "      <th>3</th>\n",
              "      <td>FUR-BO-10000071</td>\n",
              "      <td>221</td>\n",
              "      <td>8</td>\n",
              "      <td>8834.432500</td>\n",
              "    </tr>\n",
              "    <tr>\n",
              "      <th>4</th>\n",
              "      <td>FUR-BO-10000087</td>\n",
              "      <td>35</td>\n",
              "      <td>3</td>\n",
              "      <td>13202.110832</td>\n",
              "    </tr>\n",
              "    <tr>\n",
              "      <th>...</th>\n",
              "      <td>...</td>\n",
              "      <td>...</td>\n",
              "      <td>...</td>\n",
              "      <td>...</td>\n",
              "    </tr>\n",
              "    <tr>\n",
              "      <th>2718</th>\n",
              "      <td>TEC-PH-10004760</td>\n",
              "      <td>70</td>\n",
              "      <td>4</td>\n",
              "      <td>1897.416780</td>\n",
              "    </tr>\n",
              "    <tr>\n",
              "      <th>2719</th>\n",
              "      <td>TEC-PH-10004800</td>\n",
              "      <td>424</td>\n",
              "      <td>2</td>\n",
              "      <td>3051.992000</td>\n",
              "    </tr>\n",
              "    <tr>\n",
              "      <th>2720</th>\n",
              "      <td>TEC-PH-10004933</td>\n",
              "      <td>496</td>\n",
              "      <td>3</td>\n",
              "      <td>2172.993700</td>\n",
              "    </tr>\n",
              "    <tr>\n",
              "      <th>2721</th>\n",
              "      <td>TEC-PH-10004940</td>\n",
              "      <td>568</td>\n",
              "      <td>1</td>\n",
              "      <td>2523.200000</td>\n",
              "    </tr>\n",
              "    <tr>\n",
              "      <th>2722</th>\n",
              "      <td>TEC-PH-10004959</td>\n",
              "      <td>144</td>\n",
              "      <td>5</td>\n",
              "      <td>7537.602500</td>\n",
              "    </tr>\n",
              "  </tbody>\n",
              "</table>\n",
              "<p>2723 rows × 4 columns</p>\n",
              "</div>\n",
              "      <button class=\"colab-df-convert\" onclick=\"convertToInteractive('df-20a70892-1a2b-4499-b768-bdf6ae0dd5b5')\"\n",
              "              title=\"Convert this dataframe to an interactive table.\"\n",
              "              style=\"display:none;\">\n",
              "        \n",
              "  <svg xmlns=\"http://www.w3.org/2000/svg\" height=\"24px\"viewBox=\"0 0 24 24\"\n",
              "       width=\"24px\">\n",
              "    <path d=\"M0 0h24v24H0V0z\" fill=\"none\"/>\n",
              "    <path d=\"M18.56 5.44l.94 2.06.94-2.06 2.06-.94-2.06-.94-.94-2.06-.94 2.06-2.06.94zm-11 1L8.5 8.5l.94-2.06 2.06-.94-2.06-.94L8.5 2.5l-.94 2.06-2.06.94zm10 10l.94 2.06.94-2.06 2.06-.94-2.06-.94-.94-2.06-.94 2.06-2.06.94z\"/><path d=\"M17.41 7.96l-1.37-1.37c-.4-.4-.92-.59-1.43-.59-.52 0-1.04.2-1.43.59L10.3 9.45l-7.72 7.72c-.78.78-.78 2.05 0 2.83L4 21.41c.39.39.9.59 1.41.59.51 0 1.02-.2 1.41-.59l7.78-7.78 2.81-2.81c.8-.78.8-2.07 0-2.86zM5.41 20L4 18.59l7.72-7.72 1.47 1.35L5.41 20z\"/>\n",
              "  </svg>\n",
              "      </button>\n",
              "      \n",
              "  <style>\n",
              "    .colab-df-container {\n",
              "      display:flex;\n",
              "      flex-wrap:wrap;\n",
              "      gap: 12px;\n",
              "    }\n",
              "\n",
              "    .colab-df-convert {\n",
              "      background-color: #E8F0FE;\n",
              "      border: none;\n",
              "      border-radius: 50%;\n",
              "      cursor: pointer;\n",
              "      display: none;\n",
              "      fill: #1967D2;\n",
              "      height: 32px;\n",
              "      padding: 0 0 0 0;\n",
              "      width: 32px;\n",
              "    }\n",
              "\n",
              "    .colab-df-convert:hover {\n",
              "      background-color: #E2EBFA;\n",
              "      box-shadow: 0px 1px 2px rgba(60, 64, 67, 0.3), 0px 1px 3px 1px rgba(60, 64, 67, 0.15);\n",
              "      fill: #174EA6;\n",
              "    }\n",
              "\n",
              "    [theme=dark] .colab-df-convert {\n",
              "      background-color: #3B4455;\n",
              "      fill: #D2E3FC;\n",
              "    }\n",
              "\n",
              "    [theme=dark] .colab-df-convert:hover {\n",
              "      background-color: #434B5C;\n",
              "      box-shadow: 0px 1px 3px 1px rgba(0, 0, 0, 0.15);\n",
              "      filter: drop-shadow(0px 1px 2px rgba(0, 0, 0, 0.3));\n",
              "      fill: #FFFFFF;\n",
              "    }\n",
              "  </style>\n",
              "\n",
              "      <script>\n",
              "        const buttonEl =\n",
              "          document.querySelector('#df-20a70892-1a2b-4499-b768-bdf6ae0dd5b5 button.colab-df-convert');\n",
              "        buttonEl.style.display =\n",
              "          google.colab.kernel.accessAllowed ? 'block' : 'none';\n",
              "\n",
              "        async function convertToInteractive(key) {\n",
              "          const element = document.querySelector('#df-20a70892-1a2b-4499-b768-bdf6ae0dd5b5');\n",
              "          const dataTable =\n",
              "            await google.colab.kernel.invokeFunction('convertToInteractive',\n",
              "                                                     [key], {});\n",
              "          if (!dataTable) return;\n",
              "\n",
              "          const docLinkHtml = 'Like what you see? Visit the ' +\n",
              "            '<a target=\"_blank\" href=https://colab.research.google.com/notebooks/data_table.ipynb>data table notebook</a>'\n",
              "            + ' to learn more about interactive tables.';\n",
              "          element.innerHTML = '';\n",
              "          dataTable['output_type'] = 'display_data';\n",
              "          await google.colab.output.renderOutput(dataTable, element);\n",
              "          const docLink = document.createElement('div');\n",
              "          docLink.innerHTML = docLinkHtml;\n",
              "          element.appendChild(docLink);\n",
              "        }\n",
              "      </script>\n",
              "    </div>\n",
              "  </div>\n",
              "  "
            ]
          },
          "metadata": {},
          "execution_count": 119
        }
      ]
    },
    {
      "cell_type": "code",
      "execution_count": 120,
      "metadata": {
        "id": "inKoCjpuZBtT"
      },
      "outputs": [],
      "source": [
        "data_for_model = data_for_model[data_for_model['GMV'] > 0]"
      ]
    },
    {
      "cell_type": "code",
      "execution_count": 121,
      "metadata": {
        "colab": {
          "base_uri": "https://localhost:8080/",
          "height": 300
        },
        "id": "ZMnRxTU6nlPw",
        "outputId": "94acb6f1-eda1-4ab4-d5b1-9c4115fecd35"
      },
      "outputs": [
        {
          "output_type": "execute_result",
          "data": {
            "text/plain": [
              "           Recency    Frequency            GMV\n",
              "count  2723.000000  2723.000000    2723.000000\n",
              "mean    297.552332     4.040397    6690.981874\n",
              "std     330.724800     2.780056   13208.942037\n",
              "min       0.000000     1.000000       2.128000\n",
              "25%      57.000000     1.000000     544.841420\n",
              "50%     158.000000     4.000000    1952.016350\n",
              "75%     427.500000     6.000000    6569.629536\n",
              "max    1458.000000    19.000000  178490.009500"
            ],
            "text/html": [
              "\n",
              "  <div id=\"df-a1d86167-b25d-4055-b63f-35cd88f0d6a0\">\n",
              "    <div class=\"colab-df-container\">\n",
              "      <div>\n",
              "<style scoped>\n",
              "    .dataframe tbody tr th:only-of-type {\n",
              "        vertical-align: middle;\n",
              "    }\n",
              "\n",
              "    .dataframe tbody tr th {\n",
              "        vertical-align: top;\n",
              "    }\n",
              "\n",
              "    .dataframe thead th {\n",
              "        text-align: right;\n",
              "    }\n",
              "</style>\n",
              "<table border=\"1\" class=\"dataframe\">\n",
              "  <thead>\n",
              "    <tr style=\"text-align: right;\">\n",
              "      <th></th>\n",
              "      <th>Recency</th>\n",
              "      <th>Frequency</th>\n",
              "      <th>GMV</th>\n",
              "    </tr>\n",
              "  </thead>\n",
              "  <tbody>\n",
              "    <tr>\n",
              "      <th>count</th>\n",
              "      <td>2723.000000</td>\n",
              "      <td>2723.000000</td>\n",
              "      <td>2723.000000</td>\n",
              "    </tr>\n",
              "    <tr>\n",
              "      <th>mean</th>\n",
              "      <td>297.552332</td>\n",
              "      <td>4.040397</td>\n",
              "      <td>6690.981874</td>\n",
              "    </tr>\n",
              "    <tr>\n",
              "      <th>std</th>\n",
              "      <td>330.724800</td>\n",
              "      <td>2.780056</td>\n",
              "      <td>13208.942037</td>\n",
              "    </tr>\n",
              "    <tr>\n",
              "      <th>min</th>\n",
              "      <td>0.000000</td>\n",
              "      <td>1.000000</td>\n",
              "      <td>2.128000</td>\n",
              "    </tr>\n",
              "    <tr>\n",
              "      <th>25%</th>\n",
              "      <td>57.000000</td>\n",
              "      <td>1.000000</td>\n",
              "      <td>544.841420</td>\n",
              "    </tr>\n",
              "    <tr>\n",
              "      <th>50%</th>\n",
              "      <td>158.000000</td>\n",
              "      <td>4.000000</td>\n",
              "      <td>1952.016350</td>\n",
              "    </tr>\n",
              "    <tr>\n",
              "      <th>75%</th>\n",
              "      <td>427.500000</td>\n",
              "      <td>6.000000</td>\n",
              "      <td>6569.629536</td>\n",
              "    </tr>\n",
              "    <tr>\n",
              "      <th>max</th>\n",
              "      <td>1458.000000</td>\n",
              "      <td>19.000000</td>\n",
              "      <td>178490.009500</td>\n",
              "    </tr>\n",
              "  </tbody>\n",
              "</table>\n",
              "</div>\n",
              "      <button class=\"colab-df-convert\" onclick=\"convertToInteractive('df-a1d86167-b25d-4055-b63f-35cd88f0d6a0')\"\n",
              "              title=\"Convert this dataframe to an interactive table.\"\n",
              "              style=\"display:none;\">\n",
              "        \n",
              "  <svg xmlns=\"http://www.w3.org/2000/svg\" height=\"24px\"viewBox=\"0 0 24 24\"\n",
              "       width=\"24px\">\n",
              "    <path d=\"M0 0h24v24H0V0z\" fill=\"none\"/>\n",
              "    <path d=\"M18.56 5.44l.94 2.06.94-2.06 2.06-.94-2.06-.94-.94-2.06-.94 2.06-2.06.94zm-11 1L8.5 8.5l.94-2.06 2.06-.94-2.06-.94L8.5 2.5l-.94 2.06-2.06.94zm10 10l.94 2.06.94-2.06 2.06-.94-2.06-.94-.94-2.06-.94 2.06-2.06.94z\"/><path d=\"M17.41 7.96l-1.37-1.37c-.4-.4-.92-.59-1.43-.59-.52 0-1.04.2-1.43.59L10.3 9.45l-7.72 7.72c-.78.78-.78 2.05 0 2.83L4 21.41c.39.39.9.59 1.41.59.51 0 1.02-.2 1.41-.59l7.78-7.78 2.81-2.81c.8-.78.8-2.07 0-2.86zM5.41 20L4 18.59l7.72-7.72 1.47 1.35L5.41 20z\"/>\n",
              "  </svg>\n",
              "      </button>\n",
              "      \n",
              "  <style>\n",
              "    .colab-df-container {\n",
              "      display:flex;\n",
              "      flex-wrap:wrap;\n",
              "      gap: 12px;\n",
              "    }\n",
              "\n",
              "    .colab-df-convert {\n",
              "      background-color: #E8F0FE;\n",
              "      border: none;\n",
              "      border-radius: 50%;\n",
              "      cursor: pointer;\n",
              "      display: none;\n",
              "      fill: #1967D2;\n",
              "      height: 32px;\n",
              "      padding: 0 0 0 0;\n",
              "      width: 32px;\n",
              "    }\n",
              "\n",
              "    .colab-df-convert:hover {\n",
              "      background-color: #E2EBFA;\n",
              "      box-shadow: 0px 1px 2px rgba(60, 64, 67, 0.3), 0px 1px 3px 1px rgba(60, 64, 67, 0.15);\n",
              "      fill: #174EA6;\n",
              "    }\n",
              "\n",
              "    [theme=dark] .colab-df-convert {\n",
              "      background-color: #3B4455;\n",
              "      fill: #D2E3FC;\n",
              "    }\n",
              "\n",
              "    [theme=dark] .colab-df-convert:hover {\n",
              "      background-color: #434B5C;\n",
              "      box-shadow: 0px 1px 3px 1px rgba(0, 0, 0, 0.15);\n",
              "      filter: drop-shadow(0px 1px 2px rgba(0, 0, 0, 0.3));\n",
              "      fill: #FFFFFF;\n",
              "    }\n",
              "  </style>\n",
              "\n",
              "      <script>\n",
              "        const buttonEl =\n",
              "          document.querySelector('#df-a1d86167-b25d-4055-b63f-35cd88f0d6a0 button.colab-df-convert');\n",
              "        buttonEl.style.display =\n",
              "          google.colab.kernel.accessAllowed ? 'block' : 'none';\n",
              "\n",
              "        async function convertToInteractive(key) {\n",
              "          const element = document.querySelector('#df-a1d86167-b25d-4055-b63f-35cd88f0d6a0');\n",
              "          const dataTable =\n",
              "            await google.colab.kernel.invokeFunction('convertToInteractive',\n",
              "                                                     [key], {});\n",
              "          if (!dataTable) return;\n",
              "\n",
              "          const docLinkHtml = 'Like what you see? Visit the ' +\n",
              "            '<a target=\"_blank\" href=https://colab.research.google.com/notebooks/data_table.ipynb>data table notebook</a>'\n",
              "            + ' to learn more about interactive tables.';\n",
              "          element.innerHTML = '';\n",
              "          dataTable['output_type'] = 'display_data';\n",
              "          await google.colab.output.renderOutput(dataTable, element);\n",
              "          const docLink = document.createElement('div');\n",
              "          docLink.innerHTML = docLinkHtml;\n",
              "          element.appendChild(docLink);\n",
              "        }\n",
              "      </script>\n",
              "    </div>\n",
              "  </div>\n",
              "  "
            ]
          },
          "metadata": {},
          "execution_count": 121
        }
      ],
      "source": [
        "data_for_model.describe()"
      ]
    },
    {
      "cell_type": "code",
      "execution_count": 122,
      "metadata": {
        "colab": {
          "base_uri": "https://localhost:8080/",
          "height": 379
        },
        "id": "l_30XgGRn5fs",
        "outputId": "36089542-79f0-4c4a-c8da-59aedeb55fc2"
      },
      "outputs": [
        {
          "output_type": "execute_result",
          "data": {
            "text/plain": [
              "<matplotlib.axes._subplots.AxesSubplot at 0x7f10d3465710>"
            ]
          },
          "metadata": {},
          "execution_count": 122
        },
        {
          "output_type": "display_data",
          "data": {
            "text/plain": [
              "<Figure size 576x396 with 1 Axes>"
            ],
            "image/png": "[encoded data removed]"
          },
          "metadata": {}
        }
      ],
      "source": [
        "sns.boxplot(data=data_for_model,x=\"Frequency\")"
      ]
    },
    {
      "cell_type": "code",
      "source": [
        "data_for_model['Recency']"
      ],
      "metadata": {
        "colab": {
          "base_uri": "https://localhost:8080/"
        },
        "id": "PfKYva-TabpM",
        "outputId": "54fa7d98-1f29-4a61-f316-e4affcfbbdfa"
      },
      "execution_count": 123,
      "outputs": [
        {
          "output_type": "execute_result",
          "data": {
            "text/plain": [
              "0       156\n",
              "1       884\n",
              "2       273\n",
              "3       221\n",
              "4        35\n",
              "       ... \n",
              "2718     70\n",
              "2719    424\n",
              "2720    496\n",
              "2721    568\n",
              "2722    144\n",
              "Name: Recency, Length: 2723, dtype: int64"
            ]
          },
          "metadata": {},
          "execution_count": 123
        }
      ]
    },
    {
      "cell_type": "code",
      "source": [
        "for i in range(4, 0, -1):\n",
        "  print(i)"
      ],
      "metadata": {
        "colab": {
          "base_uri": "https://localhost:8080/"
        },
        "id": "4W6vM_3ae9o9",
        "outputId": "cab9da1d-80ea-46e4-b034-cbc929794939"
      },
      "execution_count": 124,
      "outputs": [
        {
          "output_type": "stream",
          "name": "stdout",
          "text": [
            "4\n",
            "3\n",
            "2\n",
            "1\n"
          ]
        }
      ]
    },
    {
      "cell_type": "code",
      "source": [
        "r_labels = range(4, 0, -1)\n",
        "f_labels = range(1, 4)\n",
        "m_labels = range(1, 5)\n",
        "\n",
        "r_groups = pd.qcut(data_for_model['Recency'], q=4, labels = r_labels,duplicates=\"drop\")\n",
        "f_groups = pd.qcut(data_for_model['Frequency'], q=3, labels = f_labels,duplicates=\"drop\")\n",
        "m_groups = pd.qcut(data_for_model['GMV'], q=4, labels = m_labels)"
      ],
      "metadata": {
        "id": "Imd82sDfzO-0"
      },
      "execution_count": 125,
      "outputs": []
    },
    {
      "cell_type": "code",
      "execution_count": 126,
      "metadata": {
        "colab": {
          "base_uri": "https://localhost:8080/"
        },
        "id": "zHzyI1yyZFku",
        "outputId": "8cfbe759-e071-4655-de42-7182f4a2c7a3"
      },
      "outputs": [
        {
          "output_type": "execute_result",
          "data": {
            "text/plain": [
              "[1, 2, 3]\n",
              "Categories (3, int64): [1 < 2 < 3]"
            ]
          },
          "metadata": {},
          "execution_count": 126
        }
      ],
      "source": [
        "f_groups.unique()"
      ]
    },
    {
      "cell_type": "code",
      "execution_count": 127,
      "metadata": {
        "id": "LdT7Mascqw8D"
      },
      "outputs": [],
      "source": [
        "data_for_model = data_for_model.assign(R = r_groups.values, F = f_groups.values, M = m_groups.values)"
      ]
    },
    {
      "cell_type": "code",
      "execution_count": 128,
      "metadata": {
        "id": "a0H-XoGKpVDy"
      },
      "outputs": [],
      "source": [
        "data_for_model['rfm_score'] = data_for_model[['R','F','M']].apply(\n",
        "    lambda x: ''.join(x.astype(str)),\n",
        "    axis=1\n",
        ")"
      ]
    },
    {
      "cell_type": "code",
      "execution_count": 129,
      "metadata": {
        "id": "hTIL7MoOrEIS"
      },
      "outputs": [],
      "source": [
        "data_for_model['rfm_score'] = data_for_model['rfm_score'].astype('int')"
      ]
    },
    {
      "cell_type": "code",
      "execution_count": 130,
      "metadata": {
        "colab": {
          "base_uri": "https://localhost:8080/",
          "height": 206
        },
        "id": "nmgdNIxcrIAJ",
        "outputId": "bebef4f9-d725-45e7-9f73-817d977edb44"
      },
      "outputs": [
        {
          "output_type": "execute_result",
          "data": {
            "text/plain": [
              "        product_id  Recency  Frequency           GMV  R  F  M  rfm_score\n",
              "0  FUR-BO-10000008      156          1    651.447200  3  1  2        312\n",
              "1  FUR-BO-10000021      884          1    552.300000  1  1  2        112\n",
              "2  FUR-BO-10000035      273          5  42265.141656  2  2  4        224\n",
              "3  FUR-BO-10000071      221          8   8834.432500  2  3  4        234\n",
              "4  FUR-BO-10000087       35          3  13202.110832  4  2  4        424"
            ],
            "text/html": [
              "\n",
              "  <div id=\"df-fa79a232-3c29-4970-8dad-07acbeec5da6\">\n",
              "    <div class=\"colab-df-container\">\n",
              "      <div>\n",
              "<style scoped>\n",
              "    .dataframe tbody tr th:only-of-type {\n",
              "        vertical-align: middle;\n",
              "    }\n",
              "\n",
              "    .dataframe tbody tr th {\n",
              "        vertical-align: top;\n",
              "    }\n",
              "\n",
              "    .dataframe thead th {\n",
              "        text-align: right;\n",
              "    }\n",
              "</style>\n",
              "<table border=\"1\" class=\"dataframe\">\n",
              "  <thead>\n",
              "    <tr style=\"text-align: right;\">\n",
              "      <th></th>\n",
              "      <th>product_id</th>\n",
              "      <th>Recency</th>\n",
              "      <th>Frequency</th>\n",
              "      <th>GMV</th>\n",
              "      <th>R</th>\n",
              "      <th>F</th>\n",
              "      <th>M</th>\n",
              "      <th>rfm_score</th>\n",
              "    </tr>\n",
              "  </thead>\n",
              "  <tbody>\n",
              "    <tr>\n",
              "      <th>0</th>\n",
              "      <td>FUR-BO-10000008</td>\n",
              "      <td>156</td>\n",
              "      <td>1</td>\n",
              "      <td>651.447200</td>\n",
              "      <td>3</td>\n",
              "      <td>1</td>\n",
              "      <td>2</td>\n",
              "      <td>312</td>\n",
              "    </tr>\n",
              "    <tr>\n",
              "      <th>1</th>\n",
              "      <td>FUR-BO-10000021</td>\n",
              "      <td>884</td>\n",
              "      <td>1</td>\n",
              "      <td>552.300000</td>\n",
              "      <td>1</td>\n",
              "      <td>1</td>\n",
              "      <td>2</td>\n",
              "      <td>112</td>\n",
              "    </tr>\n",
              "    <tr>\n",
              "      <th>2</th>\n",
              "      <td>FUR-BO-10000035</td>\n",
              "      <td>273</td>\n",
              "      <td>5</td>\n",
              "      <td>42265.141656</td>\n",
              "      <td>2</td>\n",
              "      <td>2</td>\n",
              "      <td>4</td>\n",
              "      <td>224</td>\n",
              "    </tr>\n",
              "    <tr>\n",
              "      <th>3</th>\n",
              "      <td>FUR-BO-10000071</td>\n",
              "      <td>221</td>\n",
              "      <td>8</td>\n",
              "      <td>8834.432500</td>\n",
              "      <td>2</td>\n",
              "      <td>3</td>\n",
              "      <td>4</td>\n",
              "      <td>234</td>\n",
              "    </tr>\n",
              "    <tr>\n",
              "      <th>4</th>\n",
              "      <td>FUR-BO-10000087</td>\n",
              "      <td>35</td>\n",
              "      <td>3</td>\n",
              "      <td>13202.110832</td>\n",
              "      <td>4</td>\n",
              "      <td>2</td>\n",
              "      <td>4</td>\n",
              "      <td>424</td>\n",
              "    </tr>\n",
              "  </tbody>\n",
              "</table>\n",
              "</div>\n",
              "      <button class=\"colab-df-convert\" onclick=\"convertToInteractive('df-fa79a232-3c29-4970-8dad-07acbeec5da6')\"\n",
              "              title=\"Convert this dataframe to an interactive table.\"\n",
              "              style=\"display:none;\">\n",
              "        \n",
              "  <svg xmlns=\"http://www.w3.org/2000/svg\" height=\"24px\"viewBox=\"0 0 24 24\"\n",
              "       width=\"24px\">\n",
              "    <path d=\"M0 0h24v24H0V0z\" fill=\"none\"/>\n",
              "    <path d=\"M18.56 5.44l.94 2.06.94-2.06 2.06-.94-2.06-.94-.94-2.06-.94 2.06-2.06.94zm-11 1L8.5 8.5l.94-2.06 2.06-.94-2.06-.94L8.5 2.5l-.94 2.06-2.06.94zm10 10l.94 2.06.94-2.06 2.06-.94-2.06-.94-.94-2.06-.94 2.06-2.06.94z\"/><path d=\"M17.41 7.96l-1.37-1.37c-.4-.4-.92-.59-1.43-.59-.52 0-1.04.2-1.43.59L10.3 9.45l-7.72 7.72c-.78.78-.78 2.05 0 2.83L4 21.41c.39.39.9.59 1.41.59.51 0 1.02-.2 1.41-.59l7.78-7.78 2.81-2.81c.8-.78.8-2.07 0-2.86zM5.41 20L4 18.59l7.72-7.72 1.47 1.35L5.41 20z\"/>\n",
              "  </svg>\n",
              "      </button>\n",
              "      \n",
              "  <style>\n",
              "    .colab-df-container {\n",
              "      display:flex;\n",
              "      flex-wrap:wrap;\n",
              "      gap: 12px;\n",
              "    }\n",
              "\n",
              "    .colab-df-convert {\n",
              "      background-color: #E8F0FE;\n",
              "      border: none;\n",
              "      border-radius: 50%;\n",
              "      cursor: pointer;\n",
              "      display: none;\n",
              "      fill: #1967D2;\n",
              "      height: 32px;\n",
              "      padding: 0 0 0 0;\n",
              "      width: 32px;\n",
              "    }\n",
              "\n",
              "    .colab-df-convert:hover {\n",
              "      background-color: #E2EBFA;\n",
              "      box-shadow: 0px 1px 2px rgba(60, 64, 67, 0.3), 0px 1px 3px 1px rgba(60, 64, 67, 0.15);\n",
              "      fill: #174EA6;\n",
              "    }\n",
              "\n",
              "    [theme=dark] .colab-df-convert {\n",
              "      background-color: #3B4455;\n",
              "      fill: #D2E3FC;\n",
              "    }\n",
              "\n",
              "    [theme=dark] .colab-df-convert:hover {\n",
              "      background-color: #434B5C;\n",
              "      box-shadow: 0px 1px 3px 1px rgba(0, 0, 0, 0.15);\n",
              "      filter: drop-shadow(0px 1px 2px rgba(0, 0, 0, 0.3));\n",
              "      fill: #FFFFFF;\n",
              "    }\n",
              "  </style>\n",
              "\n",
              "      <script>\n",
              "        const buttonEl =\n",
              "          document.querySelector('#df-fa79a232-3c29-4970-8dad-07acbeec5da6 button.colab-df-convert');\n",
              "        buttonEl.style.display =\n",
              "          google.colab.kernel.accessAllowed ? 'block' : 'none';\n",
              "\n",
              "        async function convertToInteractive(key) {\n",
              "          const element = document.querySelector('#df-fa79a232-3c29-4970-8dad-07acbeec5da6');\n",
              "          const dataTable =\n",
              "            await google.colab.kernel.invokeFunction('convertToInteractive',\n",
              "                                                     [key], {});\n",
              "          if (!dataTable) return;\n",
              "\n",
              "          const docLinkHtml = 'Like what you see? Visit the ' +\n",
              "            '<a target=\"_blank\" href=https://colab.research.google.com/notebooks/data_table.ipynb>data table notebook</a>'\n",
              "            + ' to learn more about interactive tables.';\n",
              "          element.innerHTML = '';\n",
              "          dataTable['output_type'] = 'display_data';\n",
              "          await google.colab.output.renderOutput(dataTable, element);\n",
              "          const docLink = document.createElement('div');\n",
              "          docLink.innerHTML = docLinkHtml;\n",
              "          element.appendChild(docLink);\n",
              "        }\n",
              "      </script>\n",
              "    </div>\n",
              "  </div>\n",
              "  "
            ]
          },
          "metadata": {},
          "execution_count": 130
        }
      ],
      "source": [
        "data_for_model.head()"
      ]
    },
    {
      "cell_type": "code",
      "execution_count": 131,
      "metadata": {
        "colab": {
          "base_uri": "https://localhost:8080/",
          "height": 379
        },
        "id": "XOq0yZQOrL6B",
        "outputId": "68897ef8-0b13-46aa-d309-b3cb6b7f7b51"
      },
      "outputs": [
        {
          "output_type": "execute_result",
          "data": {
            "text/plain": [
              "<matplotlib.axes._subplots.AxesSubplot at 0x7f10d2ffd9d0>"
            ]
          },
          "metadata": {},
          "execution_count": 131
        },
        {
          "output_type": "display_data",
          "data": {
            "text/plain": [
              "<Figure size 576x396 with 2 Axes>"
            ],
            "image/png": "[encoded data removed]"
          },
          "metadata": {}
        }
      ],
      "source": [
        "sns.heatmap(\n",
        "    pd.pivot_table(data_for_model[[\"R\", \"F\",\"GMV\"]], values = \"GMV\", index = [\"R\"], columns = [\"F\"])\n",
        ")"
      ]
    },
    {
      "cell_type": "code",
      "execution_count": 132,
      "metadata": {
        "id": "c2P7lXhjrSpl"
      },
      "outputs": [],
      "source": [
        "rfm_bar_data = data_for_model[[\"R\", \"F\", \"M\"]].groupby([\"R\",\"F\",\"M\"], as_index = False).size()"
      ]
    },
    {
      "cell_type": "code",
      "execution_count": 133,
      "metadata": {
        "colab": {
          "base_uri": "https://localhost:8080/",
          "height": 926
        },
        "id": "7xfm-J26rXo-",
        "outputId": "58405523-49a4-4202-9f57-e29e9b8b43e9"
      },
      "outputs": [
        {
          "output_type": "stream",
          "name": "stderr",
          "text": [
            "/usr/local/lib/python3.7/dist-packages/seaborn/axisgrid.py:670: UserWarning: Using the barplot function without specifying `order` is likely to produce an incorrect plot.\n",
            "  warnings.warn(warning)\n"
          ]
        },
        {
          "output_type": "display_data",
          "data": {
            "text/plain": [
              "<Figure size 648x864 with 12 Axes>"
            ],
            "image/png": "[encoded data removed]"
          },
          "metadata": {}
        }
      ],
      "source": [
        "g = sns.FacetGrid(\n",
        "    data = rfm_bar_data,\n",
        "    col = \"F\",\n",
        "    row = \"R\"\n",
        ")\n",
        "g.map(sns.barplot, \"M\", \"size\");"
      ]
    },
    {
      "cell_type": "code",
      "execution_count": 134,
      "metadata": {
        "colab": {
          "base_uri": "https://localhost:8080/",
          "height": 221
        },
        "id": "14gkMpZTrc_s",
        "outputId": "13f38451-b0be-4f03-cb0e-dd152389d8fa"
      },
      "outputs": [
        {
          "output_type": "display_data",
          "data": {
            "text/plain": [
              "<Figure size 648x216 with 3 Axes>"
            ],
            "image/png": "[encoded data removed]"
          },
          "metadata": {}
        }
      ],
      "source": [
        "g = sns.FacetGrid(\n",
        "    data = pd.melt(\n",
        "     data_for_model[[\"Recency\", \"Frequency\",\"GMV\"]],\n",
        "     value_vars=[\"Recency\",\"Frequency\", \"GMV\"]\n",
        "    ),\n",
        "    col = \"variable\",\n",
        "    sharex = False,\n",
        "    sharey = False\n",
        ")\n",
        "g.map(sns.histplot, \"value\");"
      ]
    },
    {
      "cell_type": "code",
      "execution_count": 135,
      "metadata": {
        "colab": {
          "base_uri": "https://localhost:8080/",
          "height": 743
        },
        "id": "DcFmC8xmriMl",
        "outputId": "050e2888-9b5d-4de8-f728-8618a005a046"
      },
      "outputs": [
        {
          "output_type": "execute_result",
          "data": {
            "text/plain": [
              "<seaborn.axisgrid.FacetGrid at 0x7f10d32670d0>"
            ]
          },
          "metadata": {},
          "execution_count": 135
        },
        {
          "output_type": "display_data",
          "data": {
            "text/plain": [
              "<Figure size 720x720 with 1 Axes>"
            ],
            "image/png": "[encoded data removed]"
          },
          "metadata": {}
        }
      ],
      "source": [
        "sns.catplot(\n",
        "    y = \"rfm_score\", \n",
        "    data = data_for_model.sort_values(by = [\"rfm_score\"], axis = 0), \n",
        "    kind = \"count\", \n",
        "    height = 10\n",
        ")"
      ]
    },
    {
      "cell_type": "code",
      "execution_count": 136,
      "metadata": {
        "id": "zbxHY5DRrove"
      },
      "outputs": [],
      "source": [
        "data_for_model['rfm_segment'] = np.select(\n",
        "    [\n",
        "     data_for_model['rfm_score'].isin([444]),\n",
        "     data_for_model['rfm_score'].isin([333, 334, 343, 344, 433, 434, 443]),\n",
        "     data_for_model['rfm_score'].isin([321, 322, 323, 324, 331, 332, 341, 342, 412, 413, 414, 421, 422, 423, 424, 431, 432, 441, 442]),\n",
        "     data_for_model['rfm_score'].isin([411]),\n",
        "     data_for_model['rfm_score'].isin([221, 222, 223, 224, 231, 232, 241, 242, 311, 312, 313, 314]),\n",
        "     data_for_model['rfm_score'].isin([133, 134, 143, 144, 233, 234, 243, 244]),\n",
        "     data_for_model['rfm_score'].isin([112, 113, 114, 121, 122, 123, 124, 131, 132, 141, 142, 211, 212, 213, 214]),\n",
        "     data_for_model['rfm_score'].isin([111])\n",
        "    ],\n",
        "    [\n",
        "     'Champion',\n",
        "     'Loyal Customer',\n",
        "     'Promising',\n",
        "     'Recent Customers',\n",
        "     'Customer Needing Attention',\n",
        "     \"Can't Lose Them\",\n",
        "     \"At Risk\",\n",
        "     \"Lost\"\n",
        "    ]\n",
        ")"
      ]
    },
    {
      "cell_type": "code",
      "execution_count": 137,
      "metadata": {
        "colab": {
          "base_uri": "https://localhost:8080/",
          "height": 467
        },
        "id": "pW6ZP8OCrvjU",
        "outputId": "6ed03685-b4d5-4645-e16d-40f30a253ea2"
      },
      "outputs": [
        {
          "output_type": "execute_result",
          "data": {
            "text/plain": [
              "           product_id  Recency  Frequency           GMV  R  F  M  rfm_score  \\\n",
              "0     FUR-BO-10000008      156          1    651.447200  3  1  2        312   \n",
              "1     FUR-BO-10000021      884          1    552.300000  1  1  2        112   \n",
              "2     FUR-BO-10000035      273          5  42265.141656  2  2  4        224   \n",
              "3     FUR-BO-10000071      221          8   8834.432500  2  3  4        234   \n",
              "4     FUR-BO-10000087       35          3  13202.110832  4  2  4        424   \n",
              "...               ...      ...        ...           ... .. .. ..        ...   \n",
              "2718  TEC-PH-10004760       70          4   1897.416780  3  2  2        322   \n",
              "2719  TEC-PH-10004800      424          2   3051.992000  2  1  3        213   \n",
              "2720  TEC-PH-10004933      496          3   2172.993700  1  2  3        123   \n",
              "2721  TEC-PH-10004940      568          1   2523.200000  1  1  3        113   \n",
              "2722  TEC-PH-10004959      144          5   7537.602500  3  2  4        324   \n",
              "\n",
              "                     rfm_segment  \n",
              "0     Customer Needing Attention  \n",
              "1                        At Risk  \n",
              "2     Customer Needing Attention  \n",
              "3                Can't Lose Them  \n",
              "4                      Promising  \n",
              "...                          ...  \n",
              "2718                   Promising  \n",
              "2719                     At Risk  \n",
              "2720                     At Risk  \n",
              "2721                     At Risk  \n",
              "2722                   Promising  \n",
              "\n",
              "[2723 rows x 9 columns]"
            ],
            "text/html": [
              "\n",
              "  <div id=\"df-49274b64-337e-40c6-8d24-fbfbafe7b087\">\n",
              "    <div class=\"colab-df-container\">\n",
              "      <div>\n",
              "<style scoped>\n",
              "    .dataframe tbody tr th:only-of-type {\n",
              "        vertical-align: middle;\n",
              "    }\n",
              "\n",
              "    .dataframe tbody tr th {\n",
              "        vertical-align: top;\n",
              "    }\n",
              "\n",
              "    .dataframe thead th {\n",
              "        text-align: right;\n",
              "    }\n",
              "</style>\n",
              "<table border=\"1\" class=\"dataframe\">\n",
              "  <thead>\n",
              "    <tr style=\"text-align: right;\">\n",
              "      <th></th>\n",
              "      <th>product_id</th>\n",
              "      <th>Recency</th>\n",
              "      <th>Frequency</th>\n",
              "      <th>GMV</th>\n",
              "      <th>R</th>\n",
              "      <th>F</th>\n",
              "      <th>M</th>\n",
              "      <th>rfm_score</th>\n",
              "      <th>rfm_segment</th>\n",
              "    </tr>\n",
              "  </thead>\n",
              "  <tbody>\n",
              "    <tr>\n",
              "      <th>0</th>\n",
              "      <td>FUR-BO-10000008</td>\n",
              "      <td>156</td>\n",
              "      <td>1</td>\n",
              "      <td>651.447200</td>\n",
              "      <td>3</td>\n",
              "      <td>1</td>\n",
              "      <td>2</td>\n",
              "      <td>312</td>\n",
              "      <td>Customer Needing Attention</td>\n",
              "    </tr>\n",
              "    <tr>\n",
              "      <th>1</th>\n",
              "      <td>FUR-BO-10000021</td>\n",
              "      <td>884</td>\n",
              "      <td>1</td>\n",
              "      <td>552.300000</td>\n",
              "      <td>1</td>\n",
              "      <td>1</td>\n",
              "      <td>2</td>\n",
              "      <td>112</td>\n",
              "      <td>At Risk</td>\n",
              "    </tr>\n",
              "    <tr>\n",
              "      <th>2</th>\n",
              "      <td>FUR-BO-10000035</td>\n",
              "      <td>273</td>\n",
              "      <td>5</td>\n",
              "      <td>42265.141656</td>\n",
              "      <td>2</td>\n",
              "      <td>2</td>\n",
              "      <td>4</td>\n",
              "      <td>224</td>\n",
              "      <td>Customer Needing Attention</td>\n",
              "    </tr>\n",
              "    <tr>\n",
              "      <th>3</th>\n",
              "      <td>FUR-BO-10000071</td>\n",
              "      <td>221</td>\n",
              "      <td>8</td>\n",
              "      <td>8834.432500</td>\n",
              "      <td>2</td>\n",
              "      <td>3</td>\n",
              "      <td>4</td>\n",
              "      <td>234</td>\n",
              "      <td>Can't Lose Them</td>\n",
              "    </tr>\n",
              "    <tr>\n",
              "      <th>4</th>\n",
              "      <td>FUR-BO-10000087</td>\n",
              "      <td>35</td>\n",
              "      <td>3</td>\n",
              "      <td>13202.110832</td>\n",
              "      <td>4</td>\n",
              "      <td>2</td>\n",
              "      <td>4</td>\n",
              "      <td>424</td>\n",
              "      <td>Promising</td>\n",
              "    </tr>\n",
              "    <tr>\n",
              "      <th>...</th>\n",
              "      <td>...</td>\n",
              "      <td>...</td>\n",
              "      <td>...</td>\n",
              "      <td>...</td>\n",
              "      <td>...</td>\n",
              "      <td>...</td>\n",
              "      <td>...</td>\n",
              "      <td>...</td>\n",
              "      <td>...</td>\n",
              "    </tr>\n",
              "    <tr>\n",
              "      <th>2718</th>\n",
              "      <td>TEC-PH-10004760</td>\n",
              "      <td>70</td>\n",
              "      <td>4</td>\n",
              "      <td>1897.416780</td>\n",
              "      <td>3</td>\n",
              "      <td>2</td>\n",
              "      <td>2</td>\n",
              "      <td>322</td>\n",
              "      <td>Promising</td>\n",
              "    </tr>\n",
              "    <tr>\n",
              "      <th>2719</th>\n",
              "      <td>TEC-PH-10004800</td>\n",
              "      <td>424</td>\n",
              "      <td>2</td>\n",
              "      <td>3051.992000</td>\n",
              "      <td>2</td>\n",
              "      <td>1</td>\n",
              "      <td>3</td>\n",
              "      <td>213</td>\n",
              "      <td>At Risk</td>\n",
              "    </tr>\n",
              "    <tr>\n",
              "      <th>2720</th>\n",
              "      <td>TEC-PH-10004933</td>\n",
              "      <td>496</td>\n",
              "      <td>3</td>\n",
              "      <td>2172.993700</td>\n",
              "      <td>1</td>\n",
              "      <td>2</td>\n",
              "      <td>3</td>\n",
              "      <td>123</td>\n",
              "      <td>At Risk</td>\n",
              "    </tr>\n",
              "    <tr>\n",
              "      <th>2721</th>\n",
              "      <td>TEC-PH-10004940</td>\n",
              "      <td>568</td>\n",
              "      <td>1</td>\n",
              "      <td>2523.200000</td>\n",
              "      <td>1</td>\n",
              "      <td>1</td>\n",
              "      <td>3</td>\n",
              "      <td>113</td>\n",
              "      <td>At Risk</td>\n",
              "    </tr>\n",
              "    <tr>\n",
              "      <th>2722</th>\n",
              "      <td>TEC-PH-10004959</td>\n",
              "      <td>144</td>\n",
              "      <td>5</td>\n",
              "      <td>7537.602500</td>\n",
              "      <td>3</td>\n",
              "      <td>2</td>\n",
              "      <td>4</td>\n",
              "      <td>324</td>\n",
              "      <td>Promising</td>\n",
              "    </tr>\n",
              "  </tbody>\n",
              "</table>\n",
              "<p>2723 rows × 9 columns</p>\n",
              "</div>\n",
              "      <button class=\"colab-df-convert\" onclick=\"convertToInteractive('df-49274b64-337e-40c6-8d24-fbfbafe7b087')\"\n",
              "              title=\"Convert this dataframe to an interactive table.\"\n",
              "              style=\"display:none;\">\n",
              "        \n",
              "  <svg xmlns=\"http://www.w3.org/2000/svg\" height=\"24px\"viewBox=\"0 0 24 24\"\n",
              "       width=\"24px\">\n",
              "    <path d=\"M0 0h24v24H0V0z\" fill=\"none\"/>\n",
              "    <path d=\"M18.56 5.44l.94 2.06.94-2.06 2.06-.94-2.06-.94-.94-2.06-.94 2.06-2.06.94zm-11 1L8.5 8.5l.94-2.06 2.06-.94-2.06-.94L8.5 2.5l-.94 2.06-2.06.94zm10 10l.94 2.06.94-2.06 2.06-.94-2.06-.94-.94-2.06-.94 2.06-2.06.94z\"/><path d=\"M17.41 7.96l-1.37-1.37c-.4-.4-.92-.59-1.43-.59-.52 0-1.04.2-1.43.59L10.3 9.45l-7.72 7.72c-.78.78-.78 2.05 0 2.83L4 21.41c.39.39.9.59 1.41.59.51 0 1.02-.2 1.41-.59l7.78-7.78 2.81-2.81c.8-.78.8-2.07 0-2.86zM5.41 20L4 18.59l7.72-7.72 1.47 1.35L5.41 20z\"/>\n",
              "  </svg>\n",
              "      </button>\n",
              "      \n",
              "  <style>\n",
              "    .colab-df-container {\n",
              "      display:flex;\n",
              "      flex-wrap:wrap;\n",
              "      gap: 12px;\n",
              "    }\n",
              "\n",
              "    .colab-df-convert {\n",
              "      background-color: #E8F0FE;\n",
              "      border: none;\n",
              "      border-radius: 50%;\n",
              "      cursor: pointer;\n",
              "      display: none;\n",
              "      fill: #1967D2;\n",
              "      height: 32px;\n",
              "      padding: 0 0 0 0;\n",
              "      width: 32px;\n",
              "    }\n",
              "\n",
              "    .colab-df-convert:hover {\n",
              "      background-color: #E2EBFA;\n",
              "      box-shadow: 0px 1px 2px rgba(60, 64, 67, 0.3), 0px 1px 3px 1px rgba(60, 64, 67, 0.15);\n",
              "      fill: #174EA6;\n",
              "    }\n",
              "\n",
              "    [theme=dark] .colab-df-convert {\n",
              "      background-color: #3B4455;\n",
              "      fill: #D2E3FC;\n",
              "    }\n",
              "\n",
              "    [theme=dark] .colab-df-convert:hover {\n",
              "      background-color: #434B5C;\n",
              "      box-shadow: 0px 1px 3px 1px rgba(0, 0, 0, 0.15);\n",
              "      filter: drop-shadow(0px 1px 2px rgba(0, 0, 0, 0.3));\n",
              "      fill: #FFFFFF;\n",
              "    }\n",
              "  </style>\n",
              "\n",
              "      <script>\n",
              "        const buttonEl =\n",
              "          document.querySelector('#df-49274b64-337e-40c6-8d24-fbfbafe7b087 button.colab-df-convert');\n",
              "        buttonEl.style.display =\n",
              "          google.colab.kernel.accessAllowed ? 'block' : 'none';\n",
              "\n",
              "        async function convertToInteractive(key) {\n",
              "          const element = document.querySelector('#df-49274b64-337e-40c6-8d24-fbfbafe7b087');\n",
              "          const dataTable =\n",
              "            await google.colab.kernel.invokeFunction('convertToInteractive',\n",
              "                                                     [key], {});\n",
              "          if (!dataTable) return;\n",
              "\n",
              "          const docLinkHtml = 'Like what you see? Visit the ' +\n",
              "            '<a target=\"_blank\" href=https://colab.research.google.com/notebooks/data_table.ipynb>data table notebook</a>'\n",
              "            + ' to learn more about interactive tables.';\n",
              "          element.innerHTML = '';\n",
              "          dataTable['output_type'] = 'display_data';\n",
              "          await google.colab.output.renderOutput(dataTable, element);\n",
              "          const docLink = document.createElement('div');\n",
              "          docLink.innerHTML = docLinkHtml;\n",
              "          element.appendChild(docLink);\n",
              "        }\n",
              "      </script>\n",
              "    </div>\n",
              "  </div>\n",
              "  "
            ]
          },
          "metadata": {},
          "execution_count": 137
        }
      ],
      "source": [
        "data_for_model"
      ]
    },
    {
      "cell_type": "code",
      "execution_count": 138,
      "metadata": {
        "colab": {
          "base_uri": "https://localhost:8080/",
          "height": 725
        },
        "id": "l1cRsXwPrz1B",
        "outputId": "f6de2859-f71f-4d33-90a3-88d685bcf8c1"
      },
      "outputs": [
        {
          "output_type": "display_data",
          "data": {
            "text/plain": [
              "<Figure size 720x720 with 1 Axes>"
            ],
            "image/png": "[encoded data removed]"
          },
          "metadata": {}
        }
      ],
      "source": [
        "sns.catplot(\n",
        "    y = \"rfm_segment\", \n",
        "    data = data_for_model.sort_values(by = [\"rfm_score\"], axis = 0), \n",
        "    kind = \"count\", \n",
        "    height = 10\n",
        ");"
      ]
    },
    {
      "cell_type": "markdown",
      "source": [
        "Dilihat dari hasil data tersebut menggunakan metode RFM Segmentation. Dimana kali ini kita melihat market terbesar berada di APAC \n",
        "\n",
        "Yang dimana kita ingin melihat seberapa seringkah mereka melakukan pembelanjaan dan berapa lama mereka akan kembali lagi untuk berbelanja kembali.\n",
        "\n",
        "Dilihat berdasarkan product yang di beli market APAC cenderung memiliki pola customer yang berbelanja berkategori promosing. Dimana customer berkunjung kembali dalam waktu yang sangat lama dan membeli kembali dengan jumlah yang sedikit bahkan biaya yang dikeluarkan kebanyakan rata-rata.\n",
        "\n",
        "Yang berarti kita perlu memberikan memberikan mereka penawaran product baru. yang dimana terlihat product-product yang di jual memiliki ketahanan barang untuk jangka panjang atau barang yang bukan merupakan kebutuhan sehari-hari. Jadi cukup lama  customer dapat berbelanja kembali untuk membeli product tersebut\n",
        "\n",
        "Maka saran yang bisa di berikan adalah menawarkan barang yang cepat bisa di beli kembali , yang merupakan kebutuhan untuk waktu-waktu singkat. Agar rentang waktu mereka berkunjung tidak terlalu jauh dan membeli keperluan barang tersebut tidak sedikit."
      ],
      "metadata": {
        "id": "lj8hq-ipJPFA"
      }
    }
  ],
  "metadata": {
    "colab": {
      "collapsed_sections": [],
      "name": "Vera Noviani - Case Study - Customer Segmentation.ipynb",
      "provenance": [],
      "toc_visible": true,
      "include_colab_link": true
    },
    "kernelspec": {
      "display_name": "Python 3",
      "name": "python3"
    },
    "language_info": {
      "name": "python"
    }
  },
  "nbformat": 4,
  "nbformat_minor": 0
}